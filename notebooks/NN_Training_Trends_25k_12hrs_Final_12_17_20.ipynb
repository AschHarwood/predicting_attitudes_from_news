{
 "cells": [
  {
   "cell_type": "markdown",
   "metadata": {},
   "source": [
    "# Imports"
   ]
  },
  {
   "cell_type": "code",
   "execution_count": 1,
   "metadata": {},
   "outputs": [
    {
     "name": "stdout",
     "output_type": "stream",
     "text": [
      "Version:  2.2.0\n",
      "Eager mode:  True\n",
      "Hub version:  0.10.0\n",
      "GPU is available\n"
     ]
    }
   ],
   "source": [
    "from tensorflow.keras import regularizers\n",
    "\n",
    "from tensorflow.keras.layers import Dense, Flatten, LSTM, Conv1D, MaxPooling1D, Dropout, Activation\n",
    "\n",
    "import matplotlib.pyplot as plt\n",
    "\n",
    "%matplotlib inline\n",
    "\n",
    "import numpy as np\n",
    "from sklearn.model_selection import train_test_split\n",
    "\n",
    "\n",
    "#!pip install tensorflow-hub\n",
    "#!pip install tensorflow-datasets\n",
    "import tensorflow_hub as hub\n",
    "\n",
    "import tensorflow as tf\n",
    "\n",
    "print(\"Version: \", tf.__version__)\n",
    "print(\"Eager mode: \", tf.executing_eagerly())\n",
    "print(\"Hub version: \", hub.__version__)\n",
    "print(\"GPU is\", \"available\" if tf.config.experimental.list_physical_devices(\"GPU\") else \"NOT AVAILABLE\")\n",
    "\n",
    "import pandas as pd\n",
    "import spacy\n",
    "# !pip install spacy\n",
    "# !python -m spacy download en_core_web_sm\n",
    "# import spacy\n",
    "# nlp = spacy.load('en_core_web_sm')"
   ]
  },
  {
   "cell_type": "code",
   "execution_count": 10,
   "metadata": {},
   "outputs": [],
   "source": [
    "#read in dataset\n",
    "df = pd.read_csv('final_aggregated_data_set_Oct_26.csv')"
   ]
  },
  {
   "cell_type": "code",
   "execution_count": 12,
   "metadata": {},
   "outputs": [
    {
     "data": {
      "text/html": [
       "<div>\n",
       "<style scoped>\n",
       "    .dataframe tbody tr th:only-of-type {\n",
       "        vertical-align: middle;\n",
       "    }\n",
       "\n",
       "    .dataframe tbody tr th {\n",
       "        vertical-align: top;\n",
       "    }\n",
       "\n",
       "    .dataframe thead th {\n",
       "        text-align: right;\n",
       "    }\n",
       "</style>\n",
       "<table border=\"1\" class=\"dataframe\">\n",
       "  <thead>\n",
       "    <tr style=\"text-align: right;\">\n",
       "      <th></th>\n",
       "      <th>Unnamed: 0</th>\n",
       "      <th>date</th>\n",
       "      <th>depression</th>\n",
       "      <th>anxiety</th>\n",
       "      <th>government</th>\n",
       "      <th>politics</th>\n",
       "      <th>democracy</th>\n",
       "      <th>title_text</th>\n",
       "      <th>avg_tone</th>\n",
       "      <th>pos_words</th>\n",
       "      <th>neg_words</th>\n",
       "      <th>polarity</th>\n",
       "      <th>act_ref_density</th>\n",
       "      <th>self_group_density</th>\n",
       "      <th>word_count</th>\n",
       "      <th>depression_binary</th>\n",
       "      <th>shifted_12h</th>\n",
       "    </tr>\n",
       "  </thead>\n",
       "  <tbody>\n",
       "    <tr>\n",
       "      <th>0</th>\n",
       "      <td>0</td>\n",
       "      <td>2015-03-02 10:00:00</td>\n",
       "      <td>15.0</td>\n",
       "      <td>16.0</td>\n",
       "      <td>71.0</td>\n",
       "      <td>4.0</td>\n",
       "      <td>2.0</td>\n",
       "      <td>america clean energy laggardanswer resound myr...</td>\n",
       "      <td>0.350631</td>\n",
       "      <td>2.734923</td>\n",
       "      <td>2.384292</td>\n",
       "      <td>5.119215</td>\n",
       "      <td>16.760168</td>\n",
       "      <td>0.420757</td>\n",
       "      <td>1186.000000</td>\n",
       "      <td>0</td>\n",
       "      <td>0.0</td>\n",
       "    </tr>\n",
       "    <tr>\n",
       "      <th>1</th>\n",
       "      <td>5</td>\n",
       "      <td>2015-03-02 15:00:00</td>\n",
       "      <td>18.0</td>\n",
       "      <td>13.0</td>\n",
       "      <td>42.0</td>\n",
       "      <td>6.0</td>\n",
       "      <td>5.0</td>\n",
       "      <td>watch meet press treat climate change big joke...</td>\n",
       "      <td>-0.952381</td>\n",
       "      <td>3.492063</td>\n",
       "      <td>4.444444</td>\n",
       "      <td>7.936508</td>\n",
       "      <td>26.984127</td>\n",
       "      <td>1.428571</td>\n",
       "      <td>576.000000</td>\n",
       "      <td>0</td>\n",
       "      <td>0.0</td>\n",
       "    </tr>\n",
       "    <tr>\n",
       "      <th>2</th>\n",
       "      <td>6</td>\n",
       "      <td>2015-03-02 16:00:00</td>\n",
       "      <td>17.0</td>\n",
       "      <td>13.0</td>\n",
       "      <td>41.0</td>\n",
       "      <td>6.0</td>\n",
       "      <td>5.0</td>\n",
       "      <td>no_titlemary bowerman usa today network visito...</td>\n",
       "      <td>0.000000</td>\n",
       "      <td>1.814059</td>\n",
       "      <td>1.814059</td>\n",
       "      <td>3.628118</td>\n",
       "      <td>25.396825</td>\n",
       "      <td>0.000000</td>\n",
       "      <td>405.000000</td>\n",
       "      <td>0</td>\n",
       "      <td>0.0</td>\n",
       "    </tr>\n",
       "    <tr>\n",
       "      <th>3</th>\n",
       "      <td>8</td>\n",
       "      <td>2015-03-02 18:00:00</td>\n",
       "      <td>18.0</td>\n",
       "      <td>14.0</td>\n",
       "      <td>39.0</td>\n",
       "      <td>6.0</td>\n",
       "      <td>4.0</td>\n",
       "      <td>russian energy deal come contentious timemr. f...</td>\n",
       "      <td>-1.147541</td>\n",
       "      <td>1.803279</td>\n",
       "      <td>2.950820</td>\n",
       "      <td>4.754098</td>\n",
       "      <td>19.508197</td>\n",
       "      <td>0.409836</td>\n",
       "      <td>1119.000000</td>\n",
       "      <td>0</td>\n",
       "      <td>0.0</td>\n",
       "    </tr>\n",
       "    <tr>\n",
       "      <th>4</th>\n",
       "      <td>10</td>\n",
       "      <td>2015-03-02 20:00:00</td>\n",
       "      <td>17.0</td>\n",
       "      <td>13.0</td>\n",
       "      <td>35.0</td>\n",
       "      <td>5.0</td>\n",
       "      <td>4.0</td>\n",
       "      <td>climate change cause syrian civil warclimate c...</td>\n",
       "      <td>-5.368873</td>\n",
       "      <td>0.909366</td>\n",
       "      <td>6.278239</td>\n",
       "      <td>7.187605</td>\n",
       "      <td>24.159231</td>\n",
       "      <td>0.123712</td>\n",
       "      <td>616.333333</td>\n",
       "      <td>0</td>\n",
       "      <td>0.0</td>\n",
       "    </tr>\n",
       "    <tr>\n",
       "      <th>...</th>\n",
       "      <td>...</td>\n",
       "      <td>...</td>\n",
       "      <td>...</td>\n",
       "      <td>...</td>\n",
       "      <td>...</td>\n",
       "      <td>...</td>\n",
       "      <td>...</td>\n",
       "      <td>...</td>\n",
       "      <td>...</td>\n",
       "      <td>...</td>\n",
       "      <td>...</td>\n",
       "      <td>...</td>\n",
       "      <td>...</td>\n",
       "      <td>...</td>\n",
       "      <td>...</td>\n",
       "      <td>...</td>\n",
       "      <td>...</td>\n",
       "    </tr>\n",
       "    <tr>\n",
       "      <th>29384</th>\n",
       "      <td>48471</td>\n",
       "      <td>2020-10-07 16:00:00</td>\n",
       "      <td>14.5</td>\n",
       "      <td>17.0</td>\n",
       "      <td>54.0</td>\n",
       "      <td>11.0</td>\n",
       "      <td>8.5</td>\n",
       "      <td>hurricane delta landfall gulf coast category 3...</td>\n",
       "      <td>-1.933350</td>\n",
       "      <td>1.456169</td>\n",
       "      <td>3.389519</td>\n",
       "      <td>4.845688</td>\n",
       "      <td>22.040880</td>\n",
       "      <td>0.675240</td>\n",
       "      <td>656.857143</td>\n",
       "      <td>0</td>\n",
       "      <td>0.0</td>\n",
       "    </tr>\n",
       "    <tr>\n",
       "      <th>29385</th>\n",
       "      <td>48472</td>\n",
       "      <td>2020-10-07 17:00:00</td>\n",
       "      <td>13.5</td>\n",
       "      <td>17.5</td>\n",
       "      <td>54.0</td>\n",
       "      <td>10.5</td>\n",
       "      <td>8.5</td>\n",
       "      <td>150 million join extreme poor world bank© prov...</td>\n",
       "      <td>-1.897305</td>\n",
       "      <td>2.429582</td>\n",
       "      <td>4.326887</td>\n",
       "      <td>6.756470</td>\n",
       "      <td>22.310394</td>\n",
       "      <td>0.693847</td>\n",
       "      <td>923.571429</td>\n",
       "      <td>0</td>\n",
       "      <td>0.0</td>\n",
       "    </tr>\n",
       "    <tr>\n",
       "      <th>29386</th>\n",
       "      <td>48473</td>\n",
       "      <td>2020-10-07 18:00:00</td>\n",
       "      <td>13.5</td>\n",
       "      <td>17.5</td>\n",
       "      <td>50.0</td>\n",
       "      <td>10.5</td>\n",
       "      <td>8.0</td>\n",
       "      <td>china 2060 carbon neutral goal bill hit $ 5 tr...</td>\n",
       "      <td>-1.070552</td>\n",
       "      <td>1.935600</td>\n",
       "      <td>3.006152</td>\n",
       "      <td>4.941752</td>\n",
       "      <td>22.293919</td>\n",
       "      <td>0.268835</td>\n",
       "      <td>561.750000</td>\n",
       "      <td>0</td>\n",
       "      <td>0.0</td>\n",
       "    </tr>\n",
       "    <tr>\n",
       "      <th>29387</th>\n",
       "      <td>48474</td>\n",
       "      <td>2020-10-07 19:00:00</td>\n",
       "      <td>13.5</td>\n",
       "      <td>17.5</td>\n",
       "      <td>46.0</td>\n",
       "      <td>10.5</td>\n",
       "      <td>7.0</td>\n",
       "      <td>dare city 2020 kejriwal speak ev policy odd sc...</td>\n",
       "      <td>-4.013967</td>\n",
       "      <td>1.189192</td>\n",
       "      <td>5.203159</td>\n",
       "      <td>6.392350</td>\n",
       "      <td>21.418546</td>\n",
       "      <td>0.554424</td>\n",
       "      <td>578.000000</td>\n",
       "      <td>0</td>\n",
       "      <td>0.0</td>\n",
       "    </tr>\n",
       "    <tr>\n",
       "      <th>29388</th>\n",
       "      <td>48475</td>\n",
       "      <td>2020-10-07 20:00:00</td>\n",
       "      <td>13.0</td>\n",
       "      <td>17.0</td>\n",
       "      <td>39.5</td>\n",
       "      <td>10.0</td>\n",
       "      <td>6.0</td>\n",
       "      <td>covid climate denialmean issue leadership cruc...</td>\n",
       "      <td>-1.439198</td>\n",
       "      <td>2.417687</td>\n",
       "      <td>3.856885</td>\n",
       "      <td>6.274572</td>\n",
       "      <td>21.454657</td>\n",
       "      <td>1.119621</td>\n",
       "      <td>1060.888889</td>\n",
       "      <td>0</td>\n",
       "      <td>0.0</td>\n",
       "    </tr>\n",
       "  </tbody>\n",
       "</table>\n",
       "<p>29389 rows × 17 columns</p>\n",
       "</div>"
      ],
      "text/plain": [
       "       Unnamed: 0                 date  depression  anxiety  government  \\\n",
       "0               0  2015-03-02 10:00:00        15.0     16.0        71.0   \n",
       "1               5  2015-03-02 15:00:00        18.0     13.0        42.0   \n",
       "2               6  2015-03-02 16:00:00        17.0     13.0        41.0   \n",
       "3               8  2015-03-02 18:00:00        18.0     14.0        39.0   \n",
       "4              10  2015-03-02 20:00:00        17.0     13.0        35.0   \n",
       "...           ...                  ...         ...      ...         ...   \n",
       "29384       48471  2020-10-07 16:00:00        14.5     17.0        54.0   \n",
       "29385       48472  2020-10-07 17:00:00        13.5     17.5        54.0   \n",
       "29386       48473  2020-10-07 18:00:00        13.5     17.5        50.0   \n",
       "29387       48474  2020-10-07 19:00:00        13.5     17.5        46.0   \n",
       "29388       48475  2020-10-07 20:00:00        13.0     17.0        39.5   \n",
       "\n",
       "       politics  democracy                                         title_text  \\\n",
       "0           4.0        2.0  america clean energy laggardanswer resound myr...   \n",
       "1           6.0        5.0  watch meet press treat climate change big joke...   \n",
       "2           6.0        5.0  no_titlemary bowerman usa today network visito...   \n",
       "3           6.0        4.0  russian energy deal come contentious timemr. f...   \n",
       "4           5.0        4.0  climate change cause syrian civil warclimate c...   \n",
       "...         ...        ...                                                ...   \n",
       "29384      11.0        8.5  hurricane delta landfall gulf coast category 3...   \n",
       "29385      10.5        8.5  150 million join extreme poor world bank© prov...   \n",
       "29386      10.5        8.0  china 2060 carbon neutral goal bill hit $ 5 tr...   \n",
       "29387      10.5        7.0  dare city 2020 kejriwal speak ev policy odd sc...   \n",
       "29388      10.0        6.0  covid climate denialmean issue leadership cruc...   \n",
       "\n",
       "       avg_tone  pos_words  neg_words  polarity  act_ref_density  \\\n",
       "0      0.350631   2.734923   2.384292  5.119215        16.760168   \n",
       "1     -0.952381   3.492063   4.444444  7.936508        26.984127   \n",
       "2      0.000000   1.814059   1.814059  3.628118        25.396825   \n",
       "3     -1.147541   1.803279   2.950820  4.754098        19.508197   \n",
       "4     -5.368873   0.909366   6.278239  7.187605        24.159231   \n",
       "...         ...        ...        ...       ...              ...   \n",
       "29384 -1.933350   1.456169   3.389519  4.845688        22.040880   \n",
       "29385 -1.897305   2.429582   4.326887  6.756470        22.310394   \n",
       "29386 -1.070552   1.935600   3.006152  4.941752        22.293919   \n",
       "29387 -4.013967   1.189192   5.203159  6.392350        21.418546   \n",
       "29388 -1.439198   2.417687   3.856885  6.274572        21.454657   \n",
       "\n",
       "       self_group_density   word_count  depression_binary  shifted_12h  \n",
       "0                0.420757  1186.000000                  0          0.0  \n",
       "1                1.428571   576.000000                  0          0.0  \n",
       "2                0.000000   405.000000                  0          0.0  \n",
       "3                0.409836  1119.000000                  0          0.0  \n",
       "4                0.123712   616.333333                  0          0.0  \n",
       "...                   ...          ...                ...          ...  \n",
       "29384            0.675240   656.857143                  0          0.0  \n",
       "29385            0.693847   923.571429                  0          0.0  \n",
       "29386            0.268835   561.750000                  0          0.0  \n",
       "29387            0.554424   578.000000                  0          0.0  \n",
       "29388            1.119621  1060.888889                  0          0.0  \n",
       "\n",
       "[29389 rows x 17 columns]"
      ]
     },
     "execution_count": 12,
     "metadata": {},
     "output_type": "execute_result"
    }
   ],
   "source": [
    "df"
   ]
  },
  {
   "cell_type": "code",
   "execution_count": 27,
   "metadata": {},
   "outputs": [
    {
     "data": {
      "text/plain": [
       "0        0.0\n",
       "1        0.0\n",
       "2        0.0\n",
       "3        0.0\n",
       "4        0.0\n",
       "        ... \n",
       "29384    0.0\n",
       "29385    0.0\n",
       "29386    0.0\n",
       "29387    0.0\n",
       "29388    0.0\n",
       "Name: shifted_12h, Length: 29389, dtype: float64"
      ]
     },
     "execution_count": 27,
     "metadata": {},
     "output_type": "execute_result"
    }
   ],
   "source": [
    "#checking target column\n",
    "df['shifted_12h']"
   ]
  },
  {
   "cell_type": "code",
   "execution_count": 28,
   "metadata": {},
   "outputs": [
    {
     "name": "stdout",
     "output_type": "stream",
     "text": [
      "setting x to title_text and y to shifte_12h\n"
     ]
    },
    {
     "data": {
      "text/plain": [
       "'x_shape: (29389,)'"
      ]
     },
     "metadata": {},
     "output_type": "display_data"
    },
    {
     "data": {
      "text/plain": [
       "'y_shape: (29389,)'"
      ]
     },
     "metadata": {},
     "output_type": "display_data"
    },
    {
     "name": "stdout",
     "output_type": "stream",
     "text": [
      "creating test train split\n",
      "X_train: (20572,), y_train: (20572,), X_test: (8817,), y_test: (8817,)\n"
     ]
    }
   ],
   "source": [
    "print('setting x to title_text and y to shifte_12h')\n",
    "X = df['title_text']\n",
    "y = df['shifted_12h'].astype(int)\n",
    "display(f'x_shape: {X.shape}')\n",
    "display(f'y_shape: {y.shape}')\n",
    "\n",
    "print('creating test train split')\n",
    "X_train, X_test, y_train, y_test = train_test_split(X, y, test_size=.3, stratify=y)\n",
    "\n",
    "print(f'X_train: {X_train.shape}, y_train: {y_train.shape}, X_test: {X_test.shape}, y_test: {y_test.shape}')"
   ]
  },
  {
   "cell_type": "code",
   "execution_count": 14,
   "metadata": {},
   "outputs": [
    {
     "name": "stdout",
     "output_type": "stream",
     "text": [
      "Google news model downlownded\n"
     ]
    }
   ],
   "source": [
    "#download and set word vector pretrained model\n",
    "embedding = \"https://tfhub.dev/google/nnlm-en-dim128/2\"\n",
    "hub_layer = hub.KerasLayer(embedding, input_shape=[], dtype=tf.string, trainable=True)\n",
    "\n",
    "print('Google news model downlownded')"
   ]
  },
  {
   "cell_type": "code",
   "execution_count": 29,
   "metadata": {},
   "outputs": [
    {
     "name": "stdout",
     "output_type": "stream",
     "text": [
      "model defined and compiled\n"
     ]
    }
   ],
   "source": [
    "#define feed forward neural network with one embed layer and 4 dense layers\n",
    "model = tf.keras.Sequential()\n",
    "model.add(hub_layer)\n",
    "model.add(tf.keras.layers.Dense(16, activation='relu'))\n",
    "model.add(tf.keras.layers.Dense(8, activation='relu'))\n",
    "model.add(tf.keras.layers.Dense(4, activation='relu'))\n",
    "model.add(tf.keras.layers.Dropout(0.5))\n",
    "model.add(tf.keras.layers.Dense(1))\n",
    "\n",
    "#compile model\n",
    "model.compile(optimizer='adam',\n",
    "             loss=tf.keras.losses.BinaryCrossentropy(from_logits=True),\n",
    "             metrics=['accuracy'])\n",
    "print('model defined and compiled')"
   ]
  },
  {
   "cell_type": "code",
   "execution_count": 30,
   "metadata": {},
   "outputs": [
    {
     "name": "stdout",
     "output_type": "stream",
     "text": [
      "training model\n",
      "Epoch 1/3\n",
      "643/643 [==============================] - 85s 132ms/step - loss: 0.5011 - accuracy: 0.7212 - val_loss: 0.3419 - val_accuracy: 0.8742\n",
      "Epoch 2/3\n",
      "643/643 [==============================] - 85s 132ms/step - loss: 0.3696 - accuracy: 0.8449 - val_loss: 0.3075 - val_accuracy: 0.8840\n",
      "Epoch 3/3\n",
      "643/643 [==============================] - 85s 132ms/step - loss: 0.2999 - accuracy: 0.8822 - val_loss: 0.3248 - val_accuracy: 0.8689\n",
      "model training complete\n"
     ]
    }
   ],
   "source": [
    "#train model\n",
    "print('training model')\n",
    "history = model.fit(X_train, y_train, epochs=3, verbose=1, validation_data=(X_test, y_test))\n",
    "print('model training complete')"
   ]
  },
  {
   "cell_type": "code",
   "execution_count": 31,
   "metadata": {},
   "outputs": [
    {
     "name": "stdout",
     "output_type": "stream",
     "text": [
      "WARNING:tensorflow:From /anaconda/envs/tf23/lib/python3.8/site-packages/tensorflow/python/ops/resource_variable_ops.py:1813: calling BaseResourceVariable.__init__ (from tensorflow.python.ops.resource_variable_ops) with constraint is deprecated and will be removed in a future version.\n",
      "Instructions for updating:\n",
      "If using Keras pass *_constraint arguments to layers.\n"
     ]
    },
    {
     "name": "stderr",
     "output_type": "stream",
     "text": [
      "WARNING:tensorflow:From /anaconda/envs/tf23/lib/python3.8/site-packages/tensorflow/python/ops/resource_variable_ops.py:1813: calling BaseResourceVariable.__init__ (from tensorflow.python.ops.resource_variable_ops) with constraint is deprecated and will be removed in a future version.\n",
      "Instructions for updating:\n",
      "If using Keras pass *_constraint arguments to layers.\n"
     ]
    },
    {
     "name": "stdout",
     "output_type": "stream",
     "text": [
      "INFO:tensorflow:Assets written to: article_gtrend_12_9_20/assets\n"
     ]
    },
    {
     "name": "stderr",
     "output_type": "stream",
     "text": [
      "INFO:tensorflow:Assets written to: article_gtrend_12_9_20/assets\n"
     ]
    }
   ],
   "source": [
    "#save model\n",
    "model.save('article_gtrend_12_9_20/')"
   ]
  },
  {
   "cell_type": "code",
   "execution_count": 36,
   "metadata": {},
   "outputs": [
    {
     "name": "stdout",
     "output_type": "stream",
     "text": [
      "Model: \"sequential_5\"\n",
      "_________________________________________________________________\n",
      "Layer (type)                 Output Shape              Param #   \n",
      "=================================================================\n",
      "keras_layer (KerasLayer)     (None, 128)               124642688 \n",
      "_________________________________________________________________\n",
      "dense_20 (Dense)             (None, 16)                2064      \n",
      "_________________________________________________________________\n",
      "dense_21 (Dense)             (None, 8)                 136       \n",
      "_________________________________________________________________\n",
      "dense_22 (Dense)             (None, 4)                 36        \n",
      "_________________________________________________________________\n",
      "dropout_5 (Dropout)          (None, 4)                 0         \n",
      "_________________________________________________________________\n",
      "dense_23 (Dense)             (None, 1)                 5         \n",
      "=================================================================\n",
      "Total params: 124,644,929\n",
      "Trainable params: 124,644,929\n",
      "Non-trainable params: 0\n",
      "_________________________________________________________________\n"
     ]
    }
   ],
   "source": [
    "model.summary()"
   ]
  },
  {
   "cell_type": "code",
   "execution_count": 47,
   "metadata": {},
   "outputs": [],
   "source": [
    "#generate predictions on test set\n",
    "test_pred = (model.predict(X_test) > 0.5).astype(\"int32\")"
   ]
  },
  {
   "cell_type": "code",
   "execution_count": 48,
   "metadata": {},
   "outputs": [],
   "source": [
    "from sklearn.metrics import accuracy_score"
   ]
  },
  {
   "cell_type": "code",
   "execution_count": 49,
   "metadata": {},
   "outputs": [
    {
     "data": {
      "text/plain": [
       "0.8688896450039696"
      ]
     },
     "execution_count": 49,
     "metadata": {},
     "output_type": "execute_result"
    }
   ],
   "source": [
    "#calculate test accuracy\n",
    "accuracy_score(y_test, test_pred)"
   ]
  },
  {
   "cell_type": "code",
   "execution_count": 50,
   "metadata": {},
   "outputs": [],
   "source": [
    "from sklearn.metrics import classification_report"
   ]
  },
  {
   "cell_type": "code",
   "execution_count": 53,
   "metadata": {},
   "outputs": [
    {
     "name": "stdout",
     "output_type": "stream",
     "text": [
      "              precision    recall  f1-score   support\n",
      "\n",
      "           0       0.83      0.91      0.87      4102\n",
      "           1       0.91      0.83      0.87      4715\n",
      "\n",
      "    accuracy                           0.87      8817\n",
      "   macro avg       0.87      0.87      0.87      8817\n",
      "weighted avg       0.87      0.87      0.87      8817\n",
      "\n"
     ]
    }
   ],
   "source": [
    "#generate classification report on test data\n",
    "print(classification_report(y_test, test_pred))"
   ]
  },
  {
   "cell_type": "code",
   "execution_count": 55,
   "metadata": {},
   "outputs": [],
   "source": [
    "#checking saved model\n",
    "reloaded = tf.keras.models.load_model('article_gtrend_12_9_20')"
   ]
  },
  {
   "cell_type": "code",
   "execution_count": 56,
   "metadata": {},
   "outputs": [
    {
     "name": "stdout",
     "output_type": "stream",
     "text": [
      "Model: \"sequential_5\"\n",
      "_________________________________________________________________\n",
      "Layer (type)                 Output Shape              Param #   \n",
      "=================================================================\n",
      "keras_layer (KerasLayer)     (None, 128)               124642688 \n",
      "_________________________________________________________________\n",
      "dense_20 (Dense)             (None, 16)                2064      \n",
      "_________________________________________________________________\n",
      "dense_21 (Dense)             (None, 8)                 136       \n",
      "_________________________________________________________________\n",
      "dense_22 (Dense)             (None, 4)                 36        \n",
      "_________________________________________________________________\n",
      "dropout_5 (Dropout)          (None, 4)                 0         \n",
      "_________________________________________________________________\n",
      "dense_23 (Dense)             (None, 1)                 5         \n",
      "=================================================================\n",
      "Total params: 124,644,929\n",
      "Trainable params: 124,644,929\n",
      "Non-trainable params: 0\n",
      "_________________________________________________________________\n"
     ]
    }
   ],
   "source": [
    "reloaded.summary()"
   ]
  },
  {
   "cell_type": "code",
   "execution_count": 57,
   "metadata": {},
   "outputs": [
    {
     "name": "stdout",
     "output_type": "stream",
     "text": [
      "276/276 [==============================] - 5s 19ms/step - loss: 0.3248 - accuracy: 0.8689\n"
     ]
    },
    {
     "data": {
      "text/plain": [
       "[0.3248368203639984, 0.8688896298408508]"
      ]
     },
     "execution_count": 57,
     "metadata": {},
     "output_type": "execute_result"
    }
   ],
   "source": [
    "reloaded.evaluate(X_test, y_test)"
   ]
  },
  {
   "cell_type": "code",
   "execution_count": null,
   "metadata": {},
   "outputs": [],
   "source": []
  }
 ],
 "metadata": {
  "kernelspec": {
   "display_name": "tf23_v2",
   "language": "python",
   "name": "tf23_v2"
  },
  "language_info": {
   "codemirror_mode": {
    "name": "ipython",
    "version": 3
   },
   "file_extension": ".py",
   "mimetype": "text/x-python",
   "name": "python",
   "nbconvert_exporter": "python",
   "pygments_lexer": "ipython3",
   "version": "3.8.5"
  }
 },
 "nbformat": 4,
 "nbformat_minor": 4
}
