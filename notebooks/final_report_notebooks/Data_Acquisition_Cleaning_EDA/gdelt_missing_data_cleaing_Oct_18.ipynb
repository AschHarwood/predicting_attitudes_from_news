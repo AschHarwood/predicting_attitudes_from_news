{
 "cells": [
  {
   "cell_type": "markdown",
   "metadata": {},
   "source": [
    "# Cleaning Article Data\n",
    "\n",
    "I had a big gap of about nine months in my initial article scrape. To fill that gap, I needed to return to GDELT to extract a list of URLs for those missing dates. I had run out of credits to use Google Big Query, so I had to use GDELT's python package, which is not nearly as efficient as Big Query. After extracting those article URLs, I used this script to do some basic clean up to prepare the data for the article scraper."
   ]
  },
  {
   "cell_type": "code",
   "execution_count": 2,
   "metadata": {},
   "outputs": [],
   "source": [
    "#import\n",
    "import pandas as pd"
   ]
  },
  {
   "cell_type": "code",
   "execution_count": 3,
   "metadata": {},
   "outputs": [],
   "source": [
    "#defining headers for reading in csv\n",
    "headers = ['to_remove','GKGRECORDID',\n",
    " 'DATE',\n",
    " 'SourceCollectionIdentifier',\n",
    " 'SourceCommonName',\n",
    " 'DocumentIdentifier',\n",
    " 'Counts',\n",
    " 'V2Counts',\n",
    " 'Themes',\n",
    " 'V2Themes',\n",
    " 'Locations',\n",
    " 'V2Locations',\n",
    " 'Persons',\n",
    " 'V2Persons',\n",
    " 'Organizations',\n",
    " 'V2Organizations',\n",
    " 'V2Tone',\n",
    " 'Dates',\n",
    " 'GCAM',\n",
    " 'Quotations',\n",
    " 'AllNames',\n",
    " 'Amounts',\n",
    "'to_remove_2',\n",
    "'to_remove_3',\n",
    "'to_remove_4']"
   ]
  },
  {
   "cell_type": "code",
   "execution_count": 4,
   "metadata": {},
   "outputs": [
    {
     "data": {
      "text/plain": [
       "25"
      ]
     },
     "execution_count": 4,
     "metadata": {},
     "output_type": "execute_result"
    }
   ],
   "source": [
    "len(headers)"
   ]
  },
  {
   "cell_type": "code",
   "execution_count": 5,
   "metadata": {},
   "outputs": [],
   "source": [
    "#read in gdelt file\n",
    "gdelt_1 = pd.read_csv('/floyd/home/Capstone/cap_notebooks/notebooks/Scappers/gdelt_gkg_2019-02-2_2019-10-1.csv', header=None, names=headers)"
   ]
  },
  {
   "cell_type": "code",
   "execution_count": 6,
   "metadata": {},
   "outputs": [
    {
     "data": {
      "text/plain": [
       "(388887, 25)"
      ]
     },
     "execution_count": 6,
     "metadata": {},
     "output_type": "execute_result"
    }
   ],
   "source": [
    "#check shape\n",
    "gdelt_1.shape"
   ]
  },
  {
   "cell_type": "code",
   "execution_count": 12,
   "metadata": {},
   "outputs": [
    {
     "data": {
      "text/plain": [
       "25"
      ]
     },
     "execution_count": 12,
     "metadata": {},
     "output_type": "execute_result"
    }
   ],
   "source": [
    "len(gdelt_1.columns)"
   ]
  },
  {
   "cell_type": "code",
   "execution_count": 11,
   "metadata": {},
   "outputs": [],
   "source": [
    "#dropping these extra columns\n",
    "gdelt_1.drop(['to_remove', 'to_remove_2', 'to_remove_3', 'to_remove_4'], axis=1, inplace=True)"
   ]
  },
  {
   "cell_type": "code",
   "execution_count": 12,
   "metadata": {},
   "outputs": [],
   "source": [
    "#setting a list of U.S. locations to verify my each row is coded in the U.S.\n",
    "locations = ['USA', 'United States', 'US', 'U.S.']"
   ]
  },
  {
   "cell_type": "code",
   "execution_count": 13,
   "metadata": {},
   "outputs": [],
   "source": [
    "#the gdelt location field is a huge string of all locations mention. This iterates through that string and makes sure U.S. is present\n",
    "gdelt_1['location_bool'] = gdelt_1['Locations'].apply(lambda x: any(location in x for location in locations))"
   ]
  },
  {
   "cell_type": "code",
   "execution_count": 16,
   "metadata": {},
   "outputs": [
    {
     "data": {
      "text/plain": [
       "388887"
      ]
     },
     "execution_count": 16,
     "metadata": {},
     "output_type": "execute_result"
    }
   ],
   "source": [
    "#checks num of U.S location records\n",
    "(gdelt_1['location_bool']==True).sum()"
   ]
  },
  {
   "cell_type": "code",
   "execution_count": 17,
   "metadata": {},
   "outputs": [],
   "source": [
    "#write to file to load into my scrapper\n",
    "gdelt_1.to_csv('gdelt_to_scrape_Oct_18.csv')"
   ]
  },
  {
   "cell_type": "code",
   "execution_count": null,
   "metadata": {},
   "outputs": [],
   "source": []
  }
 ],
 "metadata": {
  "kernelspec": {
   "display_name": "Python 3",
   "language": "python",
   "name": "python3"
  },
  "language_info": {
   "codemirror_mode": {
    "name": "ipython",
    "version": 3
   },
   "file_extension": ".py",
   "mimetype": "text/x-python",
   "name": "python",
   "nbconvert_exporter": "python",
   "pygments_lexer": "ipython3",
   "version": "3.8.2"
  },
  "neptune": {
   "notebookId": "20a301e1-70bb-4801-87a1-57a5c15884bf"
  }
 },
 "nbformat": 4,
 "nbformat_minor": 4
}
