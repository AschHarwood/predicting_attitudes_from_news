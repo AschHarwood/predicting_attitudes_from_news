{
 "cells": [
  {
   "cell_type": "markdown",
   "metadata": {},
   "source": [
    "# Using GDELT Python Package to URL list\n",
    "\n",
    "I had a large gap in my data from my initial GDELT Big Query export. I had exhausted my credits so I turned to the GDELT python package. This script attempts to approximate the query I passed to Big Query. The output dataset is then passed to my article scraper."
   ]
  },
  {
   "cell_type": "code",
   "execution_count": 1,
   "metadata": {},
   "outputs": [
    {
     "name": "stdout",
     "output_type": "stream",
     "text": [
      "Collecting gdelt\n",
      "  Downloading gdelt-0.1.10.6.1-py2.py3-none-any.whl (773 kB)\n",
      "\u001b[K     |████████████████████████████████| 773 kB 4.4 MB/s eta 0:00:01\n",
      "\u001b[?25hRequirement already satisfied: numpy in /usr/local/lib/python3.7/site-packages (from gdelt) (1.18.4)\n",
      "Requirement already satisfied: requests in /usr/local/lib/python3.7/site-packages (from gdelt) (2.23.0)\n",
      "Requirement already satisfied: pandas>=0.20.3 in /usr/local/lib/python3.7/site-packages (from gdelt) (1.0.3)\n",
      "Requirement already satisfied: python-dateutil in /usr/local/lib/python3.7/site-packages (from gdelt) (2.8.1)\n",
      "Requirement already satisfied: chardet<4,>=3.0.2 in /usr/local/lib/python3.7/site-packages (from requests->gdelt) (3.0.4)\n",
      "Requirement already satisfied: idna<3,>=2.5 in /usr/local/lib/python3.7/site-packages (from requests->gdelt) (2.9)\n",
      "Requirement already satisfied: urllib3!=1.25.0,!=1.25.1,<1.26,>=1.21.1 in /usr/local/lib/python3.7/site-packages (from requests->gdelt) (1.24.3)\n",
      "Requirement already satisfied: certifi>=2017.4.17 in /usr/local/lib/python3.7/site-packages (from requests->gdelt) (2020.4.5.1)\n",
      "Requirement already satisfied: pytz>=2017.2 in /usr/local/lib/python3.7/site-packages (from pandas>=0.20.3->gdelt) (2020.1)\n",
      "Requirement already satisfied: six>=1.5 in /usr/local/lib/python3.7/site-packages (from python-dateutil->gdelt) (1.14.0)\n",
      "Installing collected packages: gdelt\n",
      "Successfully installed gdelt-0.1.10.6\n",
      "\u001b[33mWARNING: You are using pip version 20.1; however, version 20.2.4 is available.\n",
      "You should consider upgrading via the '/usr/local/bin/python -m pip install --upgrade pip' command.\u001b[0m\n"
     ]
    }
   ],
   "source": [
    "#install gdelt python package\n",
    "!pip install gdelt"
   ]
  },
  {
   "cell_type": "code",
   "execution_count": 2,
   "metadata": {},
   "outputs": [],
   "source": [
    "#imports\n",
    "import gdelt\n",
    "import pandas as pd"
   ]
  },
  {
   "cell_type": "code",
   "execution_count": 3,
   "metadata": {},
   "outputs": [],
   "source": [
    "#import list of themes I used for filtering in my Big Query query\n",
    "themes = pd.read_csv('/floyd/home/Capstone/cap_notebooks/data/Gdelt/gdelt_themes_oct_13.csv', header=None, names=['Themes'], dtype='str')"
   ]
  },
  {
   "cell_type": "code",
   "execution_count": 4,
   "metadata": {},
   "outputs": [
    {
     "data": {
      "text/html": [
       "<div>\n",
       "<style scoped>\n",
       "    .dataframe tbody tr th:only-of-type {\n",
       "        vertical-align: middle;\n",
       "    }\n",
       "\n",
       "    .dataframe tbody tr th {\n",
       "        vertical-align: top;\n",
       "    }\n",
       "\n",
       "    .dataframe thead th {\n",
       "        text-align: right;\n",
       "    }\n",
       "</style>\n",
       "<table border=\"1\" class=\"dataframe\">\n",
       "  <thead>\n",
       "    <tr style=\"text-align: right;\">\n",
       "      <th></th>\n",
       "      <th>Themes</th>\n",
       "    </tr>\n",
       "  </thead>\n",
       "  <tbody>\n",
       "    <tr>\n",
       "      <th>0</th>\n",
       "      <td>WB_567</td>\n",
       "    </tr>\n",
       "    <tr>\n",
       "      <th>1</th>\n",
       "      <td>DEMOCRACY</td>\n",
       "    </tr>\n",
       "    <tr>\n",
       "      <th>2</th>\n",
       "      <td>CONSTITUTIONAL</td>\n",
       "    </tr>\n",
       "    <tr>\n",
       "      <th>3</th>\n",
       "      <td>CORRUPTION</td>\n",
       "    </tr>\n",
       "    <tr>\n",
       "      <th>4</th>\n",
       "      <td>ECON_COST_OF_LIVING</td>\n",
       "    </tr>\n",
       "    <tr>\n",
       "      <th>...</th>\n",
       "      <td>...</td>\n",
       "    </tr>\n",
       "    <tr>\n",
       "      <th>66</th>\n",
       "      <td>TAX_RELIGION</td>\n",
       "    </tr>\n",
       "    <tr>\n",
       "      <th>67</th>\n",
       "      <td>TRANSPARENCY</td>\n",
       "    </tr>\n",
       "    <tr>\n",
       "      <th>68</th>\n",
       "      <td>UNEMPLOYMENT</td>\n",
       "    </tr>\n",
       "    <tr>\n",
       "      <th>69</th>\n",
       "      <td>UNREST_POLICEBRUTALITY</td>\n",
       "    </tr>\n",
       "    <tr>\n",
       "      <th>70</th>\n",
       "      <td>VIOLENT_UNREST</td>\n",
       "    </tr>\n",
       "  </tbody>\n",
       "</table>\n",
       "<p>71 rows × 1 columns</p>\n",
       "</div>"
      ],
      "text/plain": [
       "                    Themes\n",
       "0                   WB_567\n",
       "1                DEMOCRACY\n",
       "2           CONSTITUTIONAL\n",
       "3               CORRUPTION\n",
       "4      ECON_COST_OF_LIVING\n",
       "..                     ...\n",
       "66            TAX_RELIGION\n",
       "67            TRANSPARENCY\n",
       "68            UNEMPLOYMENT\n",
       "69  UNREST_POLICEBRUTALITY\n",
       "70          VIOLENT_UNREST\n",
       "\n",
       "[71 rows x 1 columns]"
      ]
     },
     "execution_count": 4,
     "metadata": {},
     "output_type": "execute_result"
    }
   ],
   "source": [
    "themes"
   ]
  },
  {
   "cell_type": "code",
   "execution_count": 5,
   "metadata": {},
   "outputs": [],
   "source": [
    "#creates theme_list for searching\n",
    "theme_list = list(themes['Themes'])\n"
   ]
  },
  {
   "cell_type": "code",
   "execution_count": 6,
   "metadata": {},
   "outputs": [
    {
     "data": {
      "text/plain": [
       "['WB_567',\n",
       " 'DEMOCRACY',\n",
       " 'CONSTITUTIONAL',\n",
       " 'CORRUPTION',\n",
       " 'ECON_COST_OF_LIVING',\n",
       " 'ECON_MONOPOLY',\n",
       " 'ECON_STOCKMARKET',\n",
       " 'ECON_TAXATION',\n",
       " 'EDUCATION',\n",
       " 'ELECTION',\n",
       " 'ELECTION_FRAUD',\n",
       " 'ENV_BIOFUEL',\n",
       " 'ENV_CARBONCAPTURE',\n",
       " 'ENV_CLIMATECHANGE',\n",
       " 'ENV_COAL',\n",
       " 'ENV_DEFESTATION',\n",
       " 'ENV_FISHERY',\n",
       " 'ENV_FESTRY',\n",
       " 'ENV_GEOTHERMAL',\n",
       " 'ENV_HYDRO',\n",
       " 'ENV_METALS',\n",
       " 'ENV_MINING',\n",
       " 'ENV_NATURALGAS',\n",
       " 'ENV_NUCLEARPOWER',\n",
       " 'ENV_OIL',\n",
       " 'ENV_POACHING',\n",
       " 'ENV_SOLAR',\n",
       " 'ENV_SPECIESENDANGERED',\n",
       " 'ENV_SPECIESEXTINCT',\n",
       " 'ENV_WATERWAYS',\n",
       " 'ENV_WINDPOWER',\n",
       " 'ETH_INDIGINOUS',\n",
       " 'EXTREMISM',\n",
       " 'FIREARM_OWNERSHIP',\n",
       " 'FOOD_SECURITY',\n",
       " 'FREESPEECH',\n",
       " 'GENDER_VIOLENCE',\n",
       " 'GENERAL_GOVERNMENT',\n",
       " 'GENERAL_HEALTH',\n",
       " 'GOV_DISSOLVEGOV',\n",
       " 'GOV_DIVISIONOFPOWER',\n",
       " 'GOV_REFM',\n",
       " 'GRIEVANCES',\n",
       " 'HATE_SPEECH',\n",
       " 'HEALTH_PANDEMIC',\n",
       " 'INFO_HOAX',\n",
       " 'INFO_RUM',\n",
       " 'INTERNET_CENSSHIP',\n",
       " 'LEADER',\n",
       " 'LEGISLATION',\n",
       " 'LGBT',\n",
       " 'MEDIA_CENSSHIP',\n",
       " 'MOVEMENT_ENVIRONMENTAL',\n",
       " 'MOVEMENT_GENERAL',\n",
       " 'MOVEMENT_OTHER',\n",
       " 'MOVEMENT_SOCIAL',\n",
       " 'MOVEMENT_WOMENS',\n",
       " 'NATURAL_DISASTER',\n",
       " 'POLITICAL_TURMOIL',\n",
       " 'POVERTY',\n",
       " 'PROPAGANDA',\n",
       " 'PROTEST',\n",
       " 'REBELLION',\n",
       " 'REL_ANTISEMITISM',\n",
       " 'SLFID_CIVIL_LIBERTIES',\n",
       " 'SOC_MASSMIGRATION',\n",
       " 'TAX_RELIGION',\n",
       " 'TRANSPARENCY',\n",
       " 'UNEMPLOYMENT',\n",
       " 'UNREST_POLICEBRUTALITY',\n",
       " 'VIOLENT_UNREST']"
      ]
     },
     "execution_count": 6,
     "metadata": {},
     "output_type": "execute_result"
    }
   ],
   "source": [
    "#checking hte theme list\n",
    "theme_list"
   ]
  },
  {
   "cell_type": "code",
   "execution_count": 7,
   "metadata": {},
   "outputs": [],
   "source": [
    "#imports source list I used for filtering in Big Query\n",
    "sources = pd.read_csv('/floyd/home/Capstone/cap_notebooks/data/Gdelt/gdelt_sources.csv', header=None, names=['Sources'], dtype='str')"
   ]
  },
  {
   "cell_type": "code",
   "execution_count": 8,
   "metadata": {},
   "outputs": [],
   "source": [
    "#converts sources to list\n",
    "source_list = list(sources['Sources'])"
   ]
  },
  {
   "cell_type": "code",
   "execution_count": 9,
   "metadata": {},
   "outputs": [
    {
     "data": {
      "text/plain": [
       "['foxnews.com',\n",
       " 'nytimes.com',\n",
       " 'buzzfeed.com',\n",
       " 'usatoday.com',\n",
       " 'cbsnews.com',\n",
       " 'huffpost.com',\n",
       " 'nbcnews.com',\n",
       " 'cnn.com',\n",
       " 'abcnews.com',\n",
       " 'msnbc.com',\n",
       " 'npr.org',\n",
       " 'cnbc.com',\n",
       " 'msn.com',\n",
       " 'reuters.com',\n",
       " 'latimes.com',\n",
       " 'vox.com',\n",
       " 'breitbart.com',\n",
       " 'breitbart.com',\n",
       " 'drudgereport.com',\n",
       " 'nationalreview.com']"
      ]
     },
     "execution_count": 9,
     "metadata": {},
     "output_type": "execute_result"
    }
   ],
   "source": [
    "#check the sources\n",
    "source_list"
   ]
  },
  {
   "cell_type": "code",
   "execution_count": 7,
   "metadata": {},
   "outputs": [],
   "source": [
    "#create gdelt object\n",
    "gd = gdelt.gdelt(version=2)"
   ]
  },
  {
   "cell_type": "markdown",
   "metadata": {},
   "source": [
    "The following code: \n",
    "- Defines a date range I need to collect data for\n",
    "- Sets up a while loop which stops when it reachs final date in range\n",
    "- Passes each day in range to gdelt package, extracts data, filters based on theme, source, and location\n",
    "- Appends data to file"
   ]
  },
  {
   "cell_type": "code",
   "execution_count": 9,
   "metadata": {},
   "outputs": [
    {
     "name": "stderr",
     "output_type": "stream",
     "text": [
      "/usr/local/lib/python3.7/site-packages/gdelt/parallel.py:103: UserWarning: GDELT did not return data for date time 20190901103000\n",
      "  warnings.warn(message)\n",
      "/usr/local/lib/python3.7/site-packages/gdelt/parallel.py:103: UserWarning: GDELT did not return data for date time 20190901130000\n",
      "  warnings.warn(message)\n",
      "/usr/local/lib/python3.7/site-packages/gdelt/parallel.py:103: UserWarning: GDELT did not return data for date time 20190901133000\n",
      "  warnings.warn(message)\n",
      "/usr/local/lib/python3.7/site-packages/gdelt/parallel.py:103: UserWarning: GDELT did not return data for date time 20190901160000\n",
      "  warnings.warn(message)\n",
      "/usr/local/lib/python3.7/site-packages/gdelt/parallel.py:103: UserWarning: GDELT did not return data for date time 20190901171500\n",
      "  warnings.warn(message)\n",
      "/usr/local/lib/python3.7/site-packages/gdelt/parallel.py:103: UserWarning: GDELT did not return data for date time 20190901141500\n",
      "  warnings.warn(message)\n",
      "/usr/local/lib/python3.7/site-packages/gdelt/parallel.py:103: UserWarning: GDELT did not return data for date time 20190901190000\n",
      "  warnings.warn(message)\n",
      "/usr/local/lib/python3.7/site-packages/gdelt/parallel.py:103: UserWarning: GDELT did not return data for date time 20190901201500\n",
      "  warnings.warn(message)\n",
      "/usr/local/lib/python3.7/site-packages/gdelt/parallel.py:103: UserWarning: GDELT did not return data for date time 20190901204500\n",
      "  warnings.warn(message)\n",
      "/usr/local/lib/python3.7/site-packages/gdelt/parallel.py:103: UserWarning: GDELT did not return data for date time 20190901203000\n",
      "  warnings.warn(message)\n",
      "/usr/local/lib/python3.7/site-packages/gdelt/parallel.py:103: UserWarning: GDELT did not return data for date time 20190901214500\n",
      "  warnings.warn(message)\n",
      "/usr/local/lib/python3.7/site-packages/gdelt/parallel.py:103: UserWarning: GDELT did not return data for date time 20190901224500\n",
      "  warnings.warn(message)\n"
     ]
    },
    {
     "name": "stdout",
     "output_type": "stream",
     "text": [
      "day_loaded\n",
      "cols_dropped\n",
      "null themes dropped\n",
      "locations checked\n",
      "locations filtered\n",
      "themes checked\n",
      "themes filtered\n",
      "sources checked\n",
      "sources filtered\n",
      "2019-09-01 written to file\n"
     ]
    },
    {
     "name": "stderr",
     "output_type": "stream",
     "text": [
      "/usr/local/lib/python3.7/site-packages/gdelt/parallel.py:103: UserWarning: GDELT did not return data for date time 20190902013000\n",
      "  warnings.warn(message)\n",
      "/usr/local/lib/python3.7/site-packages/gdelt/parallel.py:103: UserWarning: GDELT did not return data for date time 20190902011500\n",
      "  warnings.warn(message)\n",
      "/usr/local/lib/python3.7/site-packages/gdelt/parallel.py:103: UserWarning: GDELT did not return data for date time 20190902081500\n",
      "  warnings.warn(message)\n",
      "/usr/local/lib/python3.7/site-packages/gdelt/parallel.py:103: UserWarning: GDELT did not return data for date time 20190902123000\n",
      "  warnings.warn(message)\n",
      "/usr/local/lib/python3.7/site-packages/gdelt/parallel.py:103: UserWarning: GDELT did not return data for date time 20190902203000\n",
      "  warnings.warn(message)\n"
     ]
    },
    {
     "name": "stdout",
     "output_type": "stream",
     "text": [
      "day_loaded\n",
      "cols_dropped\n",
      "null themes dropped\n",
      "locations checked\n",
      "locations filtered\n",
      "themes checked\n",
      "themes filtered\n",
      "sources checked\n",
      "sources filtered\n",
      "2019-09-02 written to file\n"
     ]
    },
    {
     "name": "stderr",
     "output_type": "stream",
     "text": [
      "/usr/local/lib/python3.7/site-packages/gdelt/parallel.py:103: UserWarning: GDELT did not return data for date time 20190903070000\n",
      "  warnings.warn(message)\n",
      "/usr/local/lib/python3.7/site-packages/gdelt/parallel.py:103: UserWarning: GDELT did not return data for date time 20190903150000\n",
      "  warnings.warn(message)\n",
      "/usr/local/lib/python3.7/site-packages/gdelt/parallel.py:103: UserWarning: GDELT did not return data for date time 20190903184500\n",
      "  warnings.warn(message)\n",
      "/usr/local/lib/python3.7/site-packages/gdelt/parallel.py:103: UserWarning: GDELT did not return data for date time 20190903201500\n",
      "  warnings.warn(message)\n",
      "/usr/local/lib/python3.7/site-packages/gdelt/parallel.py:103: UserWarning: GDELT did not return data for date time 20190903231500\n",
      "  warnings.warn(message)\n"
     ]
    },
    {
     "name": "stdout",
     "output_type": "stream",
     "text": [
      "day_loaded\n",
      "cols_dropped\n",
      "null themes dropped\n",
      "locations checked\n",
      "locations filtered\n",
      "themes checked\n",
      "themes filtered\n",
      "sources checked\n",
      "sources filtered\n",
      "2019-09-03 written to file\n"
     ]
    },
    {
     "name": "stderr",
     "output_type": "stream",
     "text": [
      "/usr/local/lib/python3.7/site-packages/gdelt/parallel.py:103: UserWarning: GDELT did not return data for date time 20190904003000\n",
      "  warnings.warn(message)\n",
      "/usr/local/lib/python3.7/site-packages/gdelt/parallel.py:103: UserWarning: GDELT did not return data for date time 20190904000000\n",
      "  warnings.warn(message)\n",
      "/usr/local/lib/python3.7/site-packages/gdelt/parallel.py:103: UserWarning: GDELT did not return data for date time 20190904091500\n",
      "  warnings.warn(message)\n",
      "/usr/local/lib/python3.7/site-packages/gdelt/parallel.py:103: UserWarning: GDELT did not return data for date time 20190904131500\n",
      "  warnings.warn(message)\n",
      "/usr/local/lib/python3.7/site-packages/gdelt/parallel.py:103: UserWarning: GDELT did not return data for date time 20190904133000\n",
      "  warnings.warn(message)\n",
      "/usr/local/lib/python3.7/site-packages/gdelt/parallel.py:103: UserWarning: GDELT did not return data for date time 20190904134500\n",
      "  warnings.warn(message)\n",
      "/usr/local/lib/python3.7/site-packages/gdelt/parallel.py:103: UserWarning: GDELT did not return data for date time 20190904141500\n",
      "  warnings.warn(message)\n",
      "/usr/local/lib/python3.7/site-packages/gdelt/parallel.py:103: UserWarning: GDELT did not return data for date time 20190904144500\n",
      "  warnings.warn(message)\n",
      "/usr/local/lib/python3.7/site-packages/gdelt/parallel.py:103: UserWarning: GDELT did not return data for date time 20190904151500\n",
      "  warnings.warn(message)\n",
      "/usr/local/lib/python3.7/site-packages/gdelt/parallel.py:103: UserWarning: GDELT did not return data for date time 20190904150000\n",
      "  warnings.warn(message)\n",
      "/usr/local/lib/python3.7/site-packages/gdelt/parallel.py:103: UserWarning: GDELT did not return data for date time 20190904160000\n",
      "  warnings.warn(message)\n",
      "/usr/local/lib/python3.7/site-packages/gdelt/parallel.py:103: UserWarning: GDELT did not return data for date time 20190904163000\n",
      "  warnings.warn(message)\n",
      "/usr/local/lib/python3.7/site-packages/gdelt/parallel.py:103: UserWarning: GDELT did not return data for date time 20190904164500\n",
      "  warnings.warn(message)\n",
      "/usr/local/lib/python3.7/site-packages/gdelt/parallel.py:103: UserWarning: GDELT did not return data for date time 20190904171500\n",
      "  warnings.warn(message)\n",
      "/usr/local/lib/python3.7/site-packages/gdelt/parallel.py:103: UserWarning: GDELT did not return data for date time 20190904173000\n",
      "  warnings.warn(message)\n",
      "/usr/local/lib/python3.7/site-packages/gdelt/parallel.py:103: UserWarning: GDELT did not return data for date time 20190904174500\n",
      "  warnings.warn(message)\n",
      "/usr/local/lib/python3.7/site-packages/gdelt/parallel.py:103: UserWarning: GDELT did not return data for date time 20190904181500\n",
      "  warnings.warn(message)\n",
      "/usr/local/lib/python3.7/site-packages/gdelt/parallel.py:103: UserWarning: GDELT did not return data for date time 20190904183000\n",
      "  warnings.warn(message)\n",
      "/usr/local/lib/python3.7/site-packages/gdelt/parallel.py:103: UserWarning: GDELT did not return data for date time 20190904184500\n",
      "  warnings.warn(message)\n",
      "/usr/local/lib/python3.7/site-packages/gdelt/parallel.py:103: UserWarning: GDELT did not return data for date time 20190904193000\n",
      "  warnings.warn(message)\n",
      "/usr/local/lib/python3.7/site-packages/gdelt/parallel.py:103: UserWarning: GDELT did not return data for date time 20190904194500\n",
      "  warnings.warn(message)\n",
      "/usr/local/lib/python3.7/site-packages/gdelt/parallel.py:103: UserWarning: GDELT did not return data for date time 20190904203000\n",
      "  warnings.warn(message)\n",
      "/usr/local/lib/python3.7/site-packages/gdelt/parallel.py:103: UserWarning: GDELT did not return data for date time 20190904204500\n",
      "  warnings.warn(message)\n",
      "/usr/local/lib/python3.7/site-packages/gdelt/parallel.py:103: UserWarning: GDELT did not return data for date time 20190904213000\n",
      "  warnings.warn(message)\n",
      "/usr/local/lib/python3.7/site-packages/gdelt/parallel.py:103: UserWarning: GDELT did not return data for date time 20190904224500\n",
      "  warnings.warn(message)\n",
      "/usr/local/lib/python3.7/site-packages/gdelt/parallel.py:103: UserWarning: GDELT did not return data for date time 20190904234500\n",
      "  warnings.warn(message)\n"
     ]
    },
    {
     "name": "stdout",
     "output_type": "stream",
     "text": [
      "day_loaded\n",
      "cols_dropped\n",
      "null themes dropped\n",
      "locations checked\n",
      "locations filtered\n",
      "themes checked\n",
      "themes filtered\n",
      "sources checked\n",
      "sources filtered\n",
      "2019-09-04 written to file\n"
     ]
    },
    {
     "name": "stderr",
     "output_type": "stream",
     "text": [
      "/usr/local/lib/python3.7/site-packages/gdelt/parallel.py:103: UserWarning: GDELT did not return data for date time 20190905020000\n",
      "  warnings.warn(message)\n",
      "/usr/local/lib/python3.7/site-packages/gdelt/parallel.py:103: UserWarning: GDELT did not return data for date time 20190905111500\n",
      "  warnings.warn(message)\n",
      "/usr/local/lib/python3.7/site-packages/gdelt/parallel.py:103: UserWarning: GDELT did not return data for date time 20190905140000\n",
      "  warnings.warn(message)\n",
      "/usr/local/lib/python3.7/site-packages/gdelt/parallel.py:103: UserWarning: GDELT did not return data for date time 20190905153000\n",
      "  warnings.warn(message)\n"
     ]
    },
    {
     "name": "stdout",
     "output_type": "stream",
     "text": [
      "day_loaded\n",
      "cols_dropped\n",
      "null themes dropped\n",
      "locations checked\n",
      "locations filtered\n",
      "themes checked\n",
      "themes filtered\n",
      "sources checked\n",
      "sources filtered\n",
      "2019-09-05 written to file\n"
     ]
    },
    {
     "name": "stderr",
     "output_type": "stream",
     "text": [
      "/usr/local/lib/python3.7/site-packages/gdelt/parallel.py:103: UserWarning: GDELT did not return data for date time 20190906003000\n",
      "  warnings.warn(message)\n",
      "/usr/local/lib/python3.7/site-packages/gdelt/parallel.py:103: UserWarning: GDELT did not return data for date time 20190906231500\n",
      "  warnings.warn(message)\n"
     ]
    },
    {
     "name": "stdout",
     "output_type": "stream",
     "text": [
      "day_loaded\n",
      "cols_dropped\n",
      "null themes dropped\n",
      "locations checked\n",
      "locations filtered\n",
      "themes checked\n",
      "themes filtered\n",
      "sources checked\n",
      "sources filtered\n",
      "2019-09-06 written to file\n"
     ]
    },
    {
     "name": "stderr",
     "output_type": "stream",
     "text": [
      "/usr/local/lib/python3.7/site-packages/gdelt/parallel.py:103: UserWarning: GDELT did not return data for date time 20190907003000\n",
      "  warnings.warn(message)\n",
      "/usr/local/lib/python3.7/site-packages/gdelt/parallel.py:103: UserWarning: GDELT did not return data for date time 20190907030000\n",
      "  warnings.warn(message)\n",
      "/usr/local/lib/python3.7/site-packages/gdelt/parallel.py:103: UserWarning: GDELT did not return data for date time 20190907033000\n",
      "  warnings.warn(message)\n"
     ]
    },
    {
     "name": "stdout",
     "output_type": "stream",
     "text": [
      "day_loaded\n",
      "cols_dropped\n",
      "null themes dropped\n",
      "locations checked\n",
      "locations filtered\n",
      "themes checked\n",
      "themes filtered\n",
      "sources checked\n",
      "sources filtered\n",
      "2019-09-07 written to file\n"
     ]
    },
    {
     "name": "stderr",
     "output_type": "stream",
     "text": [
      "/usr/local/lib/python3.7/site-packages/gdelt/parallel.py:103: UserWarning: GDELT did not return data for date time 20190908014500\n",
      "  warnings.warn(message)\n"
     ]
    },
    {
     "name": "stdout",
     "output_type": "stream",
     "text": [
      "day_loaded\n",
      "cols_dropped\n",
      "null themes dropped\n",
      "locations checked\n",
      "locations filtered\n",
      "themes checked\n",
      "themes filtered\n",
      "sources checked\n",
      "sources filtered\n",
      "2019-09-08 written to file\n"
     ]
    },
    {
     "name": "stderr",
     "output_type": "stream",
     "text": [
      "/usr/local/lib/python3.7/site-packages/gdelt/parallel.py:103: UserWarning: GDELT did not return data for date time 20190909141500\n",
      "  warnings.warn(message)\n",
      "/usr/local/lib/python3.7/site-packages/gdelt/parallel.py:103: UserWarning: GDELT did not return data for date time 20190909151500\n",
      "  warnings.warn(message)\n"
     ]
    },
    {
     "name": "stdout",
     "output_type": "stream",
     "text": [
      "day_loaded\n",
      "cols_dropped\n",
      "null themes dropped\n",
      "locations checked\n",
      "locations filtered\n",
      "themes checked\n",
      "themes filtered\n",
      "sources checked\n",
      "sources filtered\n",
      "2019-09-09 written to file\n"
     ]
    },
    {
     "name": "stderr",
     "output_type": "stream",
     "text": [
      "/usr/local/lib/python3.7/site-packages/gdelt/parallel.py:103: UserWarning: GDELT did not return data for date time 20190910140000\n",
      "  warnings.warn(message)\n",
      "/usr/local/lib/python3.7/site-packages/gdelt/parallel.py:103: UserWarning: GDELT did not return data for date time 20190910170000\n",
      "  warnings.warn(message)\n",
      "/usr/local/lib/python3.7/site-packages/gdelt/parallel.py:103: UserWarning: GDELT did not return data for date time 20190910164500\n",
      "  warnings.warn(message)\n",
      "/usr/local/lib/python3.7/site-packages/gdelt/parallel.py:103: UserWarning: GDELT did not return data for date time 20190910180000\n",
      "  warnings.warn(message)\n"
     ]
    },
    {
     "name": "stdout",
     "output_type": "stream",
     "text": [
      "day_loaded\n",
      "cols_dropped\n",
      "null themes dropped\n",
      "locations checked\n",
      "locations filtered\n",
      "themes checked\n",
      "themes filtered\n",
      "sources checked\n",
      "sources filtered\n",
      "2019-09-10 written to file\n"
     ]
    },
    {
     "name": "stderr",
     "output_type": "stream",
     "text": [
      "/usr/local/lib/python3.7/site-packages/gdelt/parallel.py:103: UserWarning: GDELT did not return data for date time 20190911123000\n",
      "  warnings.warn(message)\n",
      "/usr/local/lib/python3.7/site-packages/gdelt/parallel.py:103: UserWarning: GDELT did not return data for date time 20190911154500\n",
      "  warnings.warn(message)\n",
      "/usr/local/lib/python3.7/site-packages/gdelt/parallel.py:103: UserWarning: GDELT did not return data for date time 20190911204500\n",
      "  warnings.warn(message)\n"
     ]
    },
    {
     "name": "stdout",
     "output_type": "stream",
     "text": [
      "day_loaded\n",
      "cols_dropped\n",
      "null themes dropped\n",
      "locations checked\n",
      "locations filtered\n",
      "themes checked\n",
      "themes filtered\n",
      "sources checked\n",
      "sources filtered\n",
      "2019-09-11 written to file\n"
     ]
    },
    {
     "name": "stderr",
     "output_type": "stream",
     "text": [
      "/usr/local/lib/python3.7/site-packages/gdelt/parallel.py:103: UserWarning: GDELT did not return data for date time 20190912014500\n",
      "  warnings.warn(message)\n",
      "/usr/local/lib/python3.7/site-packages/gdelt/parallel.py:103: UserWarning: GDELT did not return data for date time 20190912184500\n",
      "  warnings.warn(message)\n"
     ]
    },
    {
     "name": "stdout",
     "output_type": "stream",
     "text": [
      "day_loaded\n",
      "cols_dropped\n",
      "null themes dropped\n",
      "locations checked\n",
      "locations filtered\n",
      "themes checked\n",
      "themes filtered\n",
      "sources checked\n",
      "sources filtered\n",
      "2019-09-12 written to file\n"
     ]
    },
    {
     "name": "stderr",
     "output_type": "stream",
     "text": [
      "/usr/local/lib/python3.7/site-packages/gdelt/parallel.py:103: UserWarning: GDELT did not return data for date time 20190913103000\n",
      "  warnings.warn(message)\n"
     ]
    },
    {
     "name": "stdout",
     "output_type": "stream",
     "text": [
      "day_loaded\n",
      "cols_dropped\n",
      "null themes dropped\n",
      "locations checked\n",
      "locations filtered\n",
      "themes checked\n",
      "themes filtered\n",
      "sources checked\n",
      "sources filtered\n",
      "2019-09-13 written to file\n"
     ]
    },
    {
     "name": "stderr",
     "output_type": "stream",
     "text": [
      "/usr/local/lib/python3.7/site-packages/gdelt/parallel.py:103: UserWarning: GDELT did not return data for date time 20190914234500\n",
      "  warnings.warn(message)\n"
     ]
    },
    {
     "name": "stdout",
     "output_type": "stream",
     "text": [
      "day_loaded\n",
      "cols_dropped\n",
      "null themes dropped\n",
      "locations checked\n",
      "locations filtered\n",
      "themes checked\n",
      "themes filtered\n",
      "sources checked\n",
      "sources filtered\n",
      "2019-09-14 written to file\n"
     ]
    },
    {
     "name": "stderr",
     "output_type": "stream",
     "text": [
      "/usr/local/lib/python3.7/site-packages/gdelt/parallel.py:103: UserWarning: GDELT did not return data for date time 20190915060000\n",
      "  warnings.warn(message)\n",
      "/usr/local/lib/python3.7/site-packages/gdelt/parallel.py:103: UserWarning: GDELT did not return data for date time 20190915221500\n",
      "  warnings.warn(message)\n"
     ]
    },
    {
     "name": "stdout",
     "output_type": "stream",
     "text": [
      "day_loaded\n",
      "cols_dropped\n",
      "null themes dropped\n",
      "locations checked\n",
      "locations filtered\n",
      "themes checked\n",
      "themes filtered\n",
      "sources checked\n",
      "sources filtered\n",
      "2019-09-15 written to file\n"
     ]
    },
    {
     "name": "stderr",
     "output_type": "stream",
     "text": [
      "/usr/local/lib/python3.7/site-packages/gdelt/parallel.py:103: UserWarning: GDELT did not return data for date time 20190916173000\n",
      "  warnings.warn(message)\n"
     ]
    },
    {
     "name": "stdout",
     "output_type": "stream",
     "text": [
      "day_loaded\n",
      "cols_dropped\n",
      "null themes dropped\n",
      "locations checked\n",
      "locations filtered\n",
      "themes checked\n",
      "themes filtered\n",
      "sources checked\n",
      "sources filtered\n",
      "2019-09-16 written to file\n"
     ]
    },
    {
     "name": "stderr",
     "output_type": "stream",
     "text": [
      "/usr/local/lib/python3.7/site-packages/gdelt/parallel.py:103: UserWarning: GDELT did not return data for date time 20190917151500\n",
      "  warnings.warn(message)\n",
      "/usr/local/lib/python3.7/site-packages/gdelt/parallel.py:103: UserWarning: GDELT did not return data for date time 20190917220000\n",
      "  warnings.warn(message)\n"
     ]
    },
    {
     "name": "stdout",
     "output_type": "stream",
     "text": [
      "day_loaded\n",
      "cols_dropped\n",
      "null themes dropped\n",
      "locations checked\n",
      "locations filtered\n",
      "themes checked\n",
      "themes filtered\n",
      "sources checked\n",
      "sources filtered\n",
      "2019-09-17 written to file\n"
     ]
    },
    {
     "name": "stderr",
     "output_type": "stream",
     "text": [
      "/usr/local/lib/python3.7/site-packages/gdelt/parallel.py:103: UserWarning: GDELT did not return data for date time 20190918030000\n",
      "  warnings.warn(message)\n",
      "/usr/local/lib/python3.7/site-packages/gdelt/parallel.py:103: UserWarning: GDELT did not return data for date time 20190918031500\n",
      "  warnings.warn(message)\n",
      "/usr/local/lib/python3.7/site-packages/gdelt/parallel.py:103: UserWarning: GDELT did not return data for date time 20190918073000\n",
      "  warnings.warn(message)\n",
      "/usr/local/lib/python3.7/site-packages/gdelt/parallel.py:103: UserWarning: GDELT did not return data for date time 20190918150000\n",
      "  warnings.warn(message)\n",
      "/usr/local/lib/python3.7/site-packages/gdelt/parallel.py:103: UserWarning: GDELT did not return data for date time 20190918210000\n",
      "  warnings.warn(message)\n"
     ]
    },
    {
     "name": "stdout",
     "output_type": "stream",
     "text": [
      "day_loaded\n",
      "cols_dropped\n",
      "null themes dropped\n",
      "locations checked\n",
      "locations filtered\n",
      "themes checked\n",
      "themes filtered\n",
      "sources checked\n",
      "sources filtered\n",
      "2019-09-18 written to file\n"
     ]
    },
    {
     "name": "stderr",
     "output_type": "stream",
     "text": [
      "/usr/local/lib/python3.7/site-packages/gdelt/parallel.py:103: UserWarning: GDELT did not return data for date time 20190919063000\n",
      "  warnings.warn(message)\n",
      "/usr/local/lib/python3.7/site-packages/gdelt/parallel.py:103: UserWarning: GDELT did not return data for date time 20190919123000\n",
      "  warnings.warn(message)\n",
      "/usr/local/lib/python3.7/site-packages/gdelt/parallel.py:103: UserWarning: GDELT did not return data for date time 20190919180000\n",
      "  warnings.warn(message)\n",
      "/usr/local/lib/python3.7/site-packages/gdelt/parallel.py:103: UserWarning: GDELT did not return data for date time 20190919174500\n",
      "  warnings.warn(message)\n",
      "/usr/local/lib/python3.7/site-packages/gdelt/parallel.py:103: UserWarning: GDELT did not return data for date time 20190919184500\n",
      "  warnings.warn(message)\n",
      "/usr/local/lib/python3.7/site-packages/gdelt/parallel.py:103: UserWarning: GDELT did not return data for date time 20190919191500\n",
      "  warnings.warn(message)\n",
      "/usr/local/lib/python3.7/site-packages/gdelt/parallel.py:103: UserWarning: GDELT did not return data for date time 20190919201500\n",
      "  warnings.warn(message)\n"
     ]
    },
    {
     "name": "stdout",
     "output_type": "stream",
     "text": [
      "day_loaded\n",
      "cols_dropped\n",
      "null themes dropped\n",
      "locations checked\n",
      "locations filtered\n",
      "themes checked\n",
      "themes filtered\n",
      "sources checked\n",
      "sources filtered\n",
      "2019-09-19 written to file\n"
     ]
    },
    {
     "name": "stderr",
     "output_type": "stream",
     "text": [
      "/usr/local/lib/python3.7/site-packages/gdelt/parallel.py:103: UserWarning: GDELT did not return data for date time 20190920001500\n",
      "  warnings.warn(message)\n",
      "/usr/local/lib/python3.7/site-packages/gdelt/parallel.py:103: UserWarning: GDELT did not return data for date time 20190920030000\n",
      "  warnings.warn(message)\n",
      "/usr/local/lib/python3.7/site-packages/gdelt/parallel.py:103: UserWarning: GDELT did not return data for date time 20190920023000\n",
      "  warnings.warn(message)\n",
      "/usr/local/lib/python3.7/site-packages/gdelt/parallel.py:103: UserWarning: GDELT did not return data for date time 20190920144500\n",
      "  warnings.warn(message)\n",
      "/usr/local/lib/python3.7/site-packages/gdelt/parallel.py:103: UserWarning: GDELT did not return data for date time 20190920151500\n",
      "  warnings.warn(message)\n",
      "/usr/local/lib/python3.7/site-packages/gdelt/parallel.py:103: UserWarning: GDELT did not return data for date time 20190920173000\n",
      "  warnings.warn(message)\n",
      "/usr/local/lib/python3.7/site-packages/gdelt/parallel.py:103: UserWarning: GDELT did not return data for date time 20190920201500\n",
      "  warnings.warn(message)\n"
     ]
    },
    {
     "name": "stdout",
     "output_type": "stream",
     "text": [
      "day_loaded\n",
      "cols_dropped\n",
      "null themes dropped\n",
      "locations checked\n",
      "locations filtered\n",
      "themes checked\n",
      "themes filtered\n",
      "sources checked\n",
      "sources filtered\n",
      "2019-09-20 written to file\n"
     ]
    },
    {
     "name": "stderr",
     "output_type": "stream",
     "text": [
      "/usr/local/lib/python3.7/site-packages/gdelt/parallel.py:103: UserWarning: GDELT did not return data for date time 20190921010000\n",
      "  warnings.warn(message)\n",
      "/usr/local/lib/python3.7/site-packages/gdelt/parallel.py:103: UserWarning: GDELT did not return data for date time 20190921023000\n",
      "  warnings.warn(message)\n",
      "/usr/local/lib/python3.7/site-packages/gdelt/parallel.py:103: UserWarning: GDELT did not return data for date time 20190921163000\n",
      "  warnings.warn(message)\n"
     ]
    },
    {
     "name": "stdout",
     "output_type": "stream",
     "text": [
      "day_loaded\n",
      "cols_dropped\n",
      "null themes dropped\n",
      "locations checked\n",
      "locations filtered\n",
      "themes checked\n",
      "themes filtered\n",
      "sources checked\n",
      "sources filtered\n",
      "2019-09-21 written to file\n"
     ]
    },
    {
     "name": "stderr",
     "output_type": "stream",
     "text": [
      "/usr/local/lib/python3.7/site-packages/gdelt/parallel.py:103: UserWarning: GDELT did not return data for date time 20190922074500\n",
      "  warnings.warn(message)\n",
      "/usr/local/lib/python3.7/site-packages/gdelt/parallel.py:103: UserWarning: GDELT did not return data for date time 20190922133000\n",
      "  warnings.warn(message)\n"
     ]
    },
    {
     "name": "stdout",
     "output_type": "stream",
     "text": [
      "day_loaded\n",
      "cols_dropped\n",
      "null themes dropped\n",
      "locations checked\n",
      "locations filtered\n",
      "themes checked\n",
      "themes filtered\n",
      "sources checked\n",
      "sources filtered\n",
      "2019-09-22 written to file\n"
     ]
    },
    {
     "name": "stderr",
     "output_type": "stream",
     "text": [
      "/usr/local/lib/python3.7/site-packages/gdelt/parallel.py:103: UserWarning: GDELT did not return data for date time 20190923213000\n",
      "  warnings.warn(message)\n"
     ]
    },
    {
     "name": "stdout",
     "output_type": "stream",
     "text": [
      "day_loaded\n",
      "cols_dropped\n",
      "null themes dropped\n",
      "locations checked\n",
      "locations filtered\n",
      "themes checked\n",
      "themes filtered\n",
      "sources checked\n",
      "sources filtered\n",
      "2019-09-23 written to file\n"
     ]
    },
    {
     "name": "stderr",
     "output_type": "stream",
     "text": [
      "/usr/local/lib/python3.7/site-packages/gdelt/parallel.py:103: UserWarning: GDELT did not return data for date time 20190924040000\n",
      "  warnings.warn(message)\n",
      "/usr/local/lib/python3.7/site-packages/gdelt/parallel.py:103: UserWarning: GDELT did not return data for date time 20190924121500\n",
      "  warnings.warn(message)\n",
      "/usr/local/lib/python3.7/site-packages/gdelt/parallel.py:103: UserWarning: GDELT did not return data for date time 20190924131500\n",
      "  warnings.warn(message)\n",
      "/usr/local/lib/python3.7/site-packages/gdelt/parallel.py:103: UserWarning: GDELT did not return data for date time 20190924214500\n",
      "  warnings.warn(message)\n"
     ]
    },
    {
     "name": "stdout",
     "output_type": "stream",
     "text": [
      "day_loaded\n",
      "cols_dropped\n",
      "null themes dropped\n",
      "locations checked\n",
      "locations filtered\n",
      "themes checked\n",
      "themes filtered\n",
      "sources checked\n",
      "sources filtered\n",
      "2019-09-24 written to file\n"
     ]
    },
    {
     "name": "stderr",
     "output_type": "stream",
     "text": [
      "/usr/local/lib/python3.7/site-packages/gdelt/parallel.py:103: UserWarning: GDELT did not return data for date time 20190925161500\n",
      "  warnings.warn(message)\n",
      "/usr/local/lib/python3.7/site-packages/gdelt/parallel.py:103: UserWarning: GDELT did not return data for date time 20190925171500\n",
      "  warnings.warn(message)\n",
      "/usr/local/lib/python3.7/site-packages/gdelt/parallel.py:103: UserWarning: GDELT did not return data for date time 20190925214500\n",
      "  warnings.warn(message)\n"
     ]
    },
    {
     "name": "stdout",
     "output_type": "stream",
     "text": [
      "day_loaded\n",
      "cols_dropped\n",
      "null themes dropped\n",
      "locations checked\n",
      "locations filtered\n",
      "themes checked\n",
      "themes filtered\n",
      "sources checked\n",
      "sources filtered\n",
      "2019-09-25 written to file\n"
     ]
    },
    {
     "name": "stderr",
     "output_type": "stream",
     "text": [
      "/usr/local/lib/python3.7/site-packages/gdelt/parallel.py:103: UserWarning: GDELT did not return data for date time 20190926084500\n",
      "  warnings.warn(message)\n",
      "/usr/local/lib/python3.7/site-packages/gdelt/parallel.py:103: UserWarning: GDELT did not return data for date time 20190926091500\n",
      "  warnings.warn(message)\n",
      "/usr/local/lib/python3.7/site-packages/gdelt/parallel.py:103: UserWarning: GDELT did not return data for date time 20190926174500\n",
      "  warnings.warn(message)\n",
      "/usr/local/lib/python3.7/site-packages/gdelt/parallel.py:103: UserWarning: GDELT did not return data for date time 20190926181500\n",
      "  warnings.warn(message)\n"
     ]
    },
    {
     "name": "stdout",
     "output_type": "stream",
     "text": [
      "day_loaded\n",
      "cols_dropped\n",
      "null themes dropped\n",
      "locations checked\n",
      "locations filtered\n",
      "themes checked\n",
      "themes filtered\n",
      "sources checked\n",
      "sources filtered\n",
      "2019-09-26 written to file\n"
     ]
    },
    {
     "name": "stderr",
     "output_type": "stream",
     "text": [
      "/usr/local/lib/python3.7/site-packages/gdelt/parallel.py:103: UserWarning: GDELT did not return data for date time 20190927033000\n",
      "  warnings.warn(message)\n",
      "/usr/local/lib/python3.7/site-packages/gdelt/parallel.py:103: UserWarning: GDELT did not return data for date time 20190927150000\n",
      "  warnings.warn(message)\n",
      "/usr/local/lib/python3.7/site-packages/gdelt/parallel.py:103: UserWarning: GDELT did not return data for date time 20190927163000\n",
      "  warnings.warn(message)\n",
      "/usr/local/lib/python3.7/site-packages/gdelt/parallel.py:103: UserWarning: GDELT did not return data for date time 20190927210000\n",
      "  warnings.warn(message)\n"
     ]
    },
    {
     "name": "stdout",
     "output_type": "stream",
     "text": [
      "day_loaded\n",
      "cols_dropped\n",
      "null themes dropped\n",
      "locations checked\n",
      "locations filtered\n",
      "themes checked\n",
      "themes filtered\n",
      "sources checked\n",
      "sources filtered\n",
      "2019-09-27 written to file\n"
     ]
    },
    {
     "name": "stderr",
     "output_type": "stream",
     "text": [
      "/usr/local/lib/python3.7/site-packages/gdelt/parallel.py:103: UserWarning: GDELT did not return data for date time 20190928044500\n",
      "  warnings.warn(message)\n",
      "/usr/local/lib/python3.7/site-packages/gdelt/parallel.py:103: UserWarning: GDELT did not return data for date time 20190928073000\n",
      "  warnings.warn(message)\n",
      "/usr/local/lib/python3.7/site-packages/gdelt/parallel.py:103: UserWarning: GDELT did not return data for date time 20190928084500\n",
      "  warnings.warn(message)\n",
      "/usr/local/lib/python3.7/site-packages/gdelt/parallel.py:103: UserWarning: GDELT did not return data for date time 20190928230000\n",
      "  warnings.warn(message)\n"
     ]
    },
    {
     "name": "stdout",
     "output_type": "stream",
     "text": [
      "day_loaded\n",
      "cols_dropped\n",
      "null themes dropped\n",
      "locations checked\n",
      "locations filtered\n",
      "themes checked\n",
      "themes filtered\n",
      "sources checked\n",
      "sources filtered\n",
      "2019-09-28 written to file\n"
     ]
    },
    {
     "name": "stderr",
     "output_type": "stream",
     "text": [
      "/usr/local/lib/python3.7/site-packages/gdelt/parallel.py:103: UserWarning: GDELT did not return data for date time 20190929203000\n",
      "  warnings.warn(message)\n"
     ]
    },
    {
     "name": "stdout",
     "output_type": "stream",
     "text": [
      "day_loaded\n",
      "cols_dropped\n",
      "null themes dropped\n",
      "locations checked\n",
      "locations filtered\n",
      "themes checked\n",
      "themes filtered\n",
      "sources checked\n",
      "sources filtered\n",
      "2019-09-29 written to file\n"
     ]
    },
    {
     "name": "stderr",
     "output_type": "stream",
     "text": [
      "/usr/local/lib/python3.7/site-packages/gdelt/parallel.py:103: UserWarning: GDELT did not return data for date time 20190930021500\n",
      "  warnings.warn(message)\n",
      "/usr/local/lib/python3.7/site-packages/gdelt/parallel.py:103: UserWarning: GDELT did not return data for date time 20190930161500\n",
      "  warnings.warn(message)\n",
      "/usr/local/lib/python3.7/site-packages/gdelt/parallel.py:103: UserWarning: GDELT did not return data for date time 20190930163000\n",
      "  warnings.warn(message)\n",
      "/usr/local/lib/python3.7/site-packages/gdelt/parallel.py:103: UserWarning: GDELT did not return data for date time 20190930174500\n",
      "  warnings.warn(message)\n"
     ]
    },
    {
     "name": "stdout",
     "output_type": "stream",
     "text": [
      "day_loaded\n",
      "cols_dropped\n",
      "null themes dropped\n",
      "locations checked\n",
      "locations filtered\n",
      "themes checked\n",
      "themes filtered\n",
      "sources checked\n",
      "sources filtered\n",
      "2019-09-30 written to file\n"
     ]
    },
    {
     "name": "stderr",
     "output_type": "stream",
     "text": [
      "/usr/local/lib/python3.7/site-packages/gdelt/parallel.py:103: UserWarning: GDELT did not return data for date time 20191001061500\n",
      "  warnings.warn(message)\n"
     ]
    },
    {
     "name": "stdout",
     "output_type": "stream",
     "text": [
      "day_loaded\n",
      "cols_dropped\n",
      "null themes dropped\n",
      "locations checked\n",
      "locations filtered\n",
      "themes checked\n",
      "themes filtered\n",
      "sources checked\n",
      "sources filtered\n",
      "2019-10-01 written to file\n",
      "job done\n",
      "CPU times: user 2min 4s, sys: 1min 34s, total: 3min 38s\n",
      "Wall time: 7min 56s\n"
     ]
    }
   ],
   "source": [
    "%%time\n",
    "\n",
    "#create location list\n",
    "locations = ['USA', 'United States', 'US', 'U.S.']\n",
    "\n",
    "import datetime\n",
    "#sets start_date\n",
    "start_date = datetime.date(2019, 9, 1)\n",
    "#sets end_date\n",
    "end_date = datetime.date(2019, 10, 1)\n",
    "#sets the number of days to increment through\n",
    "delta = datetime.timedelta(days=1)\n",
    "\n",
    "while start_date <= end_date:\n",
    "    #extracts date in the loop and creates date string to pass the gdelt package\n",
    "    date_str = str(start_date.year) + ' ' + str(start_date.month) + ' ' + str(start_date.day)\n",
    "    \n",
    "    #loads gdelt object for the date_str\n",
    "    results = gd.Search([date_str], table='gkg', coverage=True, output='df')\n",
    "    print('day_loaded')\n",
    "\n",
    "    #dropping unused columns\n",
    "    results = results.drop(['SharingImage', 'RelatedImages', 'SocialImageEmbeds', 'SocialVideoEmbeds', 'TranslationInfo', 'Extras'], axis=1)\n",
    "    print('cols_dropped')\n",
    "    \n",
    "    #removing key na columns\n",
    "    results.dropna(subset=['Themes', 'Locations'], inplace=True)\n",
    "    print('null themes dropped')\n",
    "    \n",
    "\n",
    "    #checks for us locations\n",
    "    results['location_bool'] = results['Locations'].apply(lambda x: any(location in x for location in locations))\n",
    "    print('locations checked')\n",
    "\n",
    "\n",
    "    #filters for US locations\n",
    "    results = results[results['location_bool']==True]\n",
    "    print('locations filtered')\n",
    "\n",
    "    #checks for political themese\n",
    "    results['theme_bool'] = results['Themes'].apply(lambda x: any(theme in x for theme in theme_list))\n",
    "    print('themes checked')\n",
    "\n",
    "    #filters for relevant themes\n",
    "    results = results[results['theme_bool']==True]\n",
    "    print('themes filtered')\n",
    "    \n",
    "    #creates boolean mask to filter for source\n",
    "    results['source_bool'] = results['SourceCommonName'].apply(lambda x: any(source in str(x) for source in source_list))\n",
    "    print('sources checked')\n",
    "\n",
    "    #filters source\n",
    "    results = results[results['source_bool']==True]\n",
    "    print('sources filtered')\n",
    "    \n",
    "    #appends days worth of URLs to new file\n",
    "    results.to_csv('gdelt_gkg_2019-06-1_2019-10-1.csv', mode='a', header=False)\n",
    "    print(f'{start_date} written to file')\n",
    "    \n",
    "    #advances loop by one day\n",
    "    start_date += delta\n",
    "\n",
    "print('job done')"
   ]
  },
  {
   "cell_type": "code",
   "execution_count": 127,
   "metadata": {},
   "outputs": [],
   "source": [
    "check = pd.read_csv('/floyd/home/Capstone/cap_notebooks/notebooks/Scappers/test_csv.csv')"
   ]
  },
  {
   "cell_type": "code",
   "execution_count": 129,
   "metadata": {},
   "outputs": [
    {
     "name": "stdout",
     "output_type": "stream",
     "text": [
      "<class 'pandas.core.frame.DataFrame'>\n",
      "RangeIndex: 11315 entries, 0 to 11314\n",
      "Data columns (total 25 columns):\n",
      " #   Column                      Non-Null Count  Dtype  \n",
      "---  ------                      --------------  -----  \n",
      " 0   Unnamed: 0                  11315 non-null  int64  \n",
      " 1   GKGRECORDID                 11315 non-null  object \n",
      " 2   DATE                        11315 non-null  float64\n",
      " 3   SourceCollectionIdentifier  11315 non-null  float64\n",
      " 4   SourceCommonName            11315 non-null  object \n",
      " 5   DocumentIdentifier          11315 non-null  object \n",
      " 6   Counts                      3221 non-null   object \n",
      " 7   V2Counts                    3221 non-null   object \n",
      " 8   Themes                      11315 non-null  object \n",
      " 9   V2Themes                    11315 non-null  object \n",
      " 10  Locations                   11315 non-null  object \n",
      " 11  V2Locations                 11312 non-null  object \n",
      " 12  Persons                     10653 non-null  object \n",
      " 13  V2Persons                   10606 non-null  object \n",
      " 14  Organizations               10727 non-null  object \n",
      " 15  V2Organizations             10570 non-null  object \n",
      " 16  V2Tone                      11315 non-null  object \n",
      " 17  Dates                       5179 non-null   object \n",
      " 18  GCAM                        11315 non-null  object \n",
      " 19  Quotations                  4091 non-null   object \n",
      " 20  AllNames                    11274 non-null  object \n",
      " 21  Amounts                     10034 non-null  object \n",
      " 22  location_bool               11315 non-null  bool   \n",
      " 23  theme_bool                  11315 non-null  bool   \n",
      " 24  source_bool                 11315 non-null  bool   \n",
      "dtypes: bool(3), float64(2), int64(1), object(19)\n",
      "memory usage: 1.9+ MB\n"
     ]
    }
   ],
   "source": [
    "check.info()"
   ]
  },
  {
   "cell_type": "code",
   "execution_count": null,
   "metadata": {},
   "outputs": [],
   "source": []
  },
  {
   "cell_type": "code",
   "execution_count": null,
   "metadata": {},
   "outputs": [],
   "source": []
  },
  {
   "cell_type": "code",
   "execution_count": null,
   "metadata": {},
   "outputs": [],
   "source": []
  }
 ],
 "metadata": {
  "kernelspec": {
   "display_name": "Python 3",
   "language": "python",
   "name": "python3"
  },
  "language_info": {
   "codemirror_mode": {
    "name": "ipython",
    "version": 3
   },
   "file_extension": ".py",
   "mimetype": "text/x-python",
   "name": "python",
   "nbconvert_exporter": "python",
   "pygments_lexer": "ipython3",
   "version": "3.8.2"
  },
  "neptune": {
   "notebookId": "e02b5041-31af-425d-8420-adc31e8c629a"
  }
 },
 "nbformat": 4,
 "nbformat_minor": 4
}
