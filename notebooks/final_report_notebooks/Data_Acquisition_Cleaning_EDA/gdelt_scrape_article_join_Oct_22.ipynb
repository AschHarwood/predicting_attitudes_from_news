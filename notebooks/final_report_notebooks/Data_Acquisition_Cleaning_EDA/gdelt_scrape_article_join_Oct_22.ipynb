{
 "cells": [
  {
   "cell_type": "markdown",
   "metadata": {},
   "source": [
    "# Building V5 Dataset\n",
    "\n",
    "- Reads in multiple csv files from most recent scrape and joins them into a single file\n",
    "- These articles come a list of URLs compiled from the GDELT python package.\n",
    "- the volume of articles collect is dramatically higher, which I believe has something to do with different behaviors between accessing GDELT via its API and via Big Query\n",
    "- Joins these articles with V4 dataset, which had about a 9 month gap in articles"
   ]
  },
  {
   "cell_type": "code",
   "execution_count": 13,
   "metadata": {},
   "outputs": [],
   "source": [
    "import pandas as pd\n",
    "from ast import literal_eval\n",
    "import re\n",
    "import os\n",
    "import numpy as np"
   ]
  },
  {
   "cell_type": "code",
   "execution_count": 149,
   "metadata": {},
   "outputs": [],
   "source": [
    "df = pd.read_csv('/floyd/home/Capstone/cap_notebooks/data/gdelt_raw_new_text/gdelt_text_20190227014500-399_20190227014500-1214.csv', header=None, names=headers)"
   ]
  },
  {
   "cell_type": "code",
   "execution_count": 2,
   "metadata": {},
   "outputs": [
    {
     "name": "stdout",
     "output_type": "stream",
     "text": [
      "<DirEntry 'gdelt_text_20190405211500-18_20190409151500-479.csv'>\n",
      "<DirEntry 'gdelt_text_20190409151500-516_20190411150000-2278.csv'>\n",
      "<DirEntry 'gdelt_text_20190515173000-2437_20190517161500-2003.csv'>\n",
      "<DirEntry 'gdelt_text_20190423000000-1914_20190425030000-999.csv'>\n",
      "<DirEntry 'gdelt_text_20190227014500-399_20190301000000-500.csv'>\n",
      "<DirEntry 'gdelt_text_20190301000000-500_20190304040000-319.csv'>\n",
      "<DirEntry 'gdelt_text_20190829014500-1324_20190831183000-276.csv'>\n",
      "<DirEntry 'gdelt_text_20190807184500-676_20190810133000-684.csv'>\n",
      "<DirEntry 'gdelt_text_20190810133000-718_20190814054500-808.csv'>\n",
      "<DirEntry 'gdelt_text_20190823014500-280_20190826141500-1865.csv'>\n",
      "<DirEntry 'gdelt_text_20190517161500-2049_20190520234500-2126.csv'>\n",
      "<DirEntry 'gdelt_text_20190717201500-2762_20190721123000-236.csv'>\n",
      "<DirEntry 'gdelt_text_20190403141500-2335_20190405210000-2953.csv'>\n",
      "<DirEntry 'gdelt_text_20190322113000-131_20190325214500-2615.csv'>\n",
      "<DirEntry 'gdelt_text_20190306140000-2665_20190308191500-284.csv'>\n",
      "<DirEntry 'gdelt_text_20190320004500-1539_20190322113000-112.csv'>\n",
      "<DirEntry 'gdelt_text_20190929234500-401_20191001234500-2165.csv'>\n",
      "<DirEntry 'gdelt_text_20190623231500-358_20190626134500-1289.csv'>\n",
      "<DirEntry 'gdelt_text_20190605001500-1234_20190607000000-1240.csv'>\n",
      "<DirEntry 'gdelt_text_20190513181500-1756_20190515173000-2175.csv'>\n",
      "<DirEntry 'gdelt_text_20190506081500-1271_20190508140000-1655.csv'>\n",
      "<DirEntry 'gdelt_text_20190227014500-399_20190227014500-1214.csv'>\n",
      "<DirEntry 'gdelt_text_20190918171500-280_20190920210000-852.csv'>\n",
      "<DirEntry 'gdelt_text_20190331154500-1216_20190403141500-2212.csv'>\n",
      "<DirEntry 'gdelt_text_20190528200000-2108_20190530203000-102.csv'>\n",
      "<DirEntry 'gdelt_text_20190826141500-1999_20190829014500-1298.csv'>\n",
      "<DirEntry 'gdelt_text_20190726191500-1346_20190730154500-1402.csv'>\n",
      "<DirEntry 'gdelt_text_20190530201500-89_20190603031500-860.csv'>\n",
      "<DirEntry 'gdelt_text_20190416223000-1941_20190419080000-1391.csv'>\n",
      "<DirEntry 'gdelt_text_20190612150000-403_20190614131500-1895.csv'>\n",
      "<DirEntry 'gdelt_text_20190414051500-302_20190416223000-1741.csv'>\n",
      "<DirEntry 'gdelt_text_20190525000000-452_20190528200000-2102.csv'>\n",
      "<DirEntry 'gdelt_text_20190705040000-248_20190709114500-1067.csv'>\n",
      "<DirEntry 'gdelt_text_20190904210000-1921_20190907130000-732.csv'>\n",
      "<DirEntry 'gdelt_text_20190831183000-479_20190904210000-1733.csv'>\n",
      "<DirEntry 'gdelt_text_20190603031500-1028_20190605001500-1225.csv'>\n",
      "<DirEntry 'gdelt_text_20190325214500-2766_20190328053000-560.csv'>\n",
      "<DirEntry 'gdelt_text_20190801191500-573_20190805091500-960.csv'>\n",
      "<DirEntry 'gdelt_text_20190920210000-862_20190924114500-1786.csv'>\n",
      "<DirEntry 'gdelt_text_20190618031500-1095_20190620114500-1442.csv'>\n",
      "<DirEntry 'gdelt_text_20190411150000-2315_20190414051500-277.csv'>\n",
      "<DirEntry 'gdelt_text_20190607000000-1290_20190610123000-0.csv'>\n",
      "<DirEntry 'gdelt_text_20190907130000-741_20190910204500-349.csv'>\n",
      "<DirEntry 'gdelt_text_20190620114500-1515_20190623223000-721.csv'>\n",
      "<DirEntry 'gdelt_text_20190820173000-2055_20190823014500-212.csv'>\n",
      "<DirEntry 'gdelt_text_20190916113000-254_20190918171500-278.csv'>\n",
      "<DirEntry 'gdelt_text_20190430211500-2584_20190502224500-1140.csv'>\n",
      "<DirEntry 'gdelt_text_20190425030000-1075_20190427153000-1135.csv'>\n",
      "<DirEntry 'gdelt_text_20190628130000-1591_20190702003000-1519.csv'>\n",
      "<DirEntry 'gdelt_text_20190522224500-302_20190525000000-415.csv'>\n",
      "<DirEntry 'gdelt_text_20190312121500-310_20190314140000-227.csv'>\n",
      "<DirEntry 'gdelt_text_20190721123000-541_20190724084500-1533.csv'>\n",
      "<DirEntry 'gdelt_text_20190709114500-1156_20190712013000-929.csv'>\n",
      "<DirEntry 'gdelt_text_20190610123000-8_20190612150000-357.csv'>\n",
      "<DirEntry 'gdelt_text_20190508140000-1790_20190510103000-1098.csv'>\n",
      "<DirEntry 'gdelt_text_20190502224500-1199_20190506081500-1175.csv'>\n",
      "<DirEntry 'gdelt_text_20190614131500-1978_20190618031500-1081.csv'>\n",
      "<DirEntry 'gdelt_text_20190419080000-1425_20190423000000-1804.csv'>\n",
      "<DirEntry 'gdelt_text_20190816184500-1814_20190820173000-2019.csv'>\n",
      "<DirEntry 'gdelt_text_20190715154500-1311_20190717201500-2713.csv'>\n",
      "<DirEntry 'gdelt_text_20190712013000-1338_20190715154500-1052.csv'>\n",
      "<DirEntry 'gdelt_text_20190328053000-602_20190331154500-1014.csv'>\n",
      "<DirEntry 'gdelt_text_20190805091500-1009_20190807184500-646.csv'>\n",
      "<DirEntry 'gdelt_text_20190304040000-320_20190306140000-2550.csv'>\n",
      "<DirEntry 'gdelt_text_20190520234500-2141_20190522224500-228.csv'>\n",
      "<DirEntry 'gdelt_text_20190314140000-229_20190317051500-530.csv'>\n",
      "<DirEntry 'gdelt_text_20190910204500-441_20190913001500-779.csv'>\n",
      "<DirEntry 'gdelt_text_20190702003000-1537_20190705040000-83.csv'>\n",
      "<DirEntry 'gdelt_text_20190317051500-581_20190320004500-1524.csv'>\n",
      "<DirEntry 'gdelt_text_20190724084500-1743_20190726191500-1209.csv'>\n",
      "<DirEntry 'gdelt_text_20190427153000-1147_20190430211500-2555.csv'>\n",
      "<DirEntry 'gdelt_text_20190308191500-361_20190312121500-303.csv'>\n",
      "<DirEntry 'gdelt_text_20190730154500-1424_20190801191500-456.csv'>\n",
      "<DirEntry 'gdelt_text_20190814054500-922_20190816184500-1806.csv'>\n",
      "<DirEntry 'gdelt_text_20190626134500-1321_20190628130000-1583.csv'>\n",
      "<DirEntry 'gdelt_text_20190510103000-1099_20190513181500-1746.csv'>\n"
     ]
    }
   ],
   "source": [
    "#settles headers\n",
    "headers = ['GKGRECORDID', 'DATE', 'DocumentIdentifier', 'V2Tone', 'title', 'authors', 'publish_date', 'text' ]\n",
    "#empty list to save dfs to\n",
    "df_list = []\n",
    "\n",
    "#directory where all the files are stored\n",
    "directory = r'/floyd/home/Capstone/cap_notebooks/data/gdelt_raw_new_text'\n",
    "\n",
    "#loops through directory, reads in each csv file, converts to dataframe and appends to df_list\n",
    "for entry in os.scandir(directory):\n",
    "        if (entry.path.endswith(\".csv\")):\n",
    "            print(entry)\n",
    "            df_1 = pd.read_csv(entry.path, header=None, names=headers)\n",
    "            df_list.append(df_1)\n",
    "            #print(len(df_1))\n"
   ]
  },
  {
   "cell_type": "code",
   "execution_count": 5,
   "metadata": {},
   "outputs": [],
   "source": [
    "#merge dfs in df_list into single df\n",
    "df = pd.concat(df_list, ignore_index=True)"
   ]
  },
  {
   "cell_type": "code",
   "execution_count": 6,
   "metadata": {},
   "outputs": [],
   "source": [
    "#removes \\n and replaces with white space\n",
    "df['text'] = df['text'].replace(r'\\n',' ', regex=True)\n",
    "\n",
    "#removes \\r \n",
    "df['text'] = df['text'].replace(r'\\r','', regex=True)"
   ]
  },
  {
   "cell_type": "code",
   "execution_count": 7,
   "metadata": {},
   "outputs": [
    {
     "data": {
      "text/plain": [
       "68562"
      ]
     },
     "execution_count": 7,
     "metadata": {},
     "output_type": "execute_result"
    }
   ],
   "source": [
    "#checking duplicate text\n",
    "df['text'].duplicated().sum()"
   ]
  },
  {
   "cell_type": "code",
   "execution_count": 8,
   "metadata": {},
   "outputs": [
    {
     "data": {
      "text/plain": [
       "205"
      ]
     },
     "execution_count": 8,
     "metadata": {},
     "output_type": "execute_result"
    }
   ],
   "source": [
    "#checking duplicate links\n",
    "df['DocumentIdentifier'].duplicated().sum()"
   ]
  },
  {
   "cell_type": "code",
   "execution_count": 9,
   "metadata": {},
   "outputs": [
    {
     "data": {
      "text/plain": [
       "248"
      ]
     },
     "execution_count": 9,
     "metadata": {},
     "output_type": "execute_result"
    }
   ],
   "source": [
    "#checking duplicate record id\n",
    "df['GKGRECORDID'].duplicated().sum()"
   ]
  },
  {
   "cell_type": "code",
   "execution_count": 10,
   "metadata": {},
   "outputs": [],
   "source": [
    "#drops duplicate text\n",
    "df.drop_duplicates(subset=['text'], inplace=True)"
   ]
  },
  {
   "cell_type": "code",
   "execution_count": 11,
   "metadata": {},
   "outputs": [
    {
     "data": {
      "text/plain": [
       "0"
      ]
     },
     "execution_count": 11,
     "metadata": {},
     "output_type": "execute_result"
    }
   ],
   "source": [
    "#confirm duplicate text is gone\n",
    "df['text'].duplicated().sum()"
   ]
  },
  {
   "cell_type": "code",
   "execution_count": 12,
   "metadata": {},
   "outputs": [
    {
     "name": "stdout",
     "output_type": "stream",
     "text": [
      "<class 'pandas.core.frame.DataFrame'>\n",
      "Int64Index: 166908 entries, 0 to 235469\n",
      "Data columns (total 8 columns):\n",
      " #   Column              Non-Null Count   Dtype  \n",
      "---  ------              --------------   -----  \n",
      " 0   GKGRECORDID         166908 non-null  object \n",
      " 1   DATE                166908 non-null  float64\n",
      " 2   DocumentIdentifier  166908 non-null  object \n",
      " 3   V2Tone              166908 non-null  object \n",
      " 4   title               166904 non-null  object \n",
      " 5   authors             166908 non-null  object \n",
      " 6   publish_date        132309 non-null  object \n",
      " 7   text                166907 non-null  object \n",
      "dtypes: float64(1), object(7)\n",
      "memory usage: 11.5+ MB\n"
     ]
    }
   ],
   "source": [
    "#checking nulls and rows\n",
    "df.info()"
   ]
  },
  {
   "cell_type": "code",
   "execution_count": 13,
   "metadata": {},
   "outputs": [],
   "source": [
    "#drop duplicates of url\n",
    "df.drop_duplicates(subset=['DocumentIdentifier'], inplace=True)"
   ]
  },
  {
   "cell_type": "code",
   "execution_count": 14,
   "metadata": {},
   "outputs": [],
   "source": [
    "#drop duplicates of record id\n",
    "df.drop_duplicates(subset=['GKGRECORDID'], inplace=True)"
   ]
  },
  {
   "cell_type": "code",
   "execution_count": 15,
   "metadata": {},
   "outputs": [
    {
     "data": {
      "text/plain": [
       "0"
      ]
     },
     "execution_count": 15,
     "metadata": {},
     "output_type": "execute_result"
    }
   ],
   "source": [
    "#checking duplicates\n",
    "df['DocumentIdentifier'].duplicated().sum()"
   ]
  },
  {
   "cell_type": "code",
   "execution_count": 16,
   "metadata": {},
   "outputs": [],
   "source": [
    "#counting characters in each string for later filtering\n",
    "df['text_length'] = df['text'].apply(lambda x: len(str(x)))"
   ]
  },
  {
   "cell_type": "code",
   "execution_count": 17,
   "metadata": {},
   "outputs": [
    {
     "data": {
      "text/html": [
       "<div>\n",
       "<style scoped>\n",
       "    .dataframe tbody tr th:only-of-type {\n",
       "        vertical-align: middle;\n",
       "    }\n",
       "\n",
       "    .dataframe tbody tr th {\n",
       "        vertical-align: top;\n",
       "    }\n",
       "\n",
       "    .dataframe thead th {\n",
       "        text-align: right;\n",
       "    }\n",
       "</style>\n",
       "<table border=\"1\" class=\"dataframe\">\n",
       "  <thead>\n",
       "    <tr style=\"text-align: right;\">\n",
       "      <th></th>\n",
       "      <th>GKGRECORDID</th>\n",
       "      <th>DATE</th>\n",
       "      <th>DocumentIdentifier</th>\n",
       "      <th>V2Tone</th>\n",
       "      <th>title</th>\n",
       "      <th>authors</th>\n",
       "      <th>publish_date</th>\n",
       "      <th>text</th>\n",
       "      <th>text_length</th>\n",
       "    </tr>\n",
       "  </thead>\n",
       "  <tbody>\n",
       "    <tr>\n",
       "      <th>0</th>\n",
       "      <td>20190405211500-18</td>\n",
       "      <td>2.019041e+13</td>\n",
       "      <td>https://www.reuters.com/article/us-turkey-secu...</td>\n",
       "      <td>-0.323624595469256,2.26537216828479,2.58899676...</td>\n",
       "      <td>Erdogan says Turkey continues S-400 payments, ...</td>\n",
       "      <td>['Reuters Staff']</td>\n",
       "      <td>2019-04-05 12:42:40+00:00</td>\n",
       "      <td>Turkish President Tayyip Erdogan speaks during...</td>\n",
       "      <td>1652</td>\n",
       "    </tr>\n",
       "    <tr>\n",
       "      <th>1</th>\n",
       "      <td>20190405211500-85</td>\n",
       "      <td>2.019041e+13</td>\n",
       "      <td>https://www.latimes.com/socal/glendale-news-pr...</td>\n",
       "      <td>-2.18790218790219,2.18790218790219,4.375804375...</td>\n",
       "      <td>Glendale Unified looks to chop $10 million in ...</td>\n",
       "      <td>['Staff Writer', 'Andrew J. Campa Covers The E...</td>\n",
       "      <td>2019-02-12 00:00:00</td>\n",
       "      <td>Cutbacks — whether immediate or done over a fe...</td>\n",
       "      <td>4710</td>\n",
       "    </tr>\n",
       "    <tr>\n",
       "      <th>2</th>\n",
       "      <td>20190405211500-192</td>\n",
       "      <td>2.019041e+13</td>\n",
       "      <td>https://www.reuters.com/article/us-health-work...</td>\n",
       "      <td>0.684931506849315,4.62328767123288,3.938356164...</td>\n",
       "      <td>Workplace yoga can indeed lower employee stress</td>\n",
       "      <td>['Lisa Rapaport']</td>\n",
       "      <td>2019-04-05 20:50:18+00:00</td>\n",
       "      <td>People who get to do yoga at work may be less ...</td>\n",
       "      <td>3477</td>\n",
       "    </tr>\n",
       "    <tr>\n",
       "      <th>3</th>\n",
       "      <td>20190405211500-212</td>\n",
       "      <td>2.019041e+13</td>\n",
       "      <td>https://uk.reuters.com/article/brazil-grains/b...</td>\n",
       "      <td>-1.72839506172839,1.48148148148148,3.209876543...</td>\n",
       "      <td>Brazil soybean sales lag, spurring worries ove...</td>\n",
       "      <td>['José Roberto Gomes']</td>\n",
       "      <td>2019-04-05 19:28:22+00:00</td>\n",
       "      <td>SAO PAULO, April 5 (Reuters) - The sale of Bra...</td>\n",
       "      <td>2369</td>\n",
       "    </tr>\n",
       "    <tr>\n",
       "      <th>4</th>\n",
       "      <td>20190405211500-228</td>\n",
       "      <td>2.019041e+13</td>\n",
       "      <td>https://www.msn.com/en-us/news/other/mike-pomp...</td>\n",
       "      <td>-1.05263157894737,1.05263157894737,2.105263157...</td>\n",
       "      <td>NaN</td>\n",
       "      <td>[]</td>\n",
       "      <td>NaN</td>\n",
       "      <td>You are using an older browser version. Please...</td>\n",
       "      <td>99</td>\n",
       "    </tr>\n",
       "  </tbody>\n",
       "</table>\n",
       "</div>"
      ],
      "text/plain": [
       "          GKGRECORDID          DATE  \\\n",
       "0   20190405211500-18  2.019041e+13   \n",
       "1   20190405211500-85  2.019041e+13   \n",
       "2  20190405211500-192  2.019041e+13   \n",
       "3  20190405211500-212  2.019041e+13   \n",
       "4  20190405211500-228  2.019041e+13   \n",
       "\n",
       "                                  DocumentIdentifier  \\\n",
       "0  https://www.reuters.com/article/us-turkey-secu...   \n",
       "1  https://www.latimes.com/socal/glendale-news-pr...   \n",
       "2  https://www.reuters.com/article/us-health-work...   \n",
       "3  https://uk.reuters.com/article/brazil-grains/b...   \n",
       "4  https://www.msn.com/en-us/news/other/mike-pomp...   \n",
       "\n",
       "                                              V2Tone  \\\n",
       "0  -0.323624595469256,2.26537216828479,2.58899676...   \n",
       "1  -2.18790218790219,2.18790218790219,4.375804375...   \n",
       "2  0.684931506849315,4.62328767123288,3.938356164...   \n",
       "3  -1.72839506172839,1.48148148148148,3.209876543...   \n",
       "4  -1.05263157894737,1.05263157894737,2.105263157...   \n",
       "\n",
       "                                               title  \\\n",
       "0  Erdogan says Turkey continues S-400 payments, ...   \n",
       "1  Glendale Unified looks to chop $10 million in ...   \n",
       "2    Workplace yoga can indeed lower employee stress   \n",
       "3  Brazil soybean sales lag, spurring worries ove...   \n",
       "4                                                NaN   \n",
       "\n",
       "                                             authors  \\\n",
       "0                                  ['Reuters Staff']   \n",
       "1  ['Staff Writer', 'Andrew J. Campa Covers The E...   \n",
       "2                                  ['Lisa Rapaport']   \n",
       "3                             ['José Roberto Gomes']   \n",
       "4                                                 []   \n",
       "\n",
       "                publish_date  \\\n",
       "0  2019-04-05 12:42:40+00:00   \n",
       "1        2019-02-12 00:00:00   \n",
       "2  2019-04-05 20:50:18+00:00   \n",
       "3  2019-04-05 19:28:22+00:00   \n",
       "4                        NaN   \n",
       "\n",
       "                                                text  text_length  \n",
       "0  Turkish President Tayyip Erdogan speaks during...         1652  \n",
       "1  Cutbacks — whether immediate or done over a fe...         4710  \n",
       "2  People who get to do yoga at work may be less ...         3477  \n",
       "3  SAO PAULO, April 5 (Reuters) - The sale of Bra...         2369  \n",
       "4  You are using an older browser version. Please...           99  "
      ]
     },
     "execution_count": 17,
     "metadata": {},
     "output_type": "execute_result"
    }
   ],
   "source": [
    "df.head()"
   ]
  },
  {
   "cell_type": "code",
   "execution_count": 218,
   "metadata": {},
   "outputs": [
    {
     "data": {
      "text/plain": [
       "(166908, 9)"
      ]
     },
     "execution_count": 218,
     "metadata": {},
     "output_type": "execute_result"
    }
   ],
   "source": [
    "df.shape"
   ]
  },
  {
   "cell_type": "code",
   "execution_count": 18,
   "metadata": {},
   "outputs": [],
   "source": [
    "#keep only articles that are longer than 500 characters\n",
    "df = df[df['text_length']>500]"
   ]
  },
  {
   "cell_type": "code",
   "execution_count": 19,
   "metadata": {},
   "outputs": [
    {
     "name": "stdout",
     "output_type": "stream",
     "text": [
      "<class 'pandas.core.frame.DataFrame'>\n",
      "Int64Index: 163746 entries, 0 to 235469\n",
      "Data columns (total 9 columns):\n",
      " #   Column              Non-Null Count   Dtype  \n",
      "---  ------              --------------   -----  \n",
      " 0   GKGRECORDID         163746 non-null  object \n",
      " 1   DATE                163746 non-null  float64\n",
      " 2   DocumentIdentifier  163746 non-null  object \n",
      " 3   V2Tone              163746 non-null  object \n",
      " 4   title               163744 non-null  object \n",
      " 5   authors             163746 non-null  object \n",
      " 6   publish_date        131394 non-null  object \n",
      " 7   text                163746 non-null  object \n",
      " 8   text_length         163746 non-null  int64  \n",
      "dtypes: float64(1), int64(1), object(7)\n",
      "memory usage: 12.5+ MB\n"
     ]
    }
   ],
   "source": [
    "df.info()"
   ]
  },
  {
   "cell_type": "code",
   "execution_count": 20,
   "metadata": {},
   "outputs": [],
   "source": [
    "#convert date to int\n",
    "df['DATE'] = df['DATE'].astype(int)"
   ]
  },
  {
   "cell_type": "code",
   "execution_count": 21,
   "metadata": {},
   "outputs": [],
   "source": [
    "#convert date to datetime\n",
    "df['DATE'] = pd.to_datetime(df['DATE'], format='%Y%m%d%H%M%S')"
   ]
  },
  {
   "cell_type": "code",
   "execution_count": 22,
   "metadata": {},
   "outputs": [
    {
     "name": "stdout",
     "output_type": "stream",
     "text": [
      "<class 'pandas.core.frame.DataFrame'>\n",
      "Int64Index: 163746 entries, 0 to 235469\n",
      "Data columns (total 9 columns):\n",
      " #   Column              Non-Null Count   Dtype         \n",
      "---  ------              --------------   -----         \n",
      " 0   GKGRECORDID         163746 non-null  object        \n",
      " 1   DATE                163746 non-null  datetime64[ns]\n",
      " 2   DocumentIdentifier  163746 non-null  object        \n",
      " 3   V2Tone              163746 non-null  object        \n",
      " 4   title               163744 non-null  object        \n",
      " 5   authors             163746 non-null  object        \n",
      " 6   publish_date        131394 non-null  object        \n",
      " 7   text                163746 non-null  object        \n",
      " 8   text_length         163746 non-null  int64         \n",
      "dtypes: datetime64[ns](1), int64(1), object(7)\n",
      "memory usage: 12.5+ MB\n"
     ]
    }
   ],
   "source": [
    "df.info()"
   ]
  },
  {
   "cell_type": "code",
   "execution_count": 23,
   "metadata": {},
   "outputs": [],
   "source": [
    "#sort by date\n",
    "df = df.sort_values('DATE')"
   ]
  },
  {
   "cell_type": "code",
   "execution_count": 24,
   "metadata": {},
   "outputs": [
    {
     "data": {
      "text/html": [
       "<div>\n",
       "<style scoped>\n",
       "    .dataframe tbody tr th:only-of-type {\n",
       "        vertical-align: middle;\n",
       "    }\n",
       "\n",
       "    .dataframe tbody tr th {\n",
       "        vertical-align: top;\n",
       "    }\n",
       "\n",
       "    .dataframe thead th {\n",
       "        text-align: right;\n",
       "    }\n",
       "</style>\n",
       "<table border=\"1\" class=\"dataframe\">\n",
       "  <thead>\n",
       "    <tr style=\"text-align: right;\">\n",
       "      <th></th>\n",
       "      <th>GKGRECORDID</th>\n",
       "      <th>DATE</th>\n",
       "      <th>DocumentIdentifier</th>\n",
       "      <th>V2Tone</th>\n",
       "      <th>title</th>\n",
       "      <th>authors</th>\n",
       "      <th>publish_date</th>\n",
       "      <th>text</th>\n",
       "      <th>text_length</th>\n",
       "    </tr>\n",
       "  </thead>\n",
       "  <tbody>\n",
       "    <tr>\n",
       "      <th>10667</th>\n",
       "      <td>20190227000000-1555</td>\n",
       "      <td>2019-02-27 00:00:00</td>\n",
       "      <td>https://www.cbsnews.com/news/thousands-of-migr...</td>\n",
       "      <td>-7.41687979539642,1.79028132992327,9.207161125...</td>\n",
       "      <td>Thousands of migrant children were sexually ab...</td>\n",
       "      <td>['Camilo Montoya-Galvez', 'Camilo Montoya-Galv...</td>\n",
       "      <td>NaN</td>\n",
       "      <td>This story has been updated with the most rece...</td>\n",
       "      <td>6293</td>\n",
       "    </tr>\n",
       "    <tr>\n",
       "      <th>10676</th>\n",
       "      <td>20190227000000-318</td>\n",
       "      <td>2019-02-27 00:00:00</td>\n",
       "      <td>https://www.huffpost.com/entry/california-salm...</td>\n",
       "      <td>-0.0779220779220777,2.7012987012987,2.77922077...</td>\n",
       "      <td>This Project Aimed To Be A Model For Saving Fa...</td>\n",
       "      <td>['Margiana Petersen-Rockney']</td>\n",
       "      <td>2019-02-26 15:22:35-05:00</td>\n",
       "      <td>This story was produced and originally publish...</td>\n",
       "      <td>22327</td>\n",
       "    </tr>\n",
       "    <tr>\n",
       "      <th>10675</th>\n",
       "      <td>20190227000000-315</td>\n",
       "      <td>2019-02-27 00:00:00</td>\n",
       "      <td>https://www.huffpost.com/entry/us-military-int...</td>\n",
       "      <td>-3.91414141414141,3.15656565656566,7.070707070...</td>\n",
       "      <td>The U.S. Is Moving Closer To Military Interven...</td>\n",
       "      <td>['On Assignment For Huffpost']</td>\n",
       "      <td>2019-02-26 17:07:51-05:00</td>\n",
       "      <td>CÚCUTA, Colombia — The U.S. moved closer to mi...</td>\n",
       "      <td>9160</td>\n",
       "    </tr>\n",
       "    <tr>\n",
       "      <th>10674</th>\n",
       "      <td>20190227000000-181</td>\n",
       "      <td>2019-02-27 00:00:00</td>\n",
       "      <td>http://www.latimes.com/socal/burbank-leader/ne...</td>\n",
       "      <td>6.957928802589,7.92880258899676,0.970873786407...</td>\n",
       "      <td>No plateau in sight for Burroughs High senior ...</td>\n",
       "      <td>['Staff Writer', 'Andrew J. Campa Covers The E...</td>\n",
       "      <td>2019-02-26 00:00:00</td>\n",
       "      <td>It’s not the glistening tiara nor the royal pu...</td>\n",
       "      <td>3517</td>\n",
       "    </tr>\n",
       "    <tr>\n",
       "      <th>10673</th>\n",
       "      <td>20190227000000-2604</td>\n",
       "      <td>2019-02-27 00:00:00</td>\n",
       "      <td>https://uk.reuters.com/article/us-usa-congress...</td>\n",
       "      <td>0.770416024653313,3.54391371340524,2.773497688...</td>\n",
       "      <td>U.S. House Democrats introduce sweeping 'Medic...</td>\n",
       "      <td>['Yasmeen Abutaleb']</td>\n",
       "      <td>2019-02-26 22:18:42+00:00</td>\n",
       "      <td>WASHINGTON (Reuters) - Democrats in the U.S. H...</td>\n",
       "      <td>3760</td>\n",
       "    </tr>\n",
       "    <tr>\n",
       "      <th>...</th>\n",
       "      <td>...</td>\n",
       "      <td>...</td>\n",
       "      <td>...</td>\n",
       "      <td>...</td>\n",
       "      <td>...</td>\n",
       "      <td>...</td>\n",
       "      <td>...</td>\n",
       "      <td>...</td>\n",
       "      <td>...</td>\n",
       "    </tr>\n",
       "    <tr>\n",
       "      <th>54670</th>\n",
       "      <td>20191001234500-1171</td>\n",
       "      <td>2019-10-01 23:45:00</td>\n",
       "      <td>https://www.latimes.com/california/story/2019-...</td>\n",
       "      <td>0.482758620689655,3.37931034482759,2.896551724...</td>\n",
       "      <td>Cemetery for forgotten babies commemorates its...</td>\n",
       "      <td>['Pam Kragen Is A Feature Writer Who Specializ...</td>\n",
       "      <td>2019-10-01 00:00:00</td>\n",
       "      <td>“Adam, Jaren, Angel ... John, Sebastian, Star ...</td>\n",
       "      <td>8132</td>\n",
       "    </tr>\n",
       "    <tr>\n",
       "      <th>54671</th>\n",
       "      <td>20191001234500-1194</td>\n",
       "      <td>2019-10-01 23:45:00</td>\n",
       "      <td>https://www.reuters.com/article/us-usa-trump-w...</td>\n",
       "      <td>-1.85614849187935,2.08816705336427,3.944315545...</td>\n",
       "      <td>Pro-Trump group to target U.S. Democrats with ...</td>\n",
       "      <td>['Ginger Gibson']</td>\n",
       "      <td>2019-10-01 23:17:47+00:00</td>\n",
       "      <td>WASHINGTON (Reuters) - America First Policies,...</td>\n",
       "      <td>2781</td>\n",
       "    </tr>\n",
       "    <tr>\n",
       "      <th>54672</th>\n",
       "      <td>20191001234500-1404</td>\n",
       "      <td>2019-10-01 23:45:00</td>\n",
       "      <td>https://www.breitbart.com/clips/2019/10/01/mic...</td>\n",
       "      <td>-0.364963503649635,1.45985401459854,1.82481751...</td>\n",
       "      <td>Michael Moore: Joe Biden Is ‘Afraid’ of Hunter...</td>\n",
       "      <td>['Pam Key']</td>\n",
       "      <td>2019-10-01 00:00:00</td>\n",
       "      <td>On Tuesday’s broadcast of MSNBC’s “The Beat,” ...</td>\n",
       "      <td>1420</td>\n",
       "    </tr>\n",
       "    <tr>\n",
       "      <th>54673</th>\n",
       "      <td>20191001234500-1669</td>\n",
       "      <td>2019-10-01 23:45:00</td>\n",
       "      <td>https://www.nbcnews.com/politics/meet-the-pres...</td>\n",
       "      <td>-2.18978102189781,1.9735063530684,4.1632873749...</td>\n",
       "      <td>More than 50 former female ambassadors call on...</td>\n",
       "      <td>[]</td>\n",
       "      <td>2019-10-01 21:32:00+00:00</td>\n",
       "      <td>SEE NEW POSTS  More than 50 former female amba...</td>\n",
       "      <td>18891</td>\n",
       "    </tr>\n",
       "    <tr>\n",
       "      <th>54665</th>\n",
       "      <td>20191001234500-20</td>\n",
       "      <td>2019-10-01 23:45:00</td>\n",
       "      <td>https://www.latimes.com/socal/daily-pilot/news...</td>\n",
       "      <td>0,0.887573964497041,0.887573964497041,1.775147...</td>\n",
       "      <td>Qualtrics co-founder buys Newport Beach mansio...</td>\n",
       "      <td>['Staff Writer', 'Former Los Angeles Times Rep...</td>\n",
       "      <td>2019-10-01 00:00:00</td>\n",
       "      <td>Qualtrics co-founder Jared Smith has purchased...</td>\n",
       "      <td>3588</td>\n",
       "    </tr>\n",
       "  </tbody>\n",
       "</table>\n",
       "<p>163746 rows × 9 columns</p>\n",
       "</div>"
      ],
      "text/plain": [
       "               GKGRECORDID                DATE  \\\n",
       "10667  20190227000000-1555 2019-02-27 00:00:00   \n",
       "10676   20190227000000-318 2019-02-27 00:00:00   \n",
       "10675   20190227000000-315 2019-02-27 00:00:00   \n",
       "10674   20190227000000-181 2019-02-27 00:00:00   \n",
       "10673  20190227000000-2604 2019-02-27 00:00:00   \n",
       "...                    ...                 ...   \n",
       "54670  20191001234500-1171 2019-10-01 23:45:00   \n",
       "54671  20191001234500-1194 2019-10-01 23:45:00   \n",
       "54672  20191001234500-1404 2019-10-01 23:45:00   \n",
       "54673  20191001234500-1669 2019-10-01 23:45:00   \n",
       "54665    20191001234500-20 2019-10-01 23:45:00   \n",
       "\n",
       "                                      DocumentIdentifier  \\\n",
       "10667  https://www.cbsnews.com/news/thousands-of-migr...   \n",
       "10676  https://www.huffpost.com/entry/california-salm...   \n",
       "10675  https://www.huffpost.com/entry/us-military-int...   \n",
       "10674  http://www.latimes.com/socal/burbank-leader/ne...   \n",
       "10673  https://uk.reuters.com/article/us-usa-congress...   \n",
       "...                                                  ...   \n",
       "54670  https://www.latimes.com/california/story/2019-...   \n",
       "54671  https://www.reuters.com/article/us-usa-trump-w...   \n",
       "54672  https://www.breitbart.com/clips/2019/10/01/mic...   \n",
       "54673  https://www.nbcnews.com/politics/meet-the-pres...   \n",
       "54665  https://www.latimes.com/socal/daily-pilot/news...   \n",
       "\n",
       "                                                  V2Tone  \\\n",
       "10667  -7.41687979539642,1.79028132992327,9.207161125...   \n",
       "10676  -0.0779220779220777,2.7012987012987,2.77922077...   \n",
       "10675  -3.91414141414141,3.15656565656566,7.070707070...   \n",
       "10674  6.957928802589,7.92880258899676,0.970873786407...   \n",
       "10673  0.770416024653313,3.54391371340524,2.773497688...   \n",
       "...                                                  ...   \n",
       "54670  0.482758620689655,3.37931034482759,2.896551724...   \n",
       "54671  -1.85614849187935,2.08816705336427,3.944315545...   \n",
       "54672  -0.364963503649635,1.45985401459854,1.82481751...   \n",
       "54673  -2.18978102189781,1.9735063530684,4.1632873749...   \n",
       "54665  0,0.887573964497041,0.887573964497041,1.775147...   \n",
       "\n",
       "                                                   title  \\\n",
       "10667  Thousands of migrant children were sexually ab...   \n",
       "10676  This Project Aimed To Be A Model For Saving Fa...   \n",
       "10675  The U.S. Is Moving Closer To Military Interven...   \n",
       "10674  No plateau in sight for Burroughs High senior ...   \n",
       "10673  U.S. House Democrats introduce sweeping 'Medic...   \n",
       "...                                                  ...   \n",
       "54670  Cemetery for forgotten babies commemorates its...   \n",
       "54671  Pro-Trump group to target U.S. Democrats with ...   \n",
       "54672  Michael Moore: Joe Biden Is ‘Afraid’ of Hunter...   \n",
       "54673  More than 50 former female ambassadors call on...   \n",
       "54665  Qualtrics co-founder buys Newport Beach mansio...   \n",
       "\n",
       "                                                 authors  \\\n",
       "10667  ['Camilo Montoya-Galvez', 'Camilo Montoya-Galv...   \n",
       "10676                      ['Margiana Petersen-Rockney']   \n",
       "10675                     ['On Assignment For Huffpost']   \n",
       "10674  ['Staff Writer', 'Andrew J. Campa Covers The E...   \n",
       "10673                               ['Yasmeen Abutaleb']   \n",
       "...                                                  ...   \n",
       "54670  ['Pam Kragen Is A Feature Writer Who Specializ...   \n",
       "54671                                  ['Ginger Gibson']   \n",
       "54672                                        ['Pam Key']   \n",
       "54673                                                 []   \n",
       "54665  ['Staff Writer', 'Former Los Angeles Times Rep...   \n",
       "\n",
       "                    publish_date  \\\n",
       "10667                        NaN   \n",
       "10676  2019-02-26 15:22:35-05:00   \n",
       "10675  2019-02-26 17:07:51-05:00   \n",
       "10674        2019-02-26 00:00:00   \n",
       "10673  2019-02-26 22:18:42+00:00   \n",
       "...                          ...   \n",
       "54670        2019-10-01 00:00:00   \n",
       "54671  2019-10-01 23:17:47+00:00   \n",
       "54672        2019-10-01 00:00:00   \n",
       "54673  2019-10-01 21:32:00+00:00   \n",
       "54665        2019-10-01 00:00:00   \n",
       "\n",
       "                                                    text  text_length  \n",
       "10667  This story has been updated with the most rece...         6293  \n",
       "10676  This story was produced and originally publish...        22327  \n",
       "10675  CÚCUTA, Colombia — The U.S. moved closer to mi...         9160  \n",
       "10674  It’s not the glistening tiara nor the royal pu...         3517  \n",
       "10673  WASHINGTON (Reuters) - Democrats in the U.S. H...         3760  \n",
       "...                                                  ...          ...  \n",
       "54670  “Adam, Jaren, Angel ... John, Sebastian, Star ...         8132  \n",
       "54671  WASHINGTON (Reuters) - America First Policies,...         2781  \n",
       "54672  On Tuesday’s broadcast of MSNBC’s “The Beat,” ...         1420  \n",
       "54673  SEE NEW POSTS  More than 50 former female amba...        18891  \n",
       "54665  Qualtrics co-founder Jared Smith has purchased...         3588  \n",
       "\n",
       "[163746 rows x 9 columns]"
      ]
     },
     "execution_count": 24,
     "metadata": {},
     "output_type": "execute_result"
    }
   ],
   "source": [
    "df"
   ]
  },
  {
   "cell_type": "code",
   "execution_count": 9,
   "metadata": {},
   "outputs": [
    {
     "name": "stdout",
     "output_type": "stream",
     "text": [
      "Requirement already satisfied: spacy in /usr/local/lib/python3.7/site-packages (2.2.4)\n",
      "Requirement already satisfied: wasabi<1.1.0,>=0.4.0 in /usr/local/lib/python3.7/site-packages (from spacy) (0.6.0)\n",
      "Requirement already satisfied: cymem<2.1.0,>=2.0.2 in /usr/local/lib/python3.7/site-packages (from spacy) (2.0.3)\n",
      "Requirement already satisfied: srsly<1.1.0,>=1.0.2 in /usr/local/lib/python3.7/site-packages (from spacy) (1.0.2)\n",
      "Requirement already satisfied: catalogue<1.1.0,>=0.0.7 in /usr/local/lib/python3.7/site-packages (from spacy) (1.0.0)\n",
      "Requirement already satisfied: blis<0.5.0,>=0.4.0 in /usr/local/lib/python3.7/site-packages (from spacy) (0.4.1)\n",
      "Requirement already satisfied: requests<3.0.0,>=2.13.0 in /usr/local/lib/python3.7/site-packages (from spacy) (2.23.0)\n",
      "Requirement already satisfied: thinc==7.4.0 in /usr/local/lib/python3.7/site-packages (from spacy) (7.4.0)\n",
      "Requirement already satisfied: setuptools in /usr/local/lib/python3.7/site-packages (from spacy) (46.2.0)\n",
      "Requirement already satisfied: tqdm<5.0.0,>=4.38.0 in /usr/local/lib/python3.7/site-packages (from spacy) (4.46.0)\n",
      "Requirement already satisfied: numpy>=1.15.0 in /usr/local/lib/python3.7/site-packages (from spacy) (1.18.4)\n",
      "Requirement already satisfied: murmurhash<1.1.0,>=0.28.0 in /usr/local/lib/python3.7/site-packages (from spacy) (1.0.2)\n",
      "Requirement already satisfied: preshed<3.1.0,>=3.0.2 in /usr/local/lib/python3.7/site-packages (from spacy) (3.0.2)\n",
      "Requirement already satisfied: plac<1.2.0,>=0.9.6 in /usr/local/lib/python3.7/site-packages (from spacy) (1.1.3)\n",
      "Requirement already satisfied: importlib-metadata>=0.20; python_version < \"3.8\" in /usr/local/lib/python3.7/site-packages (from catalogue<1.1.0,>=0.0.7->spacy) (1.6.0)\n",
      "Requirement already satisfied: chardet<4,>=3.0.2 in /usr/local/lib/python3.7/site-packages (from requests<3.0.0,>=2.13.0->spacy) (3.0.4)\n",
      "Requirement already satisfied: idna<3,>=2.5 in /usr/local/lib/python3.7/site-packages (from requests<3.0.0,>=2.13.0->spacy) (2.9)\n",
      "Requirement already satisfied: certifi>=2017.4.17 in /usr/local/lib/python3.7/site-packages (from requests<3.0.0,>=2.13.0->spacy) (2020.4.5.1)\n",
      "Requirement already satisfied: urllib3!=1.25.0,!=1.25.1,<1.26,>=1.21.1 in /usr/local/lib/python3.7/site-packages (from requests<3.0.0,>=2.13.0->spacy) (1.24.3)\n",
      "Requirement already satisfied: zipp>=0.5 in /usr/local/lib/python3.7/site-packages (from importlib-metadata>=0.20; python_version < \"3.8\"->catalogue<1.1.0,>=0.0.7->spacy) (3.1.0)\n",
      "\u001b[33mWARNING: You are using pip version 20.1; however, version 20.2.4 is available.\n",
      "You should consider upgrading via the '/usr/local/bin/python -m pip install --upgrade pip' command.\u001b[0m\n",
      "Requirement already satisfied: en_core_web_sm==2.2.5 from https://github.com/explosion/spacy-models/releases/download/en_core_web_sm-2.2.5/en_core_web_sm-2.2.5.tar.gz#egg=en_core_web_sm==2.2.5 in /usr/local/lib/python3.7/site-packages (2.2.5)\n",
      "Requirement already satisfied: spacy>=2.2.2 in /usr/local/lib/python3.7/site-packages (from en_core_web_sm==2.2.5) (2.2.4)\n",
      "Requirement already satisfied: requests<3.0.0,>=2.13.0 in /usr/local/lib/python3.7/site-packages (from spacy>=2.2.2->en_core_web_sm==2.2.5) (2.23.0)\n",
      "Requirement already satisfied: numpy>=1.15.0 in /usr/local/lib/python3.7/site-packages (from spacy>=2.2.2->en_core_web_sm==2.2.5) (1.18.4)\n",
      "Requirement already satisfied: srsly<1.1.0,>=1.0.2 in /usr/local/lib/python3.7/site-packages (from spacy>=2.2.2->en_core_web_sm==2.2.5) (1.0.2)\n",
      "Requirement already satisfied: plac<1.2.0,>=0.9.6 in /usr/local/lib/python3.7/site-packages (from spacy>=2.2.2->en_core_web_sm==2.2.5) (1.1.3)\n",
      "Requirement already satisfied: blis<0.5.0,>=0.4.0 in /usr/local/lib/python3.7/site-packages (from spacy>=2.2.2->en_core_web_sm==2.2.5) (0.4.1)\n",
      "Requirement already satisfied: cymem<2.1.0,>=2.0.2 in /usr/local/lib/python3.7/site-packages (from spacy>=2.2.2->en_core_web_sm==2.2.5) (2.0.3)\n",
      "Requirement already satisfied: thinc==7.4.0 in /usr/local/lib/python3.7/site-packages (from spacy>=2.2.2->en_core_web_sm==2.2.5) (7.4.0)\n",
      "Requirement already satisfied: tqdm<5.0.0,>=4.38.0 in /usr/local/lib/python3.7/site-packages (from spacy>=2.2.2->en_core_web_sm==2.2.5) (4.46.0)\n",
      "Requirement already satisfied: preshed<3.1.0,>=3.0.2 in /usr/local/lib/python3.7/site-packages (from spacy>=2.2.2->en_core_web_sm==2.2.5) (3.0.2)\n",
      "Requirement already satisfied: catalogue<1.1.0,>=0.0.7 in /usr/local/lib/python3.7/site-packages (from spacy>=2.2.2->en_core_web_sm==2.2.5) (1.0.0)\n",
      "Requirement already satisfied: setuptools in /usr/local/lib/python3.7/site-packages (from spacy>=2.2.2->en_core_web_sm==2.2.5) (46.2.0)\n",
      "Requirement already satisfied: murmurhash<1.1.0,>=0.28.0 in /usr/local/lib/python3.7/site-packages (from spacy>=2.2.2->en_core_web_sm==2.2.5) (1.0.2)\n",
      "Requirement already satisfied: wasabi<1.1.0,>=0.4.0 in /usr/local/lib/python3.7/site-packages (from spacy>=2.2.2->en_core_web_sm==2.2.5) (0.6.0)\n",
      "Requirement already satisfied: chardet<4,>=3.0.2 in /usr/local/lib/python3.7/site-packages (from requests<3.0.0,>=2.13.0->spacy>=2.2.2->en_core_web_sm==2.2.5) (3.0.4)\n",
      "Requirement already satisfied: certifi>=2017.4.17 in /usr/local/lib/python3.7/site-packages (from requests<3.0.0,>=2.13.0->spacy>=2.2.2->en_core_web_sm==2.2.5) (2020.4.5.1)\n",
      "Requirement already satisfied: urllib3!=1.25.0,!=1.25.1,<1.26,>=1.21.1 in /usr/local/lib/python3.7/site-packages (from requests<3.0.0,>=2.13.0->spacy>=2.2.2->en_core_web_sm==2.2.5) (1.24.3)\n",
      "Requirement already satisfied: idna<3,>=2.5 in /usr/local/lib/python3.7/site-packages (from requests<3.0.0,>=2.13.0->spacy>=2.2.2->en_core_web_sm==2.2.5) (2.9)\n",
      "Requirement already satisfied: importlib-metadata>=0.20; python_version < \"3.8\" in /usr/local/lib/python3.7/site-packages (from catalogue<1.1.0,>=0.0.7->spacy>=2.2.2->en_core_web_sm==2.2.5) (1.6.0)\n",
      "Requirement already satisfied: zipp>=0.5 in /usr/local/lib/python3.7/site-packages (from importlib-metadata>=0.20; python_version < \"3.8\"->catalogue<1.1.0,>=0.0.7->spacy>=2.2.2->en_core_web_sm==2.2.5) (3.1.0)\n",
      "\u001b[33mWARNING: You are using pip version 20.1; however, version 20.2.4 is available.\n",
      "You should consider upgrading via the '/usr/local/bin/python -m pip install --upgrade pip' command.\u001b[0m\n",
      "\u001b[38;5;2m✔ Download and installation successful\u001b[0m\n",
      "You can now load the model via spacy.load('en_core_web_sm')\n"
     ]
    }
   ],
   "source": [
    "#installing spacy\n",
    "!pip install spacy\n",
    "!python -m spacy download en_core_web_sm"
   ]
  },
  {
   "cell_type": "code",
   "execution_count": 10,
   "metadata": {},
   "outputs": [],
   "source": [
    "#importing spacy\n",
    "import spacy"
   ]
  },
  {
   "cell_type": "code",
   "execution_count": 11,
   "metadata": {},
   "outputs": [],
   "source": [
    "#reusing my spacy tokenizer\n",
    "#this one has been modified from previous versions, in that I disable spacy NLP functions I wasn't using\n",
    "#for simple tokenizing, this increased speed dramatically\n",
    "nlp = spacy.load(\"en_core_web_sm\", disable=['tagger', 'parser', 'ner'])\n",
    "def tokenizer(text, nlp):\n",
    "\n",
    "    token_list = []\n",
    "    doc = nlp(text)\n",
    "    for token in doc:\n",
    "        if token.is_stop == False and token.is_punct==False:\n",
    "            if token.text != ' ':\n",
    "                token_list.append((token.lemma_).lower())\n",
    "    str_tokens = ' '.join(token_list)\n",
    "    return str_tokens"
   ]
  },
  {
   "cell_type": "code",
   "execution_count": 33,
   "metadata": {},
   "outputs": [
    {
     "name": "stdout",
     "output_type": "stream",
     "text": [
      "77.5 ms ± 2.15 ms per loop (mean ± std. dev. of 7 runs, 1 loop each)\n"
     ]
    }
   ],
   "source": [
    "#checking speed of new parser\n",
    "%timeit tokenizer(df['text'].iloc[1000], nlp)"
   ]
  },
  {
   "cell_type": "code",
   "execution_count": 35,
   "metadata": {},
   "outputs": [],
   "source": [
    "#cleaning text\n",
    "df['text_tokens'] = df['text'].apply(lambda x: tokenizer(x, nlp))"
   ]
  },
  {
   "cell_type": "code",
   "execution_count": 36,
   "metadata": {},
   "outputs": [],
   "source": [
    "#saving cleaned df to file\n",
    "df.to_csv('gdelt_feb_2019_oct_2019_text_tokens.csv')"
   ]
  },
  {
   "cell_type": "markdown",
   "metadata": {},
   "source": [
    "## Loading Original Master Gdelt Text"
   ]
  },
  {
   "cell_type": "code",
   "execution_count": 4,
   "metadata": {},
   "outputs": [],
   "source": [
    "#reading in data set\n",
    "df = pd.read_csv('/floyd/home/Capstone/cap_notebooks/data/master_data_set/text_with_tokens_52k.csv')\n",
    "\n",
    "#dropping unnecessary columns\n",
    "df.drop(['Unnamed: 0', 'date_str', 'Tone_only', 'polarity'], axis=1, inplace=True)"
   ]
  },
  {
   "cell_type": "code",
   "execution_count": 5,
   "metadata": {},
   "outputs": [
    {
     "data": {
      "text/html": [
       "<div>\n",
       "<style scoped>\n",
       "    .dataframe tbody tr th:only-of-type {\n",
       "        vertical-align: middle;\n",
       "    }\n",
       "\n",
       "    .dataframe tbody tr th {\n",
       "        vertical-align: top;\n",
       "    }\n",
       "\n",
       "    .dataframe thead th {\n",
       "        text-align: right;\n",
       "    }\n",
       "</style>\n",
       "<table border=\"1\" class=\"dataframe\">\n",
       "  <thead>\n",
       "    <tr style=\"text-align: right;\">\n",
       "      <th></th>\n",
       "      <th>gkgcode</th>\n",
       "      <th>date</th>\n",
       "      <th>link</th>\n",
       "      <th>tone</th>\n",
       "      <th>title</th>\n",
       "      <th>authors</th>\n",
       "      <th>pub_date</th>\n",
       "      <th>text</th>\n",
       "      <th>text_token</th>\n",
       "    </tr>\n",
       "  </thead>\n",
       "  <tbody>\n",
       "    <tr>\n",
       "      <th>0</th>\n",
       "      <td>20150302100000-674</td>\n",
       "      <td>2015-03-02</td>\n",
       "      <td>http://www.nationalreview.com/article/414611/a...</td>\n",
       "      <td>0.350631136044881,2.73492286115007,2.384291725...</td>\n",
       "      <td>Is America a ‘Clean Energy’ Laggard?</td>\n",
       "      <td>['Robert Bryce', 'Victor Davis Hanson', 'Isaac...</td>\n",
       "      <td>2015-03-02 04:00:00+00:00</td>\n",
       "      <td>The answer is not only “No,” but a resounding ...</td>\n",
       "      <td>['answer', 'resounding', 'myriad', 'claim', 'e...</td>\n",
       "    </tr>\n",
       "    <tr>\n",
       "      <th>1</th>\n",
       "      <td>20150302153000-229</td>\n",
       "      <td>2015-03-02</td>\n",
       "      <td>http://www.latimes.com/business/hiltzik/la-fi-...</td>\n",
       "      <td>-0.952380952380953,3.49206349206349,4.44444444...</td>\n",
       "      <td>Watch ‘Meet the Press’ treat climate change as...</td>\n",
       "      <td>['Business Columnist', 'Los Angeles Times Colu...</td>\n",
       "      <td>2015-03-01 00:00:00</td>\n",
       "      <td>As you may have heard, Sen. James Inhofe (R-Ok...</td>\n",
       "      <td>['hear', 'sen.', 'james', 'inhofe', 'r', 'okla...</td>\n",
       "    </tr>\n",
       "    <tr>\n",
       "      <th>2</th>\n",
       "      <td>20150302163000-237</td>\n",
       "      <td>2015-03-02</td>\n",
       "      <td>http://www.usatoday.com/story/news/nation-now/...</td>\n",
       "      <td>0,1.8140589569161,1.8140589569161,3.6281179138...</td>\n",
       "      <td>NaN</td>\n",
       "      <td>[]</td>\n",
       "      <td>2015-03-02 00:00:00</td>\n",
       "      <td>Mary Bowerman  USA TODAY Network  Visitors sho...</td>\n",
       "      <td>['mary', 'bowerman', 'usa', 'today', 'network'...</td>\n",
       "    </tr>\n",
       "    <tr>\n",
       "      <th>3</th>\n",
       "      <td>20150302180000-1352</td>\n",
       "      <td>2015-03-02</td>\n",
       "      <td>http://www.nytimes.com/2015/03/03/business/int...</td>\n",
       "      <td>-1.14754098360656,1.80327868852459,2.950819672...</td>\n",
       "      <td>Russian Energy Deal Comes at Contentious Time</td>\n",
       "      <td>['Stanley Reed']</td>\n",
       "      <td>2015-03-03 00:00:00</td>\n",
       "      <td>But Mr. Fridman has a business track record th...</td>\n",
       "      <td>['mr.', 'fridman', 'business', 'track', 'recor...</td>\n",
       "    </tr>\n",
       "    <tr>\n",
       "      <th>4</th>\n",
       "      <td>20150302203000-163</td>\n",
       "      <td>2015-03-02</td>\n",
       "      <td>http://www.cbsnews.com/news/did-climate-change...</td>\n",
       "      <td>-8.0545229244114,0.371747211895911,8.426270136...</td>\n",
       "      <td>Did climate change cause the Syrian civil war?</td>\n",
       "      <td>['Michael Casey', 'Michael Casey Covers The En...</td>\n",
       "      <td>NaN</td>\n",
       "      <td>Climate change sparked a historic drought in S...</td>\n",
       "      <td>['climate', 'change', 'spark', 'historic', 'dr...</td>\n",
       "    </tr>\n",
       "  </tbody>\n",
       "</table>\n",
       "</div>"
      ],
      "text/plain": [
       "               gkgcode        date  \\\n",
       "0   20150302100000-674  2015-03-02   \n",
       "1   20150302153000-229  2015-03-02   \n",
       "2   20150302163000-237  2015-03-02   \n",
       "3  20150302180000-1352  2015-03-02   \n",
       "4   20150302203000-163  2015-03-02   \n",
       "\n",
       "                                                link  \\\n",
       "0  http://www.nationalreview.com/article/414611/a...   \n",
       "1  http://www.latimes.com/business/hiltzik/la-fi-...   \n",
       "2  http://www.usatoday.com/story/news/nation-now/...   \n",
       "3  http://www.nytimes.com/2015/03/03/business/int...   \n",
       "4  http://www.cbsnews.com/news/did-climate-change...   \n",
       "\n",
       "                                                tone  \\\n",
       "0  0.350631136044881,2.73492286115007,2.384291725...   \n",
       "1  -0.952380952380953,3.49206349206349,4.44444444...   \n",
       "2  0,1.8140589569161,1.8140589569161,3.6281179138...   \n",
       "3  -1.14754098360656,1.80327868852459,2.950819672...   \n",
       "4  -8.0545229244114,0.371747211895911,8.426270136...   \n",
       "\n",
       "                                               title  \\\n",
       "0               Is America a ‘Clean Energy’ Laggard?   \n",
       "1  Watch ‘Meet the Press’ treat climate change as...   \n",
       "2                                                NaN   \n",
       "3      Russian Energy Deal Comes at Contentious Time   \n",
       "4     Did climate change cause the Syrian civil war?   \n",
       "\n",
       "                                             authors  \\\n",
       "0  ['Robert Bryce', 'Victor Davis Hanson', 'Isaac...   \n",
       "1  ['Business Columnist', 'Los Angeles Times Colu...   \n",
       "2                                                 []   \n",
       "3                                   ['Stanley Reed']   \n",
       "4  ['Michael Casey', 'Michael Casey Covers The En...   \n",
       "\n",
       "                    pub_date  \\\n",
       "0  2015-03-02 04:00:00+00:00   \n",
       "1        2015-03-01 00:00:00   \n",
       "2        2015-03-02 00:00:00   \n",
       "3        2015-03-03 00:00:00   \n",
       "4                        NaN   \n",
       "\n",
       "                                                text  \\\n",
       "0  The answer is not only “No,” but a resounding ...   \n",
       "1  As you may have heard, Sen. James Inhofe (R-Ok...   \n",
       "2  Mary Bowerman  USA TODAY Network  Visitors sho...   \n",
       "3  But Mr. Fridman has a business track record th...   \n",
       "4  Climate change sparked a historic drought in S...   \n",
       "\n",
       "                                          text_token  \n",
       "0  ['answer', 'resounding', 'myriad', 'claim', 'e...  \n",
       "1  ['hear', 'sen.', 'james', 'inhofe', 'r', 'okla...  \n",
       "2  ['mary', 'bowerman', 'usa', 'today', 'network'...  \n",
       "3  ['mr.', 'fridman', 'business', 'track', 'recor...  \n",
       "4  ['climate', 'change', 'spark', 'historic', 'dr...  "
      ]
     },
     "execution_count": 5,
     "metadata": {},
     "output_type": "execute_result"
    }
   ],
   "source": [
    "df.head()"
   ]
  },
  {
   "cell_type": "markdown",
   "metadata": {},
   "source": [
    "## Loading New GDELt DATa"
   ]
  },
  {
   "cell_type": "code",
   "execution_count": 28,
   "metadata": {},
   "outputs": [
    {
     "data": {
      "text/plain": [
       "(163746, 9)"
      ]
     },
     "metadata": {},
     "output_type": "display_data"
    },
    {
     "data": {
      "text/html": [
       "<div>\n",
       "<style scoped>\n",
       "    .dataframe tbody tr th:only-of-type {\n",
       "        vertical-align: middle;\n",
       "    }\n",
       "\n",
       "    .dataframe tbody tr th {\n",
       "        vertical-align: top;\n",
       "    }\n",
       "\n",
       "    .dataframe thead th {\n",
       "        text-align: right;\n",
       "    }\n",
       "</style>\n",
       "<table border=\"1\" class=\"dataframe\">\n",
       "  <thead>\n",
       "    <tr style=\"text-align: right;\">\n",
       "      <th></th>\n",
       "      <th>GKGRECORDID</th>\n",
       "      <th>DATE</th>\n",
       "      <th>DocumentIdentifier</th>\n",
       "      <th>V2Tone</th>\n",
       "      <th>title</th>\n",
       "      <th>authors</th>\n",
       "      <th>publish_date</th>\n",
       "      <th>text</th>\n",
       "      <th>text_tokens</th>\n",
       "    </tr>\n",
       "  </thead>\n",
       "  <tbody>\n",
       "    <tr>\n",
       "      <th>0</th>\n",
       "      <td>20190227000000-1555</td>\n",
       "      <td>2019-02-27 00:00:00</td>\n",
       "      <td>https://www.cbsnews.com/news/thousands-of-migr...</td>\n",
       "      <td>-7.41687979539642,1.79028132992327,9.207161125...</td>\n",
       "      <td>Thousands of migrant children were sexually ab...</td>\n",
       "      <td>['Camilo Montoya-Galvez', 'Camilo Montoya-Galv...</td>\n",
       "      <td>NaN</td>\n",
       "      <td>This story has been updated with the most rece...</td>\n",
       "      <td>story update recent statement department healt...</td>\n",
       "    </tr>\n",
       "    <tr>\n",
       "      <th>1</th>\n",
       "      <td>20190227000000-318</td>\n",
       "      <td>2019-02-27 00:00:00</td>\n",
       "      <td>https://www.huffpost.com/entry/california-salm...</td>\n",
       "      <td>-0.0779220779220777,2.7012987012987,2.77922077...</td>\n",
       "      <td>This Project Aimed To Be A Model For Saving Fa...</td>\n",
       "      <td>['Margiana Petersen-Rockney']</td>\n",
       "      <td>2019-02-26 15:22:35-05:00</td>\n",
       "      <td>This story was produced and originally publish...</td>\n",
       "      <td>story produce originally publish grist reprodu...</td>\n",
       "    </tr>\n",
       "    <tr>\n",
       "      <th>2</th>\n",
       "      <td>20190227000000-315</td>\n",
       "      <td>2019-02-27 00:00:00</td>\n",
       "      <td>https://www.huffpost.com/entry/us-military-int...</td>\n",
       "      <td>-3.91414141414141,3.15656565656566,7.070707070...</td>\n",
       "      <td>The U.S. Is Moving Closer To Military Interven...</td>\n",
       "      <td>['On Assignment For Huffpost']</td>\n",
       "      <td>2019-02-26 17:07:51-05:00</td>\n",
       "      <td>CÚCUTA, Colombia — The U.S. moved closer to mi...</td>\n",
       "      <td>cúcuta colombia u.s. move close military inter...</td>\n",
       "    </tr>\n",
       "    <tr>\n",
       "      <th>3</th>\n",
       "      <td>20190227000000-181</td>\n",
       "      <td>2019-02-27 00:00:00</td>\n",
       "      <td>http://www.latimes.com/socal/burbank-leader/ne...</td>\n",
       "      <td>6.957928802589,7.92880258899676,0.970873786407...</td>\n",
       "      <td>No plateau in sight for Burroughs High senior ...</td>\n",
       "      <td>['Staff Writer', 'Andrew J. Campa Covers The E...</td>\n",
       "      <td>2019-02-26 00:00:00</td>\n",
       "      <td>It’s not the glistening tiara nor the royal pu...</td>\n",
       "      <td>glisten tiara royal purple line sash burroughs...</td>\n",
       "    </tr>\n",
       "    <tr>\n",
       "      <th>4</th>\n",
       "      <td>20190227000000-2604</td>\n",
       "      <td>2019-02-27 00:00:00</td>\n",
       "      <td>https://uk.reuters.com/article/us-usa-congress...</td>\n",
       "      <td>0.770416024653313,3.54391371340524,2.773497688...</td>\n",
       "      <td>U.S. House Democrats introduce sweeping 'Medic...</td>\n",
       "      <td>['Yasmeen Abutaleb']</td>\n",
       "      <td>2019-02-26 22:18:42+00:00</td>\n",
       "      <td>WASHINGTON (Reuters) - Democrats in the U.S. H...</td>\n",
       "      <td>washington reuters democrats u.s. house repres...</td>\n",
       "    </tr>\n",
       "  </tbody>\n",
       "</table>\n",
       "</div>"
      ],
      "text/plain": [
       "           GKGRECORDID                 DATE  \\\n",
       "0  20190227000000-1555  2019-02-27 00:00:00   \n",
       "1   20190227000000-318  2019-02-27 00:00:00   \n",
       "2   20190227000000-315  2019-02-27 00:00:00   \n",
       "3   20190227000000-181  2019-02-27 00:00:00   \n",
       "4  20190227000000-2604  2019-02-27 00:00:00   \n",
       "\n",
       "                                  DocumentIdentifier  \\\n",
       "0  https://www.cbsnews.com/news/thousands-of-migr...   \n",
       "1  https://www.huffpost.com/entry/california-salm...   \n",
       "2  https://www.huffpost.com/entry/us-military-int...   \n",
       "3  http://www.latimes.com/socal/burbank-leader/ne...   \n",
       "4  https://uk.reuters.com/article/us-usa-congress...   \n",
       "\n",
       "                                              V2Tone  \\\n",
       "0  -7.41687979539642,1.79028132992327,9.207161125...   \n",
       "1  -0.0779220779220777,2.7012987012987,2.77922077...   \n",
       "2  -3.91414141414141,3.15656565656566,7.070707070...   \n",
       "3  6.957928802589,7.92880258899676,0.970873786407...   \n",
       "4  0.770416024653313,3.54391371340524,2.773497688...   \n",
       "\n",
       "                                               title  \\\n",
       "0  Thousands of migrant children were sexually ab...   \n",
       "1  This Project Aimed To Be A Model For Saving Fa...   \n",
       "2  The U.S. Is Moving Closer To Military Interven...   \n",
       "3  No plateau in sight for Burroughs High senior ...   \n",
       "4  U.S. House Democrats introduce sweeping 'Medic...   \n",
       "\n",
       "                                             authors  \\\n",
       "0  ['Camilo Montoya-Galvez', 'Camilo Montoya-Galv...   \n",
       "1                      ['Margiana Petersen-Rockney']   \n",
       "2                     ['On Assignment For Huffpost']   \n",
       "3  ['Staff Writer', 'Andrew J. Campa Covers The E...   \n",
       "4                               ['Yasmeen Abutaleb']   \n",
       "\n",
       "                publish_date  \\\n",
       "0                        NaN   \n",
       "1  2019-02-26 15:22:35-05:00   \n",
       "2  2019-02-26 17:07:51-05:00   \n",
       "3        2019-02-26 00:00:00   \n",
       "4  2019-02-26 22:18:42+00:00   \n",
       "\n",
       "                                                text  \\\n",
       "0  This story has been updated with the most rece...   \n",
       "1  This story was produced and originally publish...   \n",
       "2  CÚCUTA, Colombia — The U.S. moved closer to mi...   \n",
       "3  It’s not the glistening tiara nor the royal pu...   \n",
       "4  WASHINGTON (Reuters) - Democrats in the U.S. H...   \n",
       "\n",
       "                                         text_tokens  \n",
       "0  story update recent statement department healt...  \n",
       "1  story produce originally publish grist reprodu...  \n",
       "2  cúcuta colombia u.s. move close military inter...  \n",
       "3  glisten tiara royal purple line sash burroughs...  \n",
       "4  washington reuters democrats u.s. house repres...  "
      ]
     },
     "metadata": {},
     "output_type": "display_data"
    }
   ],
   "source": [
    "df_new = pd.read_csv('gdelt_feb_2019_oct_2019_text_tokens.csv')\n",
    "df_new.drop(['Unnamed: 0', 'text_length'], axis=1, inplace=True)\n",
    "display(df_new.shape)\n",
    "display(df_new.head())"
   ]
  },
  {
   "cell_type": "code",
   "execution_count": 29,
   "metadata": {},
   "outputs": [
    {
     "data": {
      "text/plain": [
       "9"
      ]
     },
     "metadata": {},
     "output_type": "display_data"
    },
    {
     "data": {
      "text/plain": [
       "Index(['GKGRECORDID', 'DATE', 'DocumentIdentifier', 'V2Tone', 'title',\n",
       "       'authors', 'publish_date', 'text', 'text_tokens'],\n",
       "      dtype='object')"
      ]
     },
     "metadata": {},
     "output_type": "display_data"
    }
   ],
   "source": [
    "#checking len and columns names\n",
    "display(len(df_new.columns))\n",
    "display(df_new.columns)"
   ]
  },
  {
   "cell_type": "code",
   "execution_count": 30,
   "metadata": {},
   "outputs": [
    {
     "data": {
      "text/plain": [
       "Index(['GKGRECORDID', 'DATE', 'V2Tone', 'title', 'text_tokens'], dtype='object')"
      ]
     },
     "execution_count": 30,
     "metadata": {},
     "output_type": "execute_result"
    }
   ],
   "source": [
    "#dropping unnecessary columns\n",
    "df_new.drop(['DocumentIdentifier', 'authors', 'publish_date', 'text'], axis=1, inplace=True)\n",
    "df_new.columns"
   ]
  },
  {
   "cell_type": "code",
   "execution_count": 23,
   "metadata": {},
   "outputs": [
    {
     "data": {
      "text/plain": [
       "Index(['gkgcode', 'date', 'link', 'tone', 'title', 'authors', 'pub_date',\n",
       "       'text', 'text_token', 'text_token_2'],\n",
       "      dtype='object')"
      ]
     },
     "execution_count": 23,
     "metadata": {},
     "output_type": "execute_result"
    }
   ],
   "source": [
    "#checking columns of dataset to be joined with df_new\n",
    "df.columns"
   ]
  },
  {
   "cell_type": "code",
   "execution_count": 25,
   "metadata": {},
   "outputs": [
    {
     "data": {
      "text/plain": [
       "10"
      ]
     },
     "execution_count": 25,
     "metadata": {},
     "output_type": "execute_result"
    }
   ],
   "source": [
    "len(df.columns)"
   ]
  },
  {
   "cell_type": "code",
   "execution_count": 33,
   "metadata": {},
   "outputs": [],
   "source": [
    "#dropping unnecessary columns\n",
    "df.drop(['link', 'authors', 'pub_date', 'text', 'text_token'], axis=1, inplace=True)"
   ]
  },
  {
   "cell_type": "code",
   "execution_count": 53,
   "metadata": {},
   "outputs": [],
   "source": [
    "#extracting datetime from gkgcode\n",
    "df['date_str'] = df['gkgcode'].apply(lambda x: x[:14])"
   ]
  },
  {
   "cell_type": "code",
   "execution_count": 54,
   "metadata": {},
   "outputs": [
    {
     "data": {
      "text/plain": [
       "0        20150302100000\n",
       "1        20150302153000\n",
       "2        20150302163000\n",
       "3        20150302180000\n",
       "4        20150302203000\n",
       "              ...      \n",
       "52753    20201007201500\n",
       "52754    20201007201500\n",
       "52755    20201007204500\n",
       "52756    20201007204500\n",
       "52757    20201007204500\n",
       "Name: date_str, Length: 52758, dtype: object"
      ]
     },
     "execution_count": 54,
     "metadata": {},
     "output_type": "execute_result"
    }
   ],
   "source": [
    "#confirming extraction\n",
    "df['date_str']"
   ]
  },
  {
   "cell_type": "code",
   "execution_count": 56,
   "metadata": {},
   "outputs": [],
   "source": [
    "#convert date to datetime\n",
    "df['date'] = pd.to_datetime(df['date_str'], format='%Y%m%d%H%M%S')"
   ]
  },
  {
   "cell_type": "code",
   "execution_count": 57,
   "metadata": {},
   "outputs": [
    {
     "data": {
      "text/html": [
       "<div>\n",
       "<style scoped>\n",
       "    .dataframe tbody tr th:only-of-type {\n",
       "        vertical-align: middle;\n",
       "    }\n",
       "\n",
       "    .dataframe tbody tr th {\n",
       "        vertical-align: top;\n",
       "    }\n",
       "\n",
       "    .dataframe thead th {\n",
       "        text-align: right;\n",
       "    }\n",
       "</style>\n",
       "<table border=\"1\" class=\"dataframe\">\n",
       "  <thead>\n",
       "    <tr style=\"text-align: right;\">\n",
       "      <th></th>\n",
       "      <th>gkgcode</th>\n",
       "      <th>date</th>\n",
       "      <th>tone</th>\n",
       "      <th>title</th>\n",
       "      <th>text_token_2</th>\n",
       "      <th>date_str</th>\n",
       "    </tr>\n",
       "  </thead>\n",
       "  <tbody>\n",
       "    <tr>\n",
       "      <th>0</th>\n",
       "      <td>20150302100000-674</td>\n",
       "      <td>2015-03-02 10:00:00</td>\n",
       "      <td>0.350631136044881,2.73492286115007,2.384291725...</td>\n",
       "      <td>Is America a ‘Clean Energy’ Laggard?</td>\n",
       "      <td>answer resound myriad claim energy need debunk...</td>\n",
       "      <td>20150302100000</td>\n",
       "    </tr>\n",
       "    <tr>\n",
       "      <th>1</th>\n",
       "      <td>20150302153000-229</td>\n",
       "      <td>2015-03-02 15:30:00</td>\n",
       "      <td>-0.952380952380953,3.49206349206349,4.44444444...</td>\n",
       "      <td>Watch ‘Meet the Press’ treat climate change as...</td>\n",
       "      <td>hear sen. james inhofe r okla astonishingly ch...</td>\n",
       "      <td>20150302153000</td>\n",
       "    </tr>\n",
       "    <tr>\n",
       "      <th>2</th>\n",
       "      <td>20150302163000-237</td>\n",
       "      <td>2015-03-02 16:30:00</td>\n",
       "      <td>0,1.8140589569161,1.8140589569161,3.6281179138...</td>\n",
       "      <td>NaN</td>\n",
       "      <td>mary bowerman usa today network visitors show ...</td>\n",
       "      <td>20150302163000</td>\n",
       "    </tr>\n",
       "    <tr>\n",
       "      <th>3</th>\n",
       "      <td>20150302180000-1352</td>\n",
       "      <td>2015-03-02 18:00:00</td>\n",
       "      <td>-1.14754098360656,1.80327868852459,2.950819672...</td>\n",
       "      <td>Russian Energy Deal Comes at Contentious Time</td>\n",
       "      <td>mr. fridman business track record hard cameron...</td>\n",
       "      <td>20150302180000</td>\n",
       "    </tr>\n",
       "    <tr>\n",
       "      <th>4</th>\n",
       "      <td>20150302203000-163</td>\n",
       "      <td>2015-03-02 20:30:00</td>\n",
       "      <td>-8.0545229244114,0.371747211895911,8.426270136...</td>\n",
       "      <td>Did climate change cause the Syrian civil war?</td>\n",
       "      <td>climate change spark historic drought syria co...</td>\n",
       "      <td>20150302203000</td>\n",
       "    </tr>\n",
       "  </tbody>\n",
       "</table>\n",
       "</div>"
      ],
      "text/plain": [
       "               gkgcode                date  \\\n",
       "0   20150302100000-674 2015-03-02 10:00:00   \n",
       "1   20150302153000-229 2015-03-02 15:30:00   \n",
       "2   20150302163000-237 2015-03-02 16:30:00   \n",
       "3  20150302180000-1352 2015-03-02 18:00:00   \n",
       "4   20150302203000-163 2015-03-02 20:30:00   \n",
       "\n",
       "                                                tone  \\\n",
       "0  0.350631136044881,2.73492286115007,2.384291725...   \n",
       "1  -0.952380952380953,3.49206349206349,4.44444444...   \n",
       "2  0,1.8140589569161,1.8140589569161,3.6281179138...   \n",
       "3  -1.14754098360656,1.80327868852459,2.950819672...   \n",
       "4  -8.0545229244114,0.371747211895911,8.426270136...   \n",
       "\n",
       "                                               title  \\\n",
       "0               Is America a ‘Clean Energy’ Laggard?   \n",
       "1  Watch ‘Meet the Press’ treat climate change as...   \n",
       "2                                                NaN   \n",
       "3      Russian Energy Deal Comes at Contentious Time   \n",
       "4     Did climate change cause the Syrian civil war?   \n",
       "\n",
       "                                        text_token_2        date_str  \n",
       "0  answer resound myriad claim energy need debunk...  20150302100000  \n",
       "1  hear sen. james inhofe r okla astonishingly ch...  20150302153000  \n",
       "2  mary bowerman usa today network visitors show ...  20150302163000  \n",
       "3  mr. fridman business track record hard cameron...  20150302180000  \n",
       "4  climate change spark historic drought syria co...  20150302203000  "
      ]
     },
     "execution_count": 57,
     "metadata": {},
     "output_type": "execute_result"
    }
   ],
   "source": [
    "df.head()"
   ]
  },
  {
   "cell_type": "code",
   "execution_count": 59,
   "metadata": {},
   "outputs": [],
   "source": [
    "#dropping date_str\n",
    "df.drop('date_str', axis=1, inplace=True)"
   ]
  },
  {
   "cell_type": "code",
   "execution_count": 62,
   "metadata": {},
   "outputs": [],
   "source": [
    "#setting df columns = to df_new columns for joining\n",
    "df.columns = df_new.columns"
   ]
  },
  {
   "cell_type": "code",
   "execution_count": 63,
   "metadata": {},
   "outputs": [
    {
     "data": {
      "text/html": [
       "<div>\n",
       "<style scoped>\n",
       "    .dataframe tbody tr th:only-of-type {\n",
       "        vertical-align: middle;\n",
       "    }\n",
       "\n",
       "    .dataframe tbody tr th {\n",
       "        vertical-align: top;\n",
       "    }\n",
       "\n",
       "    .dataframe thead th {\n",
       "        text-align: right;\n",
       "    }\n",
       "</style>\n",
       "<table border=\"1\" class=\"dataframe\">\n",
       "  <thead>\n",
       "    <tr style=\"text-align: right;\">\n",
       "      <th></th>\n",
       "      <th>GKGRECORDID</th>\n",
       "      <th>DATE</th>\n",
       "      <th>V2Tone</th>\n",
       "      <th>title</th>\n",
       "      <th>text_tokens</th>\n",
       "    </tr>\n",
       "  </thead>\n",
       "  <tbody>\n",
       "    <tr>\n",
       "      <th>0</th>\n",
       "      <td>20150302100000-674</td>\n",
       "      <td>2015-03-02 10:00:00</td>\n",
       "      <td>0.350631136044881,2.73492286115007,2.384291725...</td>\n",
       "      <td>Is America a ‘Clean Energy’ Laggard?</td>\n",
       "      <td>answer resound myriad claim energy need debunk...</td>\n",
       "    </tr>\n",
       "    <tr>\n",
       "      <th>1</th>\n",
       "      <td>20150302153000-229</td>\n",
       "      <td>2015-03-02 15:30:00</td>\n",
       "      <td>-0.952380952380953,3.49206349206349,4.44444444...</td>\n",
       "      <td>Watch ‘Meet the Press’ treat climate change as...</td>\n",
       "      <td>hear sen. james inhofe r okla astonishingly ch...</td>\n",
       "    </tr>\n",
       "    <tr>\n",
       "      <th>2</th>\n",
       "      <td>20150302163000-237</td>\n",
       "      <td>2015-03-02 16:30:00</td>\n",
       "      <td>0,1.8140589569161,1.8140589569161,3.6281179138...</td>\n",
       "      <td>NaN</td>\n",
       "      <td>mary bowerman usa today network visitors show ...</td>\n",
       "    </tr>\n",
       "    <tr>\n",
       "      <th>3</th>\n",
       "      <td>20150302180000-1352</td>\n",
       "      <td>2015-03-02 18:00:00</td>\n",
       "      <td>-1.14754098360656,1.80327868852459,2.950819672...</td>\n",
       "      <td>Russian Energy Deal Comes at Contentious Time</td>\n",
       "      <td>mr. fridman business track record hard cameron...</td>\n",
       "    </tr>\n",
       "    <tr>\n",
       "      <th>4</th>\n",
       "      <td>20150302203000-163</td>\n",
       "      <td>2015-03-02 20:30:00</td>\n",
       "      <td>-8.0545229244114,0.371747211895911,8.426270136...</td>\n",
       "      <td>Did climate change cause the Syrian civil war?</td>\n",
       "      <td>climate change spark historic drought syria co...</td>\n",
       "    </tr>\n",
       "  </tbody>\n",
       "</table>\n",
       "</div>"
      ],
      "text/plain": [
       "           GKGRECORDID                DATE  \\\n",
       "0   20150302100000-674 2015-03-02 10:00:00   \n",
       "1   20150302153000-229 2015-03-02 15:30:00   \n",
       "2   20150302163000-237 2015-03-02 16:30:00   \n",
       "3  20150302180000-1352 2015-03-02 18:00:00   \n",
       "4   20150302203000-163 2015-03-02 20:30:00   \n",
       "\n",
       "                                              V2Tone  \\\n",
       "0  0.350631136044881,2.73492286115007,2.384291725...   \n",
       "1  -0.952380952380953,3.49206349206349,4.44444444...   \n",
       "2  0,1.8140589569161,1.8140589569161,3.6281179138...   \n",
       "3  -1.14754098360656,1.80327868852459,2.950819672...   \n",
       "4  -8.0545229244114,0.371747211895911,8.426270136...   \n",
       "\n",
       "                                               title  \\\n",
       "0               Is America a ‘Clean Energy’ Laggard?   \n",
       "1  Watch ‘Meet the Press’ treat climate change as...   \n",
       "2                                                NaN   \n",
       "3      Russian Energy Deal Comes at Contentious Time   \n",
       "4     Did climate change cause the Syrian civil war?   \n",
       "\n",
       "                                         text_tokens  \n",
       "0  answer resound myriad claim energy need debunk...  \n",
       "1  hear sen. james inhofe r okla astonishingly ch...  \n",
       "2  mary bowerman usa today network visitors show ...  \n",
       "3  mr. fridman business track record hard cameron...  \n",
       "4  climate change spark historic drought syria co...  "
      ]
     },
     "execution_count": 63,
     "metadata": {},
     "output_type": "execute_result"
    }
   ],
   "source": [
    "df.head()"
   ]
  },
  {
   "cell_type": "code",
   "execution_count": 65,
   "metadata": {},
   "outputs": [],
   "source": [
    "#joining two different article datasets\n",
    "gdelt_complete = pd.concat([df, df_new], ignore_index=True)"
   ]
  },
  {
   "cell_type": "code",
   "execution_count": 66,
   "metadata": {},
   "outputs": [
    {
     "data": {
      "text/plain": [
       "(216504, 5)"
      ]
     },
     "execution_count": 66,
     "metadata": {},
     "output_type": "execute_result"
    }
   ],
   "source": [
    "#checking shape\n",
    "gdelt_complete.shape"
   ]
  },
  {
   "cell_type": "code",
   "execution_count": 67,
   "metadata": {},
   "outputs": [
    {
     "name": "stdout",
     "output_type": "stream",
     "text": [
      "<class 'pandas.core.frame.DataFrame'>\n",
      "RangeIndex: 216504 entries, 0 to 216503\n",
      "Data columns (total 5 columns):\n",
      " #   Column       Non-Null Count   Dtype \n",
      "---  ------       --------------   ----- \n",
      " 0   GKGRECORDID  216504 non-null  object\n",
      " 1   DATE         216504 non-null  object\n",
      " 2   V2Tone       216504 non-null  object\n",
      " 3   title        216265 non-null  object\n",
      " 4   text_tokens  216504 non-null  object\n",
      "dtypes: object(5)\n",
      "memory usage: 8.3+ MB\n"
     ]
    }
   ],
   "source": [
    "#checking nulls\n",
    "gdelt_complete.info()"
   ]
  },
  {
   "cell_type": "code",
   "execution_count": 69,
   "metadata": {},
   "outputs": [],
   "source": [
    "#only nulls in title, so filling with no_title\n",
    "gdelt_complete.fillna('no_title', inplace=True)"
   ]
  },
  {
   "cell_type": "code",
   "execution_count": 70,
   "metadata": {},
   "outputs": [
    {
     "name": "stdout",
     "output_type": "stream",
     "text": [
      "<class 'pandas.core.frame.DataFrame'>\n",
      "RangeIndex: 216504 entries, 0 to 216503\n",
      "Data columns (total 5 columns):\n",
      " #   Column       Non-Null Count   Dtype \n",
      "---  ------       --------------   ----- \n",
      " 0   GKGRECORDID  216504 non-null  object\n",
      " 1   DATE         216504 non-null  object\n",
      " 2   V2Tone       216504 non-null  object\n",
      " 3   title        216504 non-null  object\n",
      " 4   text_tokens  216504 non-null  object\n",
      "dtypes: object(5)\n",
      "memory usage: 8.3+ MB\n"
     ]
    }
   ],
   "source": [
    "#verifying nulls filled\n",
    "gdelt_complete.info()"
   ]
  },
  {
   "cell_type": "code",
   "execution_count": 73,
   "metadata": {},
   "outputs": [
    {
     "data": {
      "text/plain": [
       "0"
      ]
     },
     "metadata": {},
     "output_type": "display_data"
    }
   ],
   "source": [
    "#checking duplications\n",
    "display(gdelt_complete.duplicated().sum())\n"
   ]
  },
  {
   "cell_type": "code",
   "execution_count": 78,
   "metadata": {},
   "outputs": [
    {
     "name": "stdout",
     "output_type": "stream",
     "text": [
      "col: GKGRECORDID, num_duplicated: 1125\n",
      "col: DATE, num_duplicated: 158117\n",
      "col: V2Tone, num_duplicated: 5062\n",
      "col: title, num_duplicated: 17522\n",
      "col: text_tokens, num_duplicated: 1785\n"
     ]
    }
   ],
   "source": [
    "#for loop checks duplicates for each column\n",
    "col_list = list(gdelt_complete.columns)\n",
    "for col in col_list:\n",
    "    print(f'col: {col}, num_duplicated: {gdelt_complete.duplicated(subset=[col]).sum()}')"
   ]
  },
  {
   "cell_type": "code",
   "execution_count": 80,
   "metadata": {},
   "outputs": [],
   "source": [
    "#dropping GKGID duplicates\n",
    "gdelt_complete.drop_duplicates(subset=['GKGRECORDID'], inplace=True)"
   ]
  },
  {
   "cell_type": "code",
   "execution_count": 81,
   "metadata": {},
   "outputs": [],
   "source": [
    "#dropping text_tokens duplicates\n",
    "gdelt_complete.drop_duplicates(subset=['text_tokens'], inplace=True)"
   ]
  },
  {
   "cell_type": "code",
   "execution_count": 82,
   "metadata": {},
   "outputs": [
    {
     "name": "stdout",
     "output_type": "stream",
     "text": [
      "col: GKGRECORDID, num_duplicated: 0\n",
      "col: DATE, num_duplicated: 156379\n",
      "col: V2Tone, num_duplicated: 3584\n",
      "col: title, num_duplicated: 15772\n",
      "col: text_tokens, num_duplicated: 0\n"
     ]
    }
   ],
   "source": [
    "#checking duplicates after drop\n",
    "col_list = list(gdelt_complete.columns)\n",
    "for col in col_list:\n",
    "    print(f'col: {col}, num_duplicated: {gdelt_complete.duplicated(subset=[col]).sum()}')"
   ]
  },
  {
   "cell_type": "code",
   "execution_count": 87,
   "metadata": {},
   "outputs": [
    {
     "name": "stdout",
     "output_type": "stream",
     "text": [
      "<class 'pandas.core.frame.DataFrame'>\n",
      "Int64Index: 214706 entries, 0 to 216503\n",
      "Data columns (total 5 columns):\n",
      " #   Column       Non-Null Count   Dtype \n",
      "---  ------       --------------   ----- \n",
      " 0   GKGRECORDID  214706 non-null  object\n",
      " 1   DATE         214706 non-null  object\n",
      " 2   V2Tone       214706 non-null  object\n",
      " 3   title        214706 non-null  object\n",
      " 4   text_tokens  214706 non-null  object\n",
      "dtypes: object(5)\n",
      "memory usage: 9.8+ MB\n"
     ]
    }
   ],
   "source": [
    "gdelt_complete.info()"
   ]
  },
  {
   "cell_type": "code",
   "execution_count": 88,
   "metadata": {},
   "outputs": [
    {
     "data": {
      "text/html": [
       "<div>\n",
       "<style scoped>\n",
       "    .dataframe tbody tr th:only-of-type {\n",
       "        vertical-align: middle;\n",
       "    }\n",
       "\n",
       "    .dataframe tbody tr th {\n",
       "        vertical-align: top;\n",
       "    }\n",
       "\n",
       "    .dataframe thead th {\n",
       "        text-align: right;\n",
       "    }\n",
       "</style>\n",
       "<table border=\"1\" class=\"dataframe\">\n",
       "  <thead>\n",
       "    <tr style=\"text-align: right;\">\n",
       "      <th></th>\n",
       "      <th>GKGRECORDID</th>\n",
       "      <th>DATE</th>\n",
       "      <th>V2Tone</th>\n",
       "      <th>title</th>\n",
       "      <th>text_tokens</th>\n",
       "    </tr>\n",
       "  </thead>\n",
       "  <tbody>\n",
       "    <tr>\n",
       "      <th>0</th>\n",
       "      <td>20150302100000-674</td>\n",
       "      <td>2015-03-02 10:00:00</td>\n",
       "      <td>0.350631136044881,2.73492286115007,2.384291725...</td>\n",
       "      <td>Is America a ‘Clean Energy’ Laggard?</td>\n",
       "      <td>answer resound myriad claim energy need debunk...</td>\n",
       "    </tr>\n",
       "    <tr>\n",
       "      <th>1</th>\n",
       "      <td>20150302153000-229</td>\n",
       "      <td>2015-03-02 15:30:00</td>\n",
       "      <td>-0.952380952380953,3.49206349206349,4.44444444...</td>\n",
       "      <td>Watch ‘Meet the Press’ treat climate change as...</td>\n",
       "      <td>hear sen. james inhofe r okla astonishingly ch...</td>\n",
       "    </tr>\n",
       "    <tr>\n",
       "      <th>2</th>\n",
       "      <td>20150302163000-237</td>\n",
       "      <td>2015-03-02 16:30:00</td>\n",
       "      <td>0,1.8140589569161,1.8140589569161,3.6281179138...</td>\n",
       "      <td>no_title</td>\n",
       "      <td>mary bowerman usa today network visitors show ...</td>\n",
       "    </tr>\n",
       "    <tr>\n",
       "      <th>3</th>\n",
       "      <td>20150302180000-1352</td>\n",
       "      <td>2015-03-02 18:00:00</td>\n",
       "      <td>-1.14754098360656,1.80327868852459,2.950819672...</td>\n",
       "      <td>Russian Energy Deal Comes at Contentious Time</td>\n",
       "      <td>mr. fridman business track record hard cameron...</td>\n",
       "    </tr>\n",
       "    <tr>\n",
       "      <th>4</th>\n",
       "      <td>20150302203000-163</td>\n",
       "      <td>2015-03-02 20:30:00</td>\n",
       "      <td>-8.0545229244114,0.371747211895911,8.426270136...</td>\n",
       "      <td>Did climate change cause the Syrian civil war?</td>\n",
       "      <td>climate change spark historic drought syria co...</td>\n",
       "    </tr>\n",
       "  </tbody>\n",
       "</table>\n",
       "</div>"
      ],
      "text/plain": [
       "           GKGRECORDID                 DATE  \\\n",
       "0   20150302100000-674  2015-03-02 10:00:00   \n",
       "1   20150302153000-229  2015-03-02 15:30:00   \n",
       "2   20150302163000-237  2015-03-02 16:30:00   \n",
       "3  20150302180000-1352  2015-03-02 18:00:00   \n",
       "4   20150302203000-163  2015-03-02 20:30:00   \n",
       "\n",
       "                                              V2Tone  \\\n",
       "0  0.350631136044881,2.73492286115007,2.384291725...   \n",
       "1  -0.952380952380953,3.49206349206349,4.44444444...   \n",
       "2  0,1.8140589569161,1.8140589569161,3.6281179138...   \n",
       "3  -1.14754098360656,1.80327868852459,2.950819672...   \n",
       "4  -8.0545229244114,0.371747211895911,8.426270136...   \n",
       "\n",
       "                                               title  \\\n",
       "0               Is America a ‘Clean Energy’ Laggard?   \n",
       "1  Watch ‘Meet the Press’ treat climate change as...   \n",
       "2                                           no_title   \n",
       "3      Russian Energy Deal Comes at Contentious Time   \n",
       "4     Did climate change cause the Syrian civil war?   \n",
       "\n",
       "                                         text_tokens  \n",
       "0  answer resound myriad claim energy need debunk...  \n",
       "1  hear sen. james inhofe r okla astonishingly ch...  \n",
       "2  mary bowerman usa today network visitors show ...  \n",
       "3  mr. fridman business track record hard cameron...  \n",
       "4  climate change spark historic drought syria co...  "
      ]
     },
     "execution_count": 88,
     "metadata": {},
     "output_type": "execute_result"
    }
   ],
   "source": [
    "gdelt_complete.head()"
   ]
  },
  {
   "cell_type": "code",
   "execution_count": 89,
   "metadata": {},
   "outputs": [],
   "source": [
    "#tokenize title\n",
    "gdelt_complete['title'] = gdelt_complete['title'].apply(lambda x: tokenizer(x, nlp))"
   ]
  },
  {
   "cell_type": "code",
   "execution_count": 92,
   "metadata": {},
   "outputs": [
    {
     "data": {
      "text/html": [
       "<div>\n",
       "<style scoped>\n",
       "    .dataframe tbody tr th:only-of-type {\n",
       "        vertical-align: middle;\n",
       "    }\n",
       "\n",
       "    .dataframe tbody tr th {\n",
       "        vertical-align: top;\n",
       "    }\n",
       "\n",
       "    .dataframe thead th {\n",
       "        text-align: right;\n",
       "    }\n",
       "</style>\n",
       "<table border=\"1\" class=\"dataframe\">\n",
       "  <thead>\n",
       "    <tr style=\"text-align: right;\">\n",
       "      <th></th>\n",
       "      <th>GKGRECORDID</th>\n",
       "      <th>DATE</th>\n",
       "      <th>V2Tone</th>\n",
       "      <th>title</th>\n",
       "      <th>text_tokens</th>\n",
       "    </tr>\n",
       "  </thead>\n",
       "  <tbody>\n",
       "    <tr>\n",
       "      <th>0</th>\n",
       "      <td>20150302100000-674</td>\n",
       "      <td>2015-03-02 10:00:00</td>\n",
       "      <td>0.350631136044881,2.73492286115007,2.384291725...</td>\n",
       "      <td>america clean energy laggard</td>\n",
       "      <td>answer resound myriad claim energy need debunk...</td>\n",
       "    </tr>\n",
       "    <tr>\n",
       "      <th>1</th>\n",
       "      <td>20150302153000-229</td>\n",
       "      <td>2015-03-02 15:30:00</td>\n",
       "      <td>-0.952380952380953,3.49206349206349,4.44444444...</td>\n",
       "      <td>watch meet press treat climate change big joke</td>\n",
       "      <td>hear sen. james inhofe r okla astonishingly ch...</td>\n",
       "    </tr>\n",
       "    <tr>\n",
       "      <th>2</th>\n",
       "      <td>20150302163000-237</td>\n",
       "      <td>2015-03-02 16:30:00</td>\n",
       "      <td>0,1.8140589569161,1.8140589569161,3.6281179138...</td>\n",
       "      <td>no_title</td>\n",
       "      <td>mary bowerman usa today network visitors show ...</td>\n",
       "    </tr>\n",
       "    <tr>\n",
       "      <th>3</th>\n",
       "      <td>20150302180000-1352</td>\n",
       "      <td>2015-03-02 18:00:00</td>\n",
       "      <td>-1.14754098360656,1.80327868852459,2.950819672...</td>\n",
       "      <td>russian energy deal comes contentious time</td>\n",
       "      <td>mr. fridman business track record hard cameron...</td>\n",
       "    </tr>\n",
       "    <tr>\n",
       "      <th>4</th>\n",
       "      <td>20150302203000-163</td>\n",
       "      <td>2015-03-02 20:30:00</td>\n",
       "      <td>-8.0545229244114,0.371747211895911,8.426270136...</td>\n",
       "      <td>climate change cause syrian civil war</td>\n",
       "      <td>climate change spark historic drought syria co...</td>\n",
       "    </tr>\n",
       "  </tbody>\n",
       "</table>\n",
       "</div>"
      ],
      "text/plain": [
       "           GKGRECORDID                 DATE  \\\n",
       "0   20150302100000-674  2015-03-02 10:00:00   \n",
       "1   20150302153000-229  2015-03-02 15:30:00   \n",
       "2   20150302163000-237  2015-03-02 16:30:00   \n",
       "3  20150302180000-1352  2015-03-02 18:00:00   \n",
       "4   20150302203000-163  2015-03-02 20:30:00   \n",
       "\n",
       "                                              V2Tone  \\\n",
       "0  0.350631136044881,2.73492286115007,2.384291725...   \n",
       "1  -0.952380952380953,3.49206349206349,4.44444444...   \n",
       "2  0,1.8140589569161,1.8140589569161,3.6281179138...   \n",
       "3  -1.14754098360656,1.80327868852459,2.950819672...   \n",
       "4  -8.0545229244114,0.371747211895911,8.426270136...   \n",
       "\n",
       "                                            title  \\\n",
       "0                    america clean energy laggard   \n",
       "1  watch meet press treat climate change big joke   \n",
       "2                                        no_title   \n",
       "3      russian energy deal comes contentious time   \n",
       "4           climate change cause syrian civil war   \n",
       "\n",
       "                                         text_tokens  \n",
       "0  answer resound myriad claim energy need debunk...  \n",
       "1  hear sen. james inhofe r okla astonishingly ch...  \n",
       "2  mary bowerman usa today network visitors show ...  \n",
       "3  mr. fridman business track record hard cameron...  \n",
       "4  climate change spark historic drought syria co...  "
      ]
     },
     "execution_count": 92,
     "metadata": {},
     "output_type": "execute_result"
    }
   ],
   "source": [
    "gdelt_complete.head()"
   ]
  },
  {
   "cell_type": "code",
   "execution_count": 99,
   "metadata": {},
   "outputs": [],
   "source": [
    "#creating new df to extract 7 tone values from V2Tone\n",
    "df = gdelt_complete.copy()"
   ]
  },
  {
   "cell_type": "code",
   "execution_count": 102,
   "metadata": {},
   "outputs": [],
   "source": [
    "#extracting 7 tone scores from V2Tone col\n",
    "tone_df = df['V2Tone'].str.split(',', expand=True)"
   ]
  },
  {
   "cell_type": "code",
   "execution_count": 104,
   "metadata": {},
   "outputs": [],
   "source": [
    "#renaming columns\n",
    "tone_df.columns=['avg_tone', 'pos_words', 'neg_words', 'polarity', 'act_ref_density', 'self_group_density', 'word_count']"
   ]
  },
  {
   "cell_type": "code",
   "execution_count": 105,
   "metadata": {},
   "outputs": [
    {
     "data": {
      "text/html": [
       "<div>\n",
       "<style scoped>\n",
       "    .dataframe tbody tr th:only-of-type {\n",
       "        vertical-align: middle;\n",
       "    }\n",
       "\n",
       "    .dataframe tbody tr th {\n",
       "        vertical-align: top;\n",
       "    }\n",
       "\n",
       "    .dataframe thead th {\n",
       "        text-align: right;\n",
       "    }\n",
       "</style>\n",
       "<table border=\"1\" class=\"dataframe\">\n",
       "  <thead>\n",
       "    <tr style=\"text-align: right;\">\n",
       "      <th></th>\n",
       "      <th>avg_tone</th>\n",
       "      <th>pos_words</th>\n",
       "      <th>neg_words</th>\n",
       "      <th>polarity</th>\n",
       "      <th>act_ref_density</th>\n",
       "      <th>self_group_density</th>\n",
       "      <th>word_count</th>\n",
       "    </tr>\n",
       "  </thead>\n",
       "  <tbody>\n",
       "    <tr>\n",
       "      <th>0</th>\n",
       "      <td>0.350631136044881</td>\n",
       "      <td>2.73492286115007</td>\n",
       "      <td>2.38429172510519</td>\n",
       "      <td>5.11921458625526</td>\n",
       "      <td>16.7601683029453</td>\n",
       "      <td>0.420757363253857</td>\n",
       "      <td>1186</td>\n",
       "    </tr>\n",
       "    <tr>\n",
       "      <th>1</th>\n",
       "      <td>-0.952380952380953</td>\n",
       "      <td>3.49206349206349</td>\n",
       "      <td>4.44444444444444</td>\n",
       "      <td>7.93650793650794</td>\n",
       "      <td>26.984126984127</td>\n",
       "      <td>1.42857142857143</td>\n",
       "      <td>576</td>\n",
       "    </tr>\n",
       "    <tr>\n",
       "      <th>2</th>\n",
       "      <td>0</td>\n",
       "      <td>1.8140589569161</td>\n",
       "      <td>1.8140589569161</td>\n",
       "      <td>3.6281179138322</td>\n",
       "      <td>25.3968253968254</td>\n",
       "      <td>0</td>\n",
       "      <td>405</td>\n",
       "    </tr>\n",
       "    <tr>\n",
       "      <th>3</th>\n",
       "      <td>-1.14754098360656</td>\n",
       "      <td>1.80327868852459</td>\n",
       "      <td>2.95081967213115</td>\n",
       "      <td>4.75409836065574</td>\n",
       "      <td>19.5081967213115</td>\n",
       "      <td>0.409836065573771</td>\n",
       "      <td>1119</td>\n",
       "    </tr>\n",
       "    <tr>\n",
       "      <th>4</th>\n",
       "      <td>-8.0545229244114</td>\n",
       "      <td>0.371747211895911</td>\n",
       "      <td>8.42627013630731</td>\n",
       "      <td>8.79801734820322</td>\n",
       "      <td>24.0396530359356</td>\n",
       "      <td>0.247831474597274</td>\n",
       "      <td>743</td>\n",
       "    </tr>\n",
       "  </tbody>\n",
       "</table>\n",
       "</div>"
      ],
      "text/plain": [
       "             avg_tone          pos_words         neg_words          polarity  \\\n",
       "0   0.350631136044881   2.73492286115007  2.38429172510519  5.11921458625526   \n",
       "1  -0.952380952380953   3.49206349206349  4.44444444444444  7.93650793650794   \n",
       "2                   0    1.8140589569161   1.8140589569161   3.6281179138322   \n",
       "3   -1.14754098360656   1.80327868852459  2.95081967213115  4.75409836065574   \n",
       "4    -8.0545229244114  0.371747211895911  8.42627013630731  8.79801734820322   \n",
       "\n",
       "    act_ref_density self_group_density word_count  \n",
       "0  16.7601683029453  0.420757363253857       1186  \n",
       "1   26.984126984127   1.42857142857143        576  \n",
       "2  25.3968253968254                  0        405  \n",
       "3  19.5081967213115  0.409836065573771       1119  \n",
       "4  24.0396530359356  0.247831474597274        743  "
      ]
     },
     "execution_count": 105,
     "metadata": {},
     "output_type": "execute_result"
    }
   ],
   "source": [
    "#reviewing data\n",
    "tone_df.head()"
   ]
  },
  {
   "cell_type": "code",
   "execution_count": 113,
   "metadata": {},
   "outputs": [],
   "source": [
    "#joining tonal scores with text and gtrends data\n",
    "#this was largely aspirational. I wanted to bring this data into model alongside text data but never got around to it\n",
    "df = pd.concat([df, tone_df], axis=1)"
   ]
  },
  {
   "cell_type": "code",
   "execution_count": 115,
   "metadata": {},
   "outputs": [
    {
     "data": {
      "text/html": [
       "<div>\n",
       "<style scoped>\n",
       "    .dataframe tbody tr th:only-of-type {\n",
       "        vertical-align: middle;\n",
       "    }\n",
       "\n",
       "    .dataframe tbody tr th {\n",
       "        vertical-align: top;\n",
       "    }\n",
       "\n",
       "    .dataframe thead th {\n",
       "        text-align: right;\n",
       "    }\n",
       "</style>\n",
       "<table border=\"1\" class=\"dataframe\">\n",
       "  <thead>\n",
       "    <tr style=\"text-align: right;\">\n",
       "      <th></th>\n",
       "      <th>GKGRECORDID</th>\n",
       "      <th>DATE</th>\n",
       "      <th>title</th>\n",
       "      <th>text_tokens</th>\n",
       "      <th>avg_tone</th>\n",
       "      <th>pos_words</th>\n",
       "      <th>neg_words</th>\n",
       "      <th>polarity</th>\n",
       "      <th>act_ref_density</th>\n",
       "      <th>self_group_density</th>\n",
       "      <th>word_count</th>\n",
       "    </tr>\n",
       "  </thead>\n",
       "  <tbody>\n",
       "    <tr>\n",
       "      <th>0</th>\n",
       "      <td>20150302100000-674</td>\n",
       "      <td>2015-03-02 10:00:00</td>\n",
       "      <td>america clean energy laggard</td>\n",
       "      <td>answer resound myriad claim energy need debunk...</td>\n",
       "      <td>0.350631136044881</td>\n",
       "      <td>2.73492286115007</td>\n",
       "      <td>2.38429172510519</td>\n",
       "      <td>5.11921458625526</td>\n",
       "      <td>16.7601683029453</td>\n",
       "      <td>0.420757363253857</td>\n",
       "      <td>1186</td>\n",
       "    </tr>\n",
       "    <tr>\n",
       "      <th>1</th>\n",
       "      <td>20150302153000-229</td>\n",
       "      <td>2015-03-02 15:30:00</td>\n",
       "      <td>watch meet press treat climate change big joke</td>\n",
       "      <td>hear sen. james inhofe r okla astonishingly ch...</td>\n",
       "      <td>-0.952380952380953</td>\n",
       "      <td>3.49206349206349</td>\n",
       "      <td>4.44444444444444</td>\n",
       "      <td>7.93650793650794</td>\n",
       "      <td>26.984126984127</td>\n",
       "      <td>1.42857142857143</td>\n",
       "      <td>576</td>\n",
       "    </tr>\n",
       "    <tr>\n",
       "      <th>2</th>\n",
       "      <td>20150302163000-237</td>\n",
       "      <td>2015-03-02 16:30:00</td>\n",
       "      <td>no_title</td>\n",
       "      <td>mary bowerman usa today network visitors show ...</td>\n",
       "      <td>0</td>\n",
       "      <td>1.8140589569161</td>\n",
       "      <td>1.8140589569161</td>\n",
       "      <td>3.6281179138322</td>\n",
       "      <td>25.3968253968254</td>\n",
       "      <td>0</td>\n",
       "      <td>405</td>\n",
       "    </tr>\n",
       "    <tr>\n",
       "      <th>3</th>\n",
       "      <td>20150302180000-1352</td>\n",
       "      <td>2015-03-02 18:00:00</td>\n",
       "      <td>russian energy deal comes contentious time</td>\n",
       "      <td>mr. fridman business track record hard cameron...</td>\n",
       "      <td>-1.14754098360656</td>\n",
       "      <td>1.80327868852459</td>\n",
       "      <td>2.95081967213115</td>\n",
       "      <td>4.75409836065574</td>\n",
       "      <td>19.5081967213115</td>\n",
       "      <td>0.409836065573771</td>\n",
       "      <td>1119</td>\n",
       "    </tr>\n",
       "    <tr>\n",
       "      <th>4</th>\n",
       "      <td>20150302203000-163</td>\n",
       "      <td>2015-03-02 20:30:00</td>\n",
       "      <td>climate change cause syrian civil war</td>\n",
       "      <td>climate change spark historic drought syria co...</td>\n",
       "      <td>-8.0545229244114</td>\n",
       "      <td>0.371747211895911</td>\n",
       "      <td>8.42627013630731</td>\n",
       "      <td>8.79801734820322</td>\n",
       "      <td>24.0396530359356</td>\n",
       "      <td>0.247831474597274</td>\n",
       "      <td>743</td>\n",
       "    </tr>\n",
       "  </tbody>\n",
       "</table>\n",
       "</div>"
      ],
      "text/plain": [
       "           GKGRECORDID                 DATE  \\\n",
       "0   20150302100000-674  2015-03-02 10:00:00   \n",
       "1   20150302153000-229  2015-03-02 15:30:00   \n",
       "2   20150302163000-237  2015-03-02 16:30:00   \n",
       "3  20150302180000-1352  2015-03-02 18:00:00   \n",
       "4   20150302203000-163  2015-03-02 20:30:00   \n",
       "\n",
       "                                            title  \\\n",
       "0                    america clean energy laggard   \n",
       "1  watch meet press treat climate change big joke   \n",
       "2                                        no_title   \n",
       "3      russian energy deal comes contentious time   \n",
       "4           climate change cause syrian civil war   \n",
       "\n",
       "                                         text_tokens            avg_tone  \\\n",
       "0  answer resound myriad claim energy need debunk...   0.350631136044881   \n",
       "1  hear sen. james inhofe r okla astonishingly ch...  -0.952380952380953   \n",
       "2  mary bowerman usa today network visitors show ...                   0   \n",
       "3  mr. fridman business track record hard cameron...   -1.14754098360656   \n",
       "4  climate change spark historic drought syria co...    -8.0545229244114   \n",
       "\n",
       "           pos_words         neg_words          polarity   act_ref_density  \\\n",
       "0   2.73492286115007  2.38429172510519  5.11921458625526  16.7601683029453   \n",
       "1   3.49206349206349  4.44444444444444  7.93650793650794   26.984126984127   \n",
       "2    1.8140589569161   1.8140589569161   3.6281179138322  25.3968253968254   \n",
       "3   1.80327868852459  2.95081967213115  4.75409836065574  19.5081967213115   \n",
       "4  0.371747211895911  8.42627013630731  8.79801734820322  24.0396530359356   \n",
       "\n",
       "  self_group_density word_count  \n",
       "0  0.420757363253857       1186  \n",
       "1   1.42857142857143        576  \n",
       "2                  0        405  \n",
       "3  0.409836065573771       1119  \n",
       "4  0.247831474597274        743  "
      ]
     },
     "execution_count": 115,
     "metadata": {},
     "output_type": "execute_result"
    }
   ],
   "source": [
    "df.drop('V2Tone', axis=1, inplace=True)\n",
    "df.head()"
   ]
  },
  {
   "cell_type": "code",
   "execution_count": 118,
   "metadata": {},
   "outputs": [],
   "source": [
    "#create datetime object\n",
    "df['DATE'] = pd.to_datetime(df['DATE'])"
   ]
  },
  {
   "cell_type": "code",
   "execution_count": 121,
   "metadata": {},
   "outputs": [],
   "source": [
    "#sort values\n",
    "df.sort_values('DATE', inplace=True)"
   ]
  },
  {
   "cell_type": "code",
   "execution_count": 123,
   "metadata": {},
   "outputs": [],
   "source": [
    "#save new file\n",
    "df.to_csv('gdelt_text_tone_complete_oct_22.csv')"
   ]
  },
  {
   "cell_type": "code",
   "execution_count": 124,
   "metadata": {},
   "outputs": [
    {
     "data": {
      "text/html": [
       "<div>\n",
       "<style scoped>\n",
       "    .dataframe tbody tr th:only-of-type {\n",
       "        vertical-align: middle;\n",
       "    }\n",
       "\n",
       "    .dataframe tbody tr th {\n",
       "        vertical-align: top;\n",
       "    }\n",
       "\n",
       "    .dataframe thead th {\n",
       "        text-align: right;\n",
       "    }\n",
       "</style>\n",
       "<table border=\"1\" class=\"dataframe\">\n",
       "  <thead>\n",
       "    <tr style=\"text-align: right;\">\n",
       "      <th></th>\n",
       "      <th>GKGRECORDID</th>\n",
       "      <th>DATE</th>\n",
       "      <th>title</th>\n",
       "      <th>text_tokens</th>\n",
       "      <th>avg_tone</th>\n",
       "      <th>pos_words</th>\n",
       "      <th>neg_words</th>\n",
       "      <th>polarity</th>\n",
       "      <th>act_ref_density</th>\n",
       "      <th>self_group_density</th>\n",
       "      <th>word_count</th>\n",
       "    </tr>\n",
       "  </thead>\n",
       "  <tbody>\n",
       "    <tr>\n",
       "      <th>0</th>\n",
       "      <td>20150302100000-674</td>\n",
       "      <td>2015-03-02 10:00:00</td>\n",
       "      <td>america clean energy laggard</td>\n",
       "      <td>answer resound myriad claim energy need debunk...</td>\n",
       "      <td>0.350631136044881</td>\n",
       "      <td>2.73492286115007</td>\n",
       "      <td>2.38429172510519</td>\n",
       "      <td>5.11921458625526</td>\n",
       "      <td>16.7601683029453</td>\n",
       "      <td>0.420757363253857</td>\n",
       "      <td>1186</td>\n",
       "    </tr>\n",
       "    <tr>\n",
       "      <th>1</th>\n",
       "      <td>20150302153000-229</td>\n",
       "      <td>2015-03-02 15:30:00</td>\n",
       "      <td>watch meet press treat climate change big joke</td>\n",
       "      <td>hear sen. james inhofe r okla astonishingly ch...</td>\n",
       "      <td>-0.952380952380953</td>\n",
       "      <td>3.49206349206349</td>\n",
       "      <td>4.44444444444444</td>\n",
       "      <td>7.93650793650794</td>\n",
       "      <td>26.984126984127</td>\n",
       "      <td>1.42857142857143</td>\n",
       "      <td>576</td>\n",
       "    </tr>\n",
       "    <tr>\n",
       "      <th>2</th>\n",
       "      <td>20150302163000-237</td>\n",
       "      <td>2015-03-02 16:30:00</td>\n",
       "      <td>no_title</td>\n",
       "      <td>mary bowerman usa today network visitors show ...</td>\n",
       "      <td>0</td>\n",
       "      <td>1.8140589569161</td>\n",
       "      <td>1.8140589569161</td>\n",
       "      <td>3.6281179138322</td>\n",
       "      <td>25.3968253968254</td>\n",
       "      <td>0</td>\n",
       "      <td>405</td>\n",
       "    </tr>\n",
       "    <tr>\n",
       "      <th>3</th>\n",
       "      <td>20150302180000-1352</td>\n",
       "      <td>2015-03-02 18:00:00</td>\n",
       "      <td>russian energy deal comes contentious time</td>\n",
       "      <td>mr. fridman business track record hard cameron...</td>\n",
       "      <td>-1.14754098360656</td>\n",
       "      <td>1.80327868852459</td>\n",
       "      <td>2.95081967213115</td>\n",
       "      <td>4.75409836065574</td>\n",
       "      <td>19.5081967213115</td>\n",
       "      <td>0.409836065573771</td>\n",
       "      <td>1119</td>\n",
       "    </tr>\n",
       "    <tr>\n",
       "      <th>4</th>\n",
       "      <td>20150302203000-163</td>\n",
       "      <td>2015-03-02 20:30:00</td>\n",
       "      <td>climate change cause syrian civil war</td>\n",
       "      <td>climate change spark historic drought syria co...</td>\n",
       "      <td>-8.0545229244114</td>\n",
       "      <td>0.371747211895911</td>\n",
       "      <td>8.42627013630731</td>\n",
       "      <td>8.79801734820322</td>\n",
       "      <td>24.0396530359356</td>\n",
       "      <td>0.247831474597274</td>\n",
       "      <td>743</td>\n",
       "    </tr>\n",
       "  </tbody>\n",
       "</table>\n",
       "</div>"
      ],
      "text/plain": [
       "           GKGRECORDID                DATE  \\\n",
       "0   20150302100000-674 2015-03-02 10:00:00   \n",
       "1   20150302153000-229 2015-03-02 15:30:00   \n",
       "2   20150302163000-237 2015-03-02 16:30:00   \n",
       "3  20150302180000-1352 2015-03-02 18:00:00   \n",
       "4   20150302203000-163 2015-03-02 20:30:00   \n",
       "\n",
       "                                            title  \\\n",
       "0                    america clean energy laggard   \n",
       "1  watch meet press treat climate change big joke   \n",
       "2                                        no_title   \n",
       "3      russian energy deal comes contentious time   \n",
       "4           climate change cause syrian civil war   \n",
       "\n",
       "                                         text_tokens            avg_tone  \\\n",
       "0  answer resound myriad claim energy need debunk...   0.350631136044881   \n",
       "1  hear sen. james inhofe r okla astonishingly ch...  -0.952380952380953   \n",
       "2  mary bowerman usa today network visitors show ...                   0   \n",
       "3  mr. fridman business track record hard cameron...   -1.14754098360656   \n",
       "4  climate change spark historic drought syria co...    -8.0545229244114   \n",
       "\n",
       "           pos_words         neg_words          polarity   act_ref_density  \\\n",
       "0   2.73492286115007  2.38429172510519  5.11921458625526  16.7601683029453   \n",
       "1   3.49206349206349  4.44444444444444  7.93650793650794   26.984126984127   \n",
       "2    1.8140589569161   1.8140589569161   3.6281179138322  25.3968253968254   \n",
       "3   1.80327868852459  2.95081967213115  4.75409836065574  19.5081967213115   \n",
       "4  0.371747211895911  8.42627013630731  8.79801734820322  24.0396530359356   \n",
       "\n",
       "  self_group_density word_count  \n",
       "0  0.420757363253857       1186  \n",
       "1   1.42857142857143        576  \n",
       "2                  0        405  \n",
       "3  0.409836065573771       1119  \n",
       "4  0.247831474597274        743  "
      ]
     },
     "execution_count": 124,
     "metadata": {},
     "output_type": "execute_result"
    }
   ],
   "source": [
    "df.head()"
   ]
  },
  {
   "cell_type": "code",
   "execution_count": 125,
   "metadata": {},
   "outputs": [],
   "source": [
    "df.set_index('DATE', inplace=True)"
   ]
  },
  {
   "cell_type": "code",
   "execution_count": 126,
   "metadata": {},
   "outputs": [
    {
     "data": {
      "text/html": [
       "<div>\n",
       "<style scoped>\n",
       "    .dataframe tbody tr th:only-of-type {\n",
       "        vertical-align: middle;\n",
       "    }\n",
       "\n",
       "    .dataframe tbody tr th {\n",
       "        vertical-align: top;\n",
       "    }\n",
       "\n",
       "    .dataframe thead th {\n",
       "        text-align: right;\n",
       "    }\n",
       "</style>\n",
       "<table border=\"1\" class=\"dataframe\">\n",
       "  <thead>\n",
       "    <tr style=\"text-align: right;\">\n",
       "      <th></th>\n",
       "      <th>GKGRECORDID</th>\n",
       "      <th>title</th>\n",
       "      <th>text_tokens</th>\n",
       "      <th>avg_tone</th>\n",
       "      <th>pos_words</th>\n",
       "      <th>neg_words</th>\n",
       "      <th>polarity</th>\n",
       "      <th>act_ref_density</th>\n",
       "      <th>self_group_density</th>\n",
       "      <th>word_count</th>\n",
       "    </tr>\n",
       "    <tr>\n",
       "      <th>DATE</th>\n",
       "      <th></th>\n",
       "      <th></th>\n",
       "      <th></th>\n",
       "      <th></th>\n",
       "      <th></th>\n",
       "      <th></th>\n",
       "      <th></th>\n",
       "      <th></th>\n",
       "      <th></th>\n",
       "      <th></th>\n",
       "    </tr>\n",
       "  </thead>\n",
       "  <tbody>\n",
       "    <tr>\n",
       "      <th>2015-03-02 10:00:00</th>\n",
       "      <td>20150302100000-674</td>\n",
       "      <td>america clean energy laggard</td>\n",
       "      <td>answer resound myriad claim energy need debunk...</td>\n",
       "      <td>0.350631136044881</td>\n",
       "      <td>2.73492286115007</td>\n",
       "      <td>2.38429172510519</td>\n",
       "      <td>5.11921458625526</td>\n",
       "      <td>16.7601683029453</td>\n",
       "      <td>0.420757363253857</td>\n",
       "      <td>1186</td>\n",
       "    </tr>\n",
       "    <tr>\n",
       "      <th>2015-03-02 15:30:00</th>\n",
       "      <td>20150302153000-229</td>\n",
       "      <td>watch meet press treat climate change big joke</td>\n",
       "      <td>hear sen. james inhofe r okla astonishingly ch...</td>\n",
       "      <td>-0.952380952380953</td>\n",
       "      <td>3.49206349206349</td>\n",
       "      <td>4.44444444444444</td>\n",
       "      <td>7.93650793650794</td>\n",
       "      <td>26.984126984127</td>\n",
       "      <td>1.42857142857143</td>\n",
       "      <td>576</td>\n",
       "    </tr>\n",
       "    <tr>\n",
       "      <th>2015-03-02 16:30:00</th>\n",
       "      <td>20150302163000-237</td>\n",
       "      <td>no_title</td>\n",
       "      <td>mary bowerman usa today network visitors show ...</td>\n",
       "      <td>0</td>\n",
       "      <td>1.8140589569161</td>\n",
       "      <td>1.8140589569161</td>\n",
       "      <td>3.6281179138322</td>\n",
       "      <td>25.3968253968254</td>\n",
       "      <td>0</td>\n",
       "      <td>405</td>\n",
       "    </tr>\n",
       "    <tr>\n",
       "      <th>2015-03-02 18:00:00</th>\n",
       "      <td>20150302180000-1352</td>\n",
       "      <td>russian energy deal comes contentious time</td>\n",
       "      <td>mr. fridman business track record hard cameron...</td>\n",
       "      <td>-1.14754098360656</td>\n",
       "      <td>1.80327868852459</td>\n",
       "      <td>2.95081967213115</td>\n",
       "      <td>4.75409836065574</td>\n",
       "      <td>19.5081967213115</td>\n",
       "      <td>0.409836065573771</td>\n",
       "      <td>1119</td>\n",
       "    </tr>\n",
       "    <tr>\n",
       "      <th>2015-03-02 20:30:00</th>\n",
       "      <td>20150302203000-163</td>\n",
       "      <td>climate change cause syrian civil war</td>\n",
       "      <td>climate change spark historic drought syria co...</td>\n",
       "      <td>-8.0545229244114</td>\n",
       "      <td>0.371747211895911</td>\n",
       "      <td>8.42627013630731</td>\n",
       "      <td>8.79801734820322</td>\n",
       "      <td>24.0396530359356</td>\n",
       "      <td>0.247831474597274</td>\n",
       "      <td>743</td>\n",
       "    </tr>\n",
       "  </tbody>\n",
       "</table>\n",
       "</div>"
      ],
      "text/plain": [
       "                             GKGRECORDID  \\\n",
       "DATE                                       \n",
       "2015-03-02 10:00:00   20150302100000-674   \n",
       "2015-03-02 15:30:00   20150302153000-229   \n",
       "2015-03-02 16:30:00   20150302163000-237   \n",
       "2015-03-02 18:00:00  20150302180000-1352   \n",
       "2015-03-02 20:30:00   20150302203000-163   \n",
       "\n",
       "                                                              title  \\\n",
       "DATE                                                                  \n",
       "2015-03-02 10:00:00                    america clean energy laggard   \n",
       "2015-03-02 15:30:00  watch meet press treat climate change big joke   \n",
       "2015-03-02 16:30:00                                        no_title   \n",
       "2015-03-02 18:00:00      russian energy deal comes contentious time   \n",
       "2015-03-02 20:30:00           climate change cause syrian civil war   \n",
       "\n",
       "                                                           text_tokens  \\\n",
       "DATE                                                                     \n",
       "2015-03-02 10:00:00  answer resound myriad claim energy need debunk...   \n",
       "2015-03-02 15:30:00  hear sen. james inhofe r okla astonishingly ch...   \n",
       "2015-03-02 16:30:00  mary bowerman usa today network visitors show ...   \n",
       "2015-03-02 18:00:00  mr. fridman business track record hard cameron...   \n",
       "2015-03-02 20:30:00  climate change spark historic drought syria co...   \n",
       "\n",
       "                               avg_tone          pos_words         neg_words  \\\n",
       "DATE                                                                           \n",
       "2015-03-02 10:00:00   0.350631136044881   2.73492286115007  2.38429172510519   \n",
       "2015-03-02 15:30:00  -0.952380952380953   3.49206349206349  4.44444444444444   \n",
       "2015-03-02 16:30:00                   0    1.8140589569161   1.8140589569161   \n",
       "2015-03-02 18:00:00   -1.14754098360656   1.80327868852459  2.95081967213115   \n",
       "2015-03-02 20:30:00    -8.0545229244114  0.371747211895911  8.42627013630731   \n",
       "\n",
       "                             polarity   act_ref_density self_group_density  \\\n",
       "DATE                                                                         \n",
       "2015-03-02 10:00:00  5.11921458625526  16.7601683029453  0.420757363253857   \n",
       "2015-03-02 15:30:00  7.93650793650794   26.984126984127   1.42857142857143   \n",
       "2015-03-02 16:30:00   3.6281179138322  25.3968253968254                  0   \n",
       "2015-03-02 18:00:00  4.75409836065574  19.5081967213115  0.409836065573771   \n",
       "2015-03-02 20:30:00  8.79801734820322  24.0396530359356  0.247831474597274   \n",
       "\n",
       "                    word_count  \n",
       "DATE                            \n",
       "2015-03-02 10:00:00       1186  \n",
       "2015-03-02 15:30:00        576  \n",
       "2015-03-02 16:30:00        405  \n",
       "2015-03-02 18:00:00       1119  \n",
       "2015-03-02 20:30:00        743  "
      ]
     },
     "execution_count": 126,
     "metadata": {},
     "output_type": "execute_result"
    }
   ],
   "source": [
    "df.head()"
   ]
  },
  {
   "cell_type": "code",
   "execution_count": 139,
   "metadata": {},
   "outputs": [
    {
     "name": "stdout",
     "output_type": "stream",
     "text": [
      "Requirement already satisfied: comet_ml in /usr/local/lib/python3.7/site-packages (3.2.4)\n",
      "Requirement already satisfied: everett[ini]>=1.0.1; python_version >= \"3.0\" in /usr/local/lib/python3.7/site-packages (from comet_ml) (1.0.2)\n",
      "Requirement already satisfied: wrapt>=1.11.2 in /usr/local/lib/python3.7/site-packages (from comet_ml) (1.12.1)\n",
      "Requirement already satisfied: jsonschema!=3.1.0,>=2.6.0 in /usr/local/lib/python3.7/site-packages (from comet_ml) (3.2.0)\n",
      "Requirement already satisfied: websocket-client>=0.55.0 in /usr/local/lib/python3.7/site-packages (from comet_ml) (0.57.0)\n",
      "Requirement already satisfied: nvidia-ml-py3>=7.352.0 in /usr/local/lib/python3.7/site-packages (from comet_ml) (7.352.0)\n",
      "Requirement already satisfied: dulwich>=0.20.6; python_version >= \"3.0\" in /usr/local/lib/python3.7/site-packages (from comet_ml) (0.20.6)\n",
      "Requirement already satisfied: six in /usr/local/lib/python3.7/site-packages (from comet_ml) (1.14.0)\n",
      "Requirement already satisfied: requests>=2.18.4 in /usr/local/lib/python3.7/site-packages (from comet_ml) (2.23.0)\n",
      "Requirement already satisfied: wurlitzer>=1.0.2 in /usr/local/lib/python3.7/site-packages (from comet_ml) (2.0.1)\n",
      "Requirement already satisfied: netifaces>=0.10.7 in /usr/local/lib/python3.7/site-packages (from comet_ml) (0.10.9)\n",
      "Requirement already satisfied: configobj; extra == \"ini\" in /usr/local/lib/python3.7/site-packages (from everett[ini]>=1.0.1; python_version >= \"3.0\"->comet_ml) (5.0.6)\n",
      "Requirement already satisfied: importlib-metadata; python_version < \"3.8\" in /usr/local/lib/python3.7/site-packages (from jsonschema!=3.1.0,>=2.6.0->comet_ml) (1.6.0)\n",
      "Requirement already satisfied: attrs>=17.4.0 in /usr/local/lib/python3.7/site-packages (from jsonschema!=3.1.0,>=2.6.0->comet_ml) (19.3.0)\n",
      "Requirement already satisfied: setuptools in /usr/local/lib/python3.7/site-packages (from jsonschema!=3.1.0,>=2.6.0->comet_ml) (46.2.0)\n",
      "Requirement already satisfied: pyrsistent>=0.14.0 in /usr/local/lib/python3.7/site-packages (from jsonschema!=3.1.0,>=2.6.0->comet_ml) (0.16.0)\n",
      "Requirement already satisfied: urllib3>=1.24.1 in /usr/local/lib/python3.7/site-packages (from dulwich>=0.20.6; python_version >= \"3.0\"->comet_ml) (1.24.3)\n",
      "Requirement already satisfied: certifi in /usr/local/lib/python3.7/site-packages (from dulwich>=0.20.6; python_version >= \"3.0\"->comet_ml) (2020.4.5.1)\n",
      "Requirement already satisfied: chardet<4,>=3.0.2 in /usr/local/lib/python3.7/site-packages (from requests>=2.18.4->comet_ml) (3.0.4)\n",
      "Requirement already satisfied: idna<3,>=2.5 in /usr/local/lib/python3.7/site-packages (from requests>=2.18.4->comet_ml) (2.9)\n",
      "Requirement already satisfied: zipp>=0.5 in /usr/local/lib/python3.7/site-packages (from importlib-metadata; python_version < \"3.8\"->jsonschema!=3.1.0,>=2.6.0->comet_ml) (3.1.0)\n",
      "\u001b[33mWARNING: You are using pip version 20.1; however, version 20.2.4 is available.\n",
      "You should consider upgrading via the '/usr/local/bin/python -m pip install --upgrade pip' command.\u001b[0m\n",
      "Note: you may need to restart the kernel to use updated packages.\n"
     ]
    }
   ],
   "source": [
    "#playing with comet_ml\n",
    "%pip install comet_ml"
   ]
  },
  {
   "cell_type": "code",
   "execution_count": 140,
   "metadata": {},
   "outputs": [
    {
     "name": "stderr",
     "output_type": "stream",
     "text": [
      "COMET INFO: Experiment is live on comet.ml https://www.comet.ml/aschharwood/general/9ba9c7a10b6245679b1b9559b95c600e\n",
      "\n"
     ]
    }
   ],
   "source": [
    "# import comet_ml in the top of your file\n",
    "from comet_ml import Experiment\n",
    "\n",
    "# Add the following code anywhere in your machine learning file\n",
    "experiment = Experiment(api_key=\"DjEKp5hWEzIQiYTYZTb69zKkb\",\n",
    "                        project_name=\"general\", workspace=\"aschharwood\")"
   ]
  },
  {
   "cell_type": "code",
   "execution_count": 134,
   "metadata": {},
   "outputs": [],
   "source": [
    "import matplotlib.pyplot as plt"
   ]
  },
  {
   "cell_type": "code",
   "execution_count": 142,
   "metadata": {},
   "outputs": [
    {
     "name": "stderr",
     "output_type": "stream",
     "text": [
      "COMET INFO: ---------------------------\n",
      "COMET INFO: Comet.ml Experiment Summary\n",
      "COMET INFO: ---------------------------\n",
      "COMET INFO:   Data:\n",
      "COMET INFO:     display_summary_level : 1\n",
      "COMET INFO:     url                   : https://www.comet.ml/aschharwood/general/9ba9c7a10b6245679b1b9559b95c600e\n",
      "COMET INFO:   Uploads:\n",
      "COMET INFO:     environment details : 1\n",
      "COMET INFO:     filename            : 1\n",
      "COMET INFO:     installed packages  : 1\n",
      "COMET INFO:     os packages         : 1\n",
      "COMET INFO: ---------------------------\n",
      "COMET INFO: Experiment is live on comet.ml https://www.comet.ml/aschharwood/visualizing-complete-gdelt-text/f237b844598a4911ba1cf30981677389\n",
      "\n"
     ]
    },
    {
     "data": {
      "image/png": "[encoded data removed]",
      "text/plain": [
       "<Figure size 1440x720 with 1 Axes>"
      ]
     },
     "metadata": {
      "needs_background": "light"
     },
     "output_type": "display_data"
    }
   ],
   "source": [
    "#plotting tone over time inside comet_ml experiment\n",
    "eexperiment = Experiment(api_key=\"DjEKp5hWEzIQiYTYZTb69zKkb\",\n",
    "                        project_name=\"Visualizing Complete GDELT Text\", workspace=\"aschharwood\")\n",
    "plt.figure(figsize=(20,10))\n",
    "df['avg_tone'].astype(float).resample('M').mean().plot()\n",
    "plt.show()\n",
    "experiment.log_figure(figure=plt)\n",
    "experiment.end()"
   ]
  },
  {
   "cell_type": "code",
   "execution_count": 149,
   "metadata": {},
   "outputs": [],
   "source": [
    "df.reset_index(inplace=True)"
   ]
  },
  {
   "cell_type": "code",
   "execution_count": 160,
   "metadata": {},
   "outputs": [
    {
     "data": {
      "image/png": "[encoded data removed]",
      "text/plain": [
       "<Figure size 1440x1080 with 1 Axes>"
      ]
     },
     "metadata": {
      "needs_background": "light"
     },
     "output_type": "display_data"
    }
   ],
   "source": [
    "#plotting number of articles for each time sample\n",
    "#this is when I learned that GDELT python package and Big Query have very different behavior in the data they return\n",
    "#Not ideal, but becasue these articles get resample and all the tokens get joined, it  means that this time frame has more tokens\n",
    "plt.figure(figsize=(20,15))\n",
    "df['DATE'].value_counts().plot()\n",
    "plt.yticks(range(0,100))\n",
    "plt.show()"
   ]
  },
  {
   "cell_type": "markdown",
   "metadata": {},
   "source": [
    "## Fixing new gdelt data"
   ]
  },
  {
   "cell_type": "code",
   "execution_count": 3,
   "metadata": {},
   "outputs": [],
   "source": [
    "df = pd.read_csv('/floyd/home/Capstone/cap_notebooks/data/master_data_set/gdelt_text_tone_complete_oct_22.csv')"
   ]
  },
  {
   "cell_type": "code",
   "execution_count": 4,
   "metadata": {},
   "outputs": [
    {
     "data": {
      "text/html": [
       "<div>\n",
       "<style scoped>\n",
       "    .dataframe tbody tr th:only-of-type {\n",
       "        vertical-align: middle;\n",
       "    }\n",
       "\n",
       "    .dataframe tbody tr th {\n",
       "        vertical-align: top;\n",
       "    }\n",
       "\n",
       "    .dataframe thead th {\n",
       "        text-align: right;\n",
       "    }\n",
       "</style>\n",
       "<table border=\"1\" class=\"dataframe\">\n",
       "  <thead>\n",
       "    <tr style=\"text-align: right;\">\n",
       "      <th></th>\n",
       "      <th>Unnamed: 0</th>\n",
       "      <th>GKGRECORDID</th>\n",
       "      <th>DATE</th>\n",
       "      <th>title</th>\n",
       "      <th>text_tokens</th>\n",
       "      <th>avg_tone</th>\n",
       "      <th>pos_words</th>\n",
       "      <th>neg_words</th>\n",
       "      <th>polarity</th>\n",
       "      <th>act_ref_density</th>\n",
       "      <th>self_group_density</th>\n",
       "      <th>word_count</th>\n",
       "    </tr>\n",
       "  </thead>\n",
       "  <tbody>\n",
       "    <tr>\n",
       "      <th>0</th>\n",
       "      <td>0</td>\n",
       "      <td>20150302100000-674</td>\n",
       "      <td>2015-03-02 10:00:00</td>\n",
       "      <td>america clean energy laggard</td>\n",
       "      <td>answer resound myriad claim energy need debunk...</td>\n",
       "      <td>0.350631</td>\n",
       "      <td>2.734923</td>\n",
       "      <td>2.384292</td>\n",
       "      <td>5.119215</td>\n",
       "      <td>16.760168</td>\n",
       "      <td>0.420757</td>\n",
       "      <td>1186</td>\n",
       "    </tr>\n",
       "    <tr>\n",
       "      <th>1</th>\n",
       "      <td>1</td>\n",
       "      <td>20150302153000-229</td>\n",
       "      <td>2015-03-02 15:30:00</td>\n",
       "      <td>watch meet press treat climate change big joke</td>\n",
       "      <td>hear sen. james inhofe r okla astonishingly ch...</td>\n",
       "      <td>-0.952381</td>\n",
       "      <td>3.492063</td>\n",
       "      <td>4.444444</td>\n",
       "      <td>7.936508</td>\n",
       "      <td>26.984127</td>\n",
       "      <td>1.428571</td>\n",
       "      <td>576</td>\n",
       "    </tr>\n",
       "    <tr>\n",
       "      <th>2</th>\n",
       "      <td>2</td>\n",
       "      <td>20150302163000-237</td>\n",
       "      <td>2015-03-02 16:30:00</td>\n",
       "      <td>no_title</td>\n",
       "      <td>mary bowerman usa today network visitors show ...</td>\n",
       "      <td>0.000000</td>\n",
       "      <td>1.814059</td>\n",
       "      <td>1.814059</td>\n",
       "      <td>3.628118</td>\n",
       "      <td>25.396825</td>\n",
       "      <td>0.000000</td>\n",
       "      <td>405</td>\n",
       "    </tr>\n",
       "    <tr>\n",
       "      <th>3</th>\n",
       "      <td>3</td>\n",
       "      <td>20150302180000-1352</td>\n",
       "      <td>2015-03-02 18:00:00</td>\n",
       "      <td>russian energy deal comes contentious time</td>\n",
       "      <td>mr. fridman business track record hard cameron...</td>\n",
       "      <td>-1.147541</td>\n",
       "      <td>1.803279</td>\n",
       "      <td>2.950820</td>\n",
       "      <td>4.754098</td>\n",
       "      <td>19.508197</td>\n",
       "      <td>0.409836</td>\n",
       "      <td>1119</td>\n",
       "    </tr>\n",
       "    <tr>\n",
       "      <th>4</th>\n",
       "      <td>4</td>\n",
       "      <td>20150302203000-163</td>\n",
       "      <td>2015-03-02 20:30:00</td>\n",
       "      <td>climate change cause syrian civil war</td>\n",
       "      <td>climate change spark historic drought syria co...</td>\n",
       "      <td>-8.054523</td>\n",
       "      <td>0.371747</td>\n",
       "      <td>8.426270</td>\n",
       "      <td>8.798017</td>\n",
       "      <td>24.039653</td>\n",
       "      <td>0.247831</td>\n",
       "      <td>743</td>\n",
       "    </tr>\n",
       "  </tbody>\n",
       "</table>\n",
       "</div>"
      ],
      "text/plain": [
       "   Unnamed: 0          GKGRECORDID                 DATE  \\\n",
       "0           0   20150302100000-674  2015-03-02 10:00:00   \n",
       "1           1   20150302153000-229  2015-03-02 15:30:00   \n",
       "2           2   20150302163000-237  2015-03-02 16:30:00   \n",
       "3           3  20150302180000-1352  2015-03-02 18:00:00   \n",
       "4           4   20150302203000-163  2015-03-02 20:30:00   \n",
       "\n",
       "                                            title  \\\n",
       "0                    america clean energy laggard   \n",
       "1  watch meet press treat climate change big joke   \n",
       "2                                        no_title   \n",
       "3      russian energy deal comes contentious time   \n",
       "4           climate change cause syrian civil war   \n",
       "\n",
       "                                         text_tokens  avg_tone  pos_words  \\\n",
       "0  answer resound myriad claim energy need debunk...  0.350631   2.734923   \n",
       "1  hear sen. james inhofe r okla astonishingly ch... -0.952381   3.492063   \n",
       "2  mary bowerman usa today network visitors show ...  0.000000   1.814059   \n",
       "3  mr. fridman business track record hard cameron... -1.147541   1.803279   \n",
       "4  climate change spark historic drought syria co... -8.054523   0.371747   \n",
       "\n",
       "   neg_words  polarity  act_ref_density  self_group_density  word_count  \n",
       "0   2.384292  5.119215        16.760168            0.420757        1186  \n",
       "1   4.444444  7.936508        26.984127            1.428571         576  \n",
       "2   1.814059  3.628118        25.396825            0.000000         405  \n",
       "3   2.950820  4.754098        19.508197            0.409836        1119  \n",
       "4   8.426270  8.798017        24.039653            0.247831         743  "
      ]
     },
     "execution_count": 4,
     "metadata": {},
     "output_type": "execute_result"
    }
   ],
   "source": [
    "df.head()"
   ]
  },
  {
   "cell_type": "code",
   "execution_count": 5,
   "metadata": {},
   "outputs": [
    {
     "name": "stdout",
     "output_type": "stream",
     "text": [
      "<class 'pandas.core.frame.DataFrame'>\n",
      "RangeIndex: 214706 entries, 0 to 214705\n",
      "Data columns (total 12 columns):\n",
      " #   Column              Non-Null Count   Dtype  \n",
      "---  ------              --------------   -----  \n",
      " 0   Unnamed: 0          214706 non-null  int64  \n",
      " 1   GKGRECORDID         214706 non-null  object \n",
      " 2   DATE                214706 non-null  object \n",
      " 3   title               214696 non-null  object \n",
      " 4   text_tokens         214706 non-null  object \n",
      " 5   avg_tone            214706 non-null  float64\n",
      " 6   pos_words           214706 non-null  float64\n",
      " 7   neg_words           214706 non-null  float64\n",
      " 8   polarity            214706 non-null  float64\n",
      " 9   act_ref_density     214706 non-null  float64\n",
      " 10  self_group_density  214706 non-null  float64\n",
      " 11  word_count          214706 non-null  int64  \n",
      "dtypes: float64(6), int64(2), object(4)\n",
      "memory usage: 19.7+ MB\n"
     ]
    }
   ],
   "source": [
    "df.info()"
   ]
  },
  {
   "cell_type": "code",
   "execution_count": 14,
   "metadata": {},
   "outputs": [
    {
     "name": "stdout",
     "output_type": "stream",
     "text": [
      "reading in text daya\n"
     ]
    },
    {
     "data": {
      "text/plain": [
       "'df: (214706, 12)'"
      ]
     },
     "metadata": {},
     "output_type": "display_data"
    },
    {
     "name": "stdout",
     "output_type": "stream",
     "text": [
      "setting datatime\n",
      "filling empty title columns\n",
      "tokenizing titles\n",
      "joining text and title\n"
     ]
    },
    {
     "data": {
      "text/plain": [
       "'df: (214706, 14)'"
      ]
     },
     "metadata": {},
     "output_type": "display_data"
    },
    {
     "name": "stdout",
     "output_type": "stream",
     "text": [
      "resampling at 1h\n"
     ]
    },
    {
     "data": {
      "text/plain": [
       "'clean text shape: (49115, 2)'"
      ]
     },
     "metadata": {},
     "output_type": "display_data"
    },
    {
     "data": {
      "text/plain": [
       "'text > 0: 29822'"
      ]
     },
     "metadata": {},
     "output_type": "display_data"
    },
    {
     "name": "stdout",
     "output_type": "stream",
     "text": [
      "adding padding to text\n",
      "appending new padding to test_resample\n",
      "reading in google trends\n"
     ]
    },
    {
     "data": {
      "text/plain": [
       "'gtrend shape: (66741, 8)'"
      ]
     },
     "metadata": {},
     "output_type": "display_data"
    },
    {
     "name": "stdout",
     "output_type": "stream",
     "text": [
      "grouping gtrends data and removing duplicates\n"
     ]
    },
    {
     "data": {
      "text/plain": [
       "'gtrends duplicates removed: (50096, 7)'"
      ]
     },
     "metadata": {},
     "output_type": "display_data"
    },
    {
     "name": "stdout",
     "output_type": "stream",
     "text": [
      "removing extra google trends data\n",
      "setting datetime on gtrends\n"
     ]
    },
    {
     "data": {
      "text/plain": [
       "'gtrends timeframe reduced: (48538, 6)'"
      ]
     },
     "metadata": {},
     "output_type": "display_data"
    },
    {
     "data": {
      "text/plain": [
       "'gtrends_gdelt shape: (48528, 7)'"
      ]
     },
     "metadata": {},
     "output_type": "display_data"
    },
    {
     "data": {
      "text/plain": [
       "\"gtrends_gdelt cols: Index(['date', 'depression', 'anxiety', 'government', 'politics', 'democracy',\\n       'title_text'],\\n      dtype='object')\""
      ]
     },
     "metadata": {},
     "output_type": "display_data"
    },
    {
     "name": "stdout",
     "output_type": "stream",
     "text": [
      "gtrends_gdelt complete records: 29441\n",
      "binary_depression value counts: 1    24881\n",
      "0    23647\n",
      "Name: depression_binary, dtype: int64\n",
      "shifting google trends by -24 houors\n",
      "setting final df\n",
      "<class 'pandas.core.frame.DataFrame'>\n",
      "Int64Index: 29389 entries, 0 to 48475\n",
      "Data columns (total 9 columns):\n",
      " #   Column             Non-Null Count  Dtype         \n",
      "---  ------             --------------  -----         \n",
      " 0   date               29389 non-null  datetime64[ns]\n",
      " 1   depression         29389 non-null  float64       \n",
      " 2   anxiety            29389 non-null  float64       \n",
      " 3   government         29389 non-null  float64       \n",
      " 4   politics           29389 non-null  float64       \n",
      " 5   democracy          29389 non-null  float64       \n",
      " 6   title_text         29389 non-null  object        \n",
      " 7   depression_binary  29389 non-null  int64         \n",
      " 8   shifted_12h        29389 non-null  float64       \n",
      "dtypes: datetime64[ns](1), float64(6), int64(1), object(1)\n",
      "memory usage: 2.2+ MB\n"
     ]
    }
   ],
   "source": [
    "#this code is the final transformation that is in all the model notebooks.\n",
    "\n",
    "\n",
    "#reading in gdelt master\n",
    "print('reading in text daya')\n",
    "df = pd.read_csv('/floyd/home/Capstone/cap_notebooks/data/master_data_set/gdelt_text_tone_complete_oct_22.csv')\n",
    "\n",
    "display(f'df: {df.shape}')\n",
    "\n",
    "#display(df.head())\n",
    "\n",
    "print('setting datatime')\n",
    "#cleans date time\n",
    "#df['date_time']  = df['gkgcode'].apply(lambda x: x[:14])\n",
    "\n",
    "\n",
    "\n",
    "#converts datetime\n",
    "df['date_time'] = pd.to_datetime(df['DATE'])\n",
    "\n",
    "#sets datetime index\n",
    "df.set_index('date_time', inplace=True)\n",
    "\n",
    "print('filling empty title columns')\n",
    "#fills missing title with no_title\n",
    "df['title'].fillna('no_title', inplace = True)\n",
    "\n",
    "print('tokenizing titles')\n",
    "#tokenzies title\n",
    "df['title_tokens'] = df['title'].apply(lambda x: tokenizer(str(x), nlp))\n",
    "\n",
    "print('joining text and title')\n",
    "#joins title and text\n",
    "df['title_text'] = df['title_tokens'] + df['text_tokens']\n",
    "\n",
    "#display(df.head())\n",
    "display(f'df: {df.shape}')\n",
    "\n",
    "\n",
    "print('resampling at 1h')\n",
    "test_resample = df.resample('1h')['title_text'].agg(lambda column: \"\".join(column))\n",
    "test_resample = pd.DataFrame(test_resample)\n",
    "test_resample.reset_index(inplace=True)\n",
    "\n",
    "display(f'clean text shape: {test_resample.shape}')\n",
    "\n",
    "useful_sample_size = (test_resample['title_text'].str.len()>0).sum()\n",
    "\n",
    "display(f'text > 0: {useful_sample_size}')\n",
    "\n",
    "print('adding padding to text')\n",
    "columns = list(test_resample.columns)\n",
    "\n",
    "\n",
    "\n",
    "date_list = list(pd.date_range(start='2020-10-07 21:00:00', end='2020-10-11 00:00:00', freq='1h'))\n",
    "\n",
    "data = {'date_time': date_list, 'title_text': 'empty_string'}\n",
    "\n",
    "df_holder = pd.DataFrame(data,columns=columns)\n",
    "\n",
    "print('appending new padding to test_resample')\n",
    "test_resample = test_resample.append(df_holder)\n",
    "\n",
    "print('reading in google trends')\n",
    "#read in gtrend data\n",
    "gtrends = pd.read_csv('/floyd/home/Capstone/cap_notebooks/data/google_trends/gtrends_2015-2020_clean.csv')\n",
    "\n",
    "display(f'gtrend shape: {gtrends.shape}')\n",
    "\n",
    "print('grouping gtrends data and removing duplicates')\n",
    "gtrends = gtrends.groupby('date').mean()\n",
    "\n",
    "display(f'gtrends duplicates removed: {gtrends.shape}')\n",
    "\n",
    "print('removing extra google trends data')\n",
    "gtrends = gtrends['2015-03-02 00:00:00': '2020-10-10 00:00:00']\n",
    "gtrends.reset_index(inplace=True)\n",
    "gtrends.drop(['Unnamed: 0', 'isPartial'], axis=1, inplace=True)\n",
    "\n",
    "print('setting datetime on gtrends')\n",
    "gtrends['date'] = pd.to_datetime(gtrends['date'])\n",
    "\n",
    "display(f'gtrends timeframe reduced: {gtrends.shape}')\n",
    "\n",
    "#merging text and trends\n",
    "gtrends_gdelt = gtrends.merge(test_resample, how='inner', left_on = 'date', right_on = 'date_time')\n",
    "\n",
    "#dropping extra data column\n",
    "gtrends_gdelt.drop('date_time', axis=1, inplace=True)\n",
    "display(f'gtrends_gdelt shape: {gtrends_gdelt.shape}')\n",
    "display(f'gtrends_gdelt cols: {gtrends_gdelt.columns}')\n",
    "\n",
    "#checking complete recores\n",
    "complete_records = (gtrends_gdelt['title_text'].str.len()>0).sum()\n",
    "print(f'gtrends_gdelt complete records: {complete_records}')\n",
    "\n",
    "#binarizing depression\n",
    "gtrends_gdelt['depression_binary'] = np.where(gtrends_gdelt['depression'] >= 36, 1, 0)\n",
    "dep_val_count = gtrends_gdelt['depression_binary'].value_counts()\n",
    "\n",
    "print(f'binary_depression value counts: {dep_val_count}')\n",
    "\n",
    "#shifting trends data to so target is now 24 hours later that text feature data\n",
    "print('shifting google trends by -24 houors')\n",
    "gtrends_gdelt['shifted_12h'] = gtrends_gdelt['depression_binary'].shift(-12)\n",
    "\n",
    "#dropping NA rows, which should just be 24 end rows\n",
    "gtrends_gdelt.dropna(inplace=True)\n",
    "\n",
    "#grapping complete rows\n",
    "\n",
    "print('setting final df')\n",
    "gtrends_text_final = gtrends_gdelt[gtrends_gdelt['title_text'].str.len()>12]\n",
    "\n",
    "gtrends_text_final.info()"
   ]
  },
  {
   "cell_type": "code",
   "execution_count": 15,
   "metadata": {},
   "outputs": [
    {
     "data": {
      "text/html": [
       "<div>\n",
       "<style scoped>\n",
       "    .dataframe tbody tr th:only-of-type {\n",
       "        vertical-align: middle;\n",
       "    }\n",
       "\n",
       "    .dataframe tbody tr th {\n",
       "        vertical-align: top;\n",
       "    }\n",
       "\n",
       "    .dataframe thead th {\n",
       "        text-align: right;\n",
       "    }\n",
       "</style>\n",
       "<table border=\"1\" class=\"dataframe\">\n",
       "  <thead>\n",
       "    <tr style=\"text-align: right;\">\n",
       "      <th></th>\n",
       "      <th>date</th>\n",
       "      <th>depression</th>\n",
       "      <th>anxiety</th>\n",
       "      <th>government</th>\n",
       "      <th>politics</th>\n",
       "      <th>democracy</th>\n",
       "      <th>title_text</th>\n",
       "      <th>depression_binary</th>\n",
       "      <th>shifted_12h</th>\n",
       "    </tr>\n",
       "  </thead>\n",
       "  <tbody>\n",
       "    <tr>\n",
       "      <th>0</th>\n",
       "      <td>2015-03-02 10:00:00</td>\n",
       "      <td>15.0</td>\n",
       "      <td>16.0</td>\n",
       "      <td>71.0</td>\n",
       "      <td>4.0</td>\n",
       "      <td>2.0</td>\n",
       "      <td>america clean energy laggardanswer resound myr...</td>\n",
       "      <td>0</td>\n",
       "      <td>0.0</td>\n",
       "    </tr>\n",
       "    <tr>\n",
       "      <th>5</th>\n",
       "      <td>2015-03-02 15:00:00</td>\n",
       "      <td>18.0</td>\n",
       "      <td>13.0</td>\n",
       "      <td>42.0</td>\n",
       "      <td>6.0</td>\n",
       "      <td>5.0</td>\n",
       "      <td>watch meet press treat climate change big joke...</td>\n",
       "      <td>0</td>\n",
       "      <td>0.0</td>\n",
       "    </tr>\n",
       "    <tr>\n",
       "      <th>6</th>\n",
       "      <td>2015-03-02 16:00:00</td>\n",
       "      <td>17.0</td>\n",
       "      <td>13.0</td>\n",
       "      <td>41.0</td>\n",
       "      <td>6.0</td>\n",
       "      <td>5.0</td>\n",
       "      <td>no_titlemary bowerman usa today network visito...</td>\n",
       "      <td>0</td>\n",
       "      <td>0.0</td>\n",
       "    </tr>\n",
       "    <tr>\n",
       "      <th>8</th>\n",
       "      <td>2015-03-02 18:00:00</td>\n",
       "      <td>18.0</td>\n",
       "      <td>14.0</td>\n",
       "      <td>39.0</td>\n",
       "      <td>6.0</td>\n",
       "      <td>4.0</td>\n",
       "      <td>russian energy deal come contentious timemr. f...</td>\n",
       "      <td>0</td>\n",
       "      <td>0.0</td>\n",
       "    </tr>\n",
       "    <tr>\n",
       "      <th>10</th>\n",
       "      <td>2015-03-02 20:00:00</td>\n",
       "      <td>17.0</td>\n",
       "      <td>13.0</td>\n",
       "      <td>35.0</td>\n",
       "      <td>5.0</td>\n",
       "      <td>4.0</td>\n",
       "      <td>climate change cause syrian civil warclimate c...</td>\n",
       "      <td>0</td>\n",
       "      <td>0.0</td>\n",
       "    </tr>\n",
       "    <tr>\n",
       "      <th>...</th>\n",
       "      <td>...</td>\n",
       "      <td>...</td>\n",
       "      <td>...</td>\n",
       "      <td>...</td>\n",
       "      <td>...</td>\n",
       "      <td>...</td>\n",
       "      <td>...</td>\n",
       "      <td>...</td>\n",
       "      <td>...</td>\n",
       "    </tr>\n",
       "    <tr>\n",
       "      <th>48471</th>\n",
       "      <td>2020-10-07 16:00:00</td>\n",
       "      <td>14.5</td>\n",
       "      <td>17.0</td>\n",
       "      <td>54.0</td>\n",
       "      <td>11.0</td>\n",
       "      <td>8.5</td>\n",
       "      <td>hurricane delta landfall gulf coast category 3...</td>\n",
       "      <td>0</td>\n",
       "      <td>0.0</td>\n",
       "    </tr>\n",
       "    <tr>\n",
       "      <th>48472</th>\n",
       "      <td>2020-10-07 17:00:00</td>\n",
       "      <td>13.5</td>\n",
       "      <td>17.5</td>\n",
       "      <td>54.0</td>\n",
       "      <td>10.5</td>\n",
       "      <td>8.5</td>\n",
       "      <td>150 million join extreme poor world bank© prov...</td>\n",
       "      <td>0</td>\n",
       "      <td>0.0</td>\n",
       "    </tr>\n",
       "    <tr>\n",
       "      <th>48473</th>\n",
       "      <td>2020-10-07 18:00:00</td>\n",
       "      <td>13.5</td>\n",
       "      <td>17.5</td>\n",
       "      <td>50.0</td>\n",
       "      <td>10.5</td>\n",
       "      <td>8.0</td>\n",
       "      <td>china 2060 carbon neutral goal bill hit $ 5 tr...</td>\n",
       "      <td>0</td>\n",
       "      <td>0.0</td>\n",
       "    </tr>\n",
       "    <tr>\n",
       "      <th>48474</th>\n",
       "      <td>2020-10-07 19:00:00</td>\n",
       "      <td>13.5</td>\n",
       "      <td>17.5</td>\n",
       "      <td>46.0</td>\n",
       "      <td>10.5</td>\n",
       "      <td>7.0</td>\n",
       "      <td>dare city 2020 kejriwal speak ev policy odd sc...</td>\n",
       "      <td>0</td>\n",
       "      <td>0.0</td>\n",
       "    </tr>\n",
       "    <tr>\n",
       "      <th>48475</th>\n",
       "      <td>2020-10-07 20:00:00</td>\n",
       "      <td>13.0</td>\n",
       "      <td>17.0</td>\n",
       "      <td>39.5</td>\n",
       "      <td>10.0</td>\n",
       "      <td>6.0</td>\n",
       "      <td>covid climate denialmean issue leadership cruc...</td>\n",
       "      <td>0</td>\n",
       "      <td>0.0</td>\n",
       "    </tr>\n",
       "  </tbody>\n",
       "</table>\n",
       "<p>29389 rows × 9 columns</p>\n",
       "</div>"
      ],
      "text/plain": [
       "                     date  depression  anxiety  government  politics  \\\n",
       "0     2015-03-02 10:00:00        15.0     16.0        71.0       4.0   \n",
       "5     2015-03-02 15:00:00        18.0     13.0        42.0       6.0   \n",
       "6     2015-03-02 16:00:00        17.0     13.0        41.0       6.0   \n",
       "8     2015-03-02 18:00:00        18.0     14.0        39.0       6.0   \n",
       "10    2015-03-02 20:00:00        17.0     13.0        35.0       5.0   \n",
       "...                   ...         ...      ...         ...       ...   \n",
       "48471 2020-10-07 16:00:00        14.5     17.0        54.0      11.0   \n",
       "48472 2020-10-07 17:00:00        13.5     17.5        54.0      10.5   \n",
       "48473 2020-10-07 18:00:00        13.5     17.5        50.0      10.5   \n",
       "48474 2020-10-07 19:00:00        13.5     17.5        46.0      10.5   \n",
       "48475 2020-10-07 20:00:00        13.0     17.0        39.5      10.0   \n",
       "\n",
       "       democracy                                         title_text  \\\n",
       "0            2.0  america clean energy laggardanswer resound myr...   \n",
       "5            5.0  watch meet press treat climate change big joke...   \n",
       "6            5.0  no_titlemary bowerman usa today network visito...   \n",
       "8            4.0  russian energy deal come contentious timemr. f...   \n",
       "10           4.0  climate change cause syrian civil warclimate c...   \n",
       "...          ...                                                ...   \n",
       "48471        8.5  hurricane delta landfall gulf coast category 3...   \n",
       "48472        8.5  150 million join extreme poor world bank© prov...   \n",
       "48473        8.0  china 2060 carbon neutral goal bill hit $ 5 tr...   \n",
       "48474        7.0  dare city 2020 kejriwal speak ev policy odd sc...   \n",
       "48475        6.0  covid climate denialmean issue leadership cruc...   \n",
       "\n",
       "       depression_binary  shifted_12h  \n",
       "0                      0          0.0  \n",
       "5                      0          0.0  \n",
       "6                      0          0.0  \n",
       "8                      0          0.0  \n",
       "10                     0          0.0  \n",
       "...                  ...          ...  \n",
       "48471                  0          0.0  \n",
       "48472                  0          0.0  \n",
       "48473                  0          0.0  \n",
       "48474                  0          0.0  \n",
       "48475                  0          0.0  \n",
       "\n",
       "[29389 rows x 9 columns]"
      ]
     },
     "execution_count": 15,
     "metadata": {},
     "output_type": "execute_result"
    }
   ],
   "source": [
    "gtrends_text_final"
   ]
  },
  {
   "cell_type": "code",
   "execution_count": null,
   "metadata": {},
   "outputs": [],
   "source": []
  }
 ],
 "metadata": {
  "kernelspec": {
   "display_name": "Python 3",
   "language": "python",
   "name": "python3"
  },
  "language_info": {
   "codemirror_mode": {
    "name": "ipython",
    "version": 3
   },
   "file_extension": ".py",
   "mimetype": "text/x-python",
   "name": "python",
   "nbconvert_exporter": "python",
   "pygments_lexer": "ipython3",
   "version": "3.8.2"
  },
  "neptune": {
   "notebookId": "f73f421e-59d2-41de-a0e0-9590c95cf5dc"
  }
 },
 "nbformat": 4,
 "nbformat_minor": 4
}
