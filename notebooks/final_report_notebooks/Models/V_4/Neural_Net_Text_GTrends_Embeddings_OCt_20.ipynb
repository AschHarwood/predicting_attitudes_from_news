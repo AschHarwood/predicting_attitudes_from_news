{
 "cells": [
  {
   "cell_type": "markdown",
   "metadata": {},
   "source": [
    "# Neural Net on V4 data\n",
    "\n",
    "- This is the dataset that has the 9 month gap in texts\n",
    "- Model achieved great results, but I made a mistake with the shift by dropping rows without text before shifting\n",
    "- This means each row of resample data was predicting some depression value in the future but it was not uniform"
   ]
  },
  {
   "cell_type": "markdown",
   "metadata": {},
   "source": [
    "# Imports and Installs"
   ]
  },
  {
   "cell_type": "code",
   "execution_count": 2,
   "metadata": {},
   "outputs": [
    {
     "name": "stdout",
     "output_type": "stream",
     "text": [
      "Requirement already satisfied: tensorflow-hub in /usr/local/lib/python3.7/site-packages (0.9.0)\n",
      "Requirement already satisfied: numpy>=1.12.0 in /usr/local/lib/python3.7/site-packages (from tensorflow-hub) (1.18.4)\n",
      "Requirement already satisfied: six>=1.12.0 in /usr/local/lib/python3.7/site-packages (from tensorflow-hub) (1.14.0)\n",
      "Requirement already satisfied: protobuf>=3.8.0 in /usr/local/lib/python3.7/site-packages (from tensorflow-hub) (3.11.3)\n",
      "Requirement already satisfied: setuptools in /usr/local/lib/python3.7/site-packages (from protobuf>=3.8.0->tensorflow-hub) (46.2.0)\n",
      "\u001b[33mWARNING: You are using pip version 20.1; however, version 20.2.4 is available.\n",
      "You should consider upgrading via the '/usr/local/bin/python -m pip install --upgrade pip' command.\u001b[0m\n",
      "Version:  2.2.0\n",
      "Eager mode:  True\n",
      "Hub version:  0.9.0\n",
      "GPU is available\n"
     ]
    }
   ],
   "source": [
    "from tensorflow.keras import regularizers\n",
    "\n",
    "from keras.layers import Dense, Flatten, LSTM, Conv1D, MaxPooling1D, Dropout, Activation\n",
    "\n",
    "import matplotlib.pyplot as plt\n",
    "\n",
    "%matplotlib inline\n",
    "\n",
    "import numpy as np\n",
    "from sklearn.model_selection import train_test_split\n",
    "\n",
    "\n",
    "!pip install tensorflow-hub\n",
    "#!pip install tensorflow-datasets\n",
    "import tensorflow_hub as hub\n",
    "\n",
    "import tensorflow as tf\n",
    "\n",
    "print(\"Version: \", tf.__version__)\n",
    "print(\"Eager mode: \", tf.executing_eagerly())\n",
    "print(\"Hub version: \", hub.__version__)\n",
    "print(\"GPU is\", \"available\" if tf.config.experimental.list_physical_devices(\"GPU\") else \"NOT AVAILABLE\")\n",
    "\n",
    "import pandas as pd\n",
    "\n",
    "# !pip install spacy\n",
    "# !python -m spacy download en_core_web_sm\n",
    "# import spacy\n",
    "# nlp = spacy.load('en_core_web_sm')"
   ]
  },
  {
   "cell_type": "code",
   "execution_count": null,
   "metadata": {},
   "outputs": [],
   "source": [
    "#defining tokenizer\n",
    "nlp = spacy.load(\"en_core_web_sm\", disable=['tagger', 'parser', 'ner'])\n",
    "def tokenizer(text, nlp):\n",
    "\n",
    "    token_list = []\n",
    "    doc = nlp(text)\n",
    "    for token in doc:\n",
    "        if token.is_stop == False and token.is_punct==False:\n",
    "            if token.text != ' ':\n",
    "                token_list.append((token.lemma_).lower())\n",
    "    str_tokens = ' '.join(token_list)\n",
    "    return str_tokens"
   ]
  },
  {
   "cell_type": "markdown",
   "metadata": {},
   "source": [
    "# Data import and shaping"
   ]
  },
  {
   "cell_type": "code",
   "execution_count": 34,
   "metadata": {},
   "outputs": [],
   "source": [
    "X_train, X_test, y_train, y_test = train_test_split(X, y, test_size=.3, stratify=y)"
   ]
  },
  {
   "cell_type": "markdown",
   "metadata": {},
   "source": [
    "### Building the Model"
   ]
  },
  {
   "cell_type": "markdown",
   "metadata": {},
   "source": [
    "### Offset of 24"
   ]
  },
  {
   "cell_type": "code",
   "execution_count": 59,
   "metadata": {},
   "outputs": [
    {
     "data": {
      "text/plain": [
       "'df: (52758, 13)'"
      ]
     },
     "metadata": {},
     "output_type": "display_data"
    },
    {
     "data": {
      "text/plain": [
       "'df: (52758, 13)'"
      ]
     },
     "metadata": {},
     "output_type": "display_data"
    },
    {
     "data": {
      "text/plain": [
       "'resampled data: (49115,)'"
      ]
     },
     "metadata": {},
     "output_type": "display_data"
    },
    {
     "data": {
      "text/plain": [
       "'less than 100 char: 23789'"
      ]
     },
     "metadata": {},
     "output_type": "display_data"
    },
    {
     "data": {
      "text/plain": [
       "'gtrends: (66741, 8)'"
      ]
     },
     "metadata": {},
     "output_type": "display_data"
    },
    {
     "data": {
      "text/plain": [
       "'gtrends_with_text: (66741, 8)'"
      ]
     },
     "metadata": {},
     "output_type": "display_data"
    },
    {
     "data": {
      "text/plain": [
       "'gtrends_with_text: (66741, 8)'"
      ]
     },
     "metadata": {},
     "output_type": "display_data"
    },
    {
     "data": {
      "text/plain": [
       "'depression_target: (33207, 2)'"
      ]
     },
     "metadata": {},
     "output_type": "display_data"
    },
    {
     "data": {
      "image/png": "[encoded data removed]",
      "text/plain": [
       "<Figure size 432x288 with 1 Axes>"
      ]
     },
     "metadata": {
      "needs_background": "light"
     },
     "output_type": "display_data"
    },
    {
     "data": {
      "image/png": "[encoded data removed]",
      "text/plain": [
       "<Figure size 432x288 with 1 Axes>"
      ]
     },
     "metadata": {
      "needs_background": "light"
     },
     "output_type": "display_data"
    },
    {
     "name": "stderr",
     "output_type": "stream",
     "text": [
      "/usr/local/lib/python3.7/site-packages/ipykernel_launcher.py:60: SettingWithCopyWarning: \n",
      "A value is trying to be set on a copy of a slice from a DataFrame.\n",
      "Try using .loc[row_indexer,col_indexer] = value instead\n",
      "\n",
      "See the caveats in the documentation: https://pandas.pydata.org/pandas-docs/stable/user_guide/indexing.html#returning-a-view-versus-a-copy\n",
      "/usr/local/lib/python3.7/site-packages/ipykernel_launcher.py:61: SettingWithCopyWarning: \n",
      "A value is trying to be set on a copy of a slice from a DataFrame.\n",
      "Try using .loc[row_indexer,col_indexer] = value instead\n",
      "\n",
      "See the caveats in the documentation: https://pandas.pydata.org/pandas-docs/stable/user_guide/indexing.html#returning-a-view-versus-a-copy\n",
      "/usr/local/lib/python3.7/site-packages/ipykernel_launcher.py:62: SettingWithCopyWarning: \n",
      "A value is trying to be set on a copy of a slice from a DataFrame\n",
      "\n",
      "See the caveats in the documentation: https://pandas.pydata.org/pandas-docs/stable/user_guide/indexing.html#returning-a-view-versus-a-copy\n"
     ]
    },
    {
     "data": {
      "text/plain": [
       "'depression_target_after_na_drop: (33183, 3)'"
      ]
     },
     "metadata": {},
     "output_type": "display_data"
    },
    {
     "data": {
      "text/plain": [
       "'x_shape: (33183,)'"
      ]
     },
     "metadata": {},
     "output_type": "display_data"
    }
   ],
   "source": [
    "#reading in gdelt master\n",
    "df = pd.read_csv('/floyd/home/Capstone/cap_notebooks/data/master_data_set/text_with_tokens_52k.csv')\n",
    "\n",
    "display(df.shape)\n",
    "\n",
    "display(df.head())\n",
    "\n",
    "#extracts date_time from gkgcode\n",
    "df['date_time']  = df['gkgcode'].apply(lambda x: x[:14])\n",
    "\n",
    "\n",
    "#create date_time object\n",
    "df['date_time'] = pd.to_datetime(df['date_time'], format='%Y%m%d%H%M%S')\n",
    "#set date as index\n",
    "df.set_index('date_time', inplace=True)\n",
    "\n",
    "display(df.head())\n",
    "\n",
    "#resample text data and join text tokens by hour\n",
    "test_resample = df.resample('h')['text'].agg(lambda column: \"\".join(column))\n",
    "\n",
    "display(test_resample.shape)\n",
    "\n",
    "#check number of strings with less than 100 characters\n",
    "test_resample.apply(lambda x: len(x) < 100).sum()\n",
    "\n",
    "#reset index\n",
    "test_resample = test_resample.reset_index()\n",
    "\n",
    "### Reading in Google Trends Data\n",
    "\n",
    "gtrends = pd.read_csv('/floyd/home/Capstone/cap_notebooks/data/google_trends/gtrends_2015-2020_clean.csv')\n",
    "\n",
    "#set datetime object\n",
    "gtrends['date'] = pd.to_datetime(gtrends['date'])\n",
    "\n",
    "display(gtrends.shape)\n",
    "\n",
    "#merge text and target data frames\n",
    "gtrends_gdelt = gtrends.merge(test_resample, how='inner', left_on = 'date', right_on = 'date_time' )\n",
    "\n",
    "#create bool mask for rows with less than 200 characters\n",
    "gtrends_gdelt['text_bool'] = gtrends_gdelt['text'].apply(lambda x: len(x) < 200)\n",
    "\n",
    "#keeps rows with text longer than 200 characters. This is the mistake. This should happen after shift\n",
    "gtrends_gdelt = gtrends_gdelt[gtrends_gdelt['text_bool']==False]\n",
    "\n",
    "#set date time index\n",
    "gtrends_gdelt.set_index('date', inplace=True)\n",
    "\n",
    "#filter df to text and target\n",
    "depression_target = gtrends_gdelt[['text', 'depression']]\n",
    "\n",
    "#plot depression counts\n",
    "depression_target['depression'].plot()\n",
    "\n",
    "depression_target.describe()\n",
    "\n",
    "#plot histogram\n",
    "plt.figure()\n",
    "plt.hist(depression_target['depression'])\n",
    "plt.show()\n",
    "\n",
    "#binarize depression\n",
    "depression_target['d_search_bin'] = np.where(depression_target['depression'] >= 36, 1, 0)\n",
    "\n",
    "#shift target by 24 hours\n",
    "depression_target['d_search_bin'] = depression_target['d_search_bin'].shift(-24)\n",
    "depression_target.dropna(inplace=True)\n",
    "\n",
    "depression_target['d_search_bin'].value_counts()\n",
    "depression_target_x_y = depression_target[['text', 'd_search_bin']]\n",
    "depression_target_x_y.reset_index(drop=True, inplace=True)\n",
    "\n",
    "X = depression_target_x_y['text']\n",
    "y = depression_target_x_y['d_search_bin']"
   ]
  },
  {
   "cell_type": "code",
   "execution_count": 54,
   "metadata": {},
   "outputs": [],
   "source": [
    "#test train split\n",
    "X_train, X_test, y_train, y_test = train_test_split(X, y, test_size=.3, stratify=y)"
   ]
  },
  {
   "cell_type": "code",
   "execution_count": 55,
   "metadata": {},
   "outputs": [],
   "source": [
    "#define model\n",
    "#once again I played with all sorts of variations of this architecture\n",
    "model = tf.keras.Sequential()\n",
    "model.add(hub_layer)\n",
    "model.add(tf.keras.layers.Dense(8, activation='relu'))\n",
    "model.add(tf.keras.layers.Dropout(0.2))\n",
    "model.add(tf.keras.layers.Dense(4, activation='relu', kernel_regularizer=regularizers.l2(0.1)))\n",
    "model.add(tf.keras.layers.Dropout(0.2))\n",
    "#model.add(tf.keras.layers.Dense(4, activation='relu', kernel_regularizer=regularizers.l2(0.01)))\n",
    "#model.add(tf.keras.layers.Dropout(0.2))\n",
    "# model.add(tf.keras.layers.Dense(20, activation='relu', kernel_regularizer=regularizers.l1(0.1)))\n",
    "# #model.add(tf.keras.layers.Dropout(0.2))\n",
    "# model.add(tf.keras.layers.Dense(20, activation='relu', kernel_regularizer=regularizers.l1(0.1)))\n",
    "# #model.add(tf.keras.layers.Dropout(0.2))\n",
    "# model.add(tf.keras.layers.Dense(20, activation='relu', kernel_regularizer=regularizers.l1(0.1)))\n",
    "#model.add(tf.keras.layers.Dropout(0.2))\n",
    "model.add(tf.keras.layers.Dense(1))\n",
    "\n",
    "\n",
    "#compile model\n",
    "model.compile(optimizer='adam',\n",
    "             loss=tf.keras.losses.BinaryCrossentropy(from_logits=True),\n",
    "             metrics=['accuracy'])"
   ]
  },
  {
   "cell_type": "code",
   "execution_count": 56,
   "metadata": {},
   "outputs": [
    {
     "name": "stdout",
     "output_type": "stream",
     "text": [
      "Epoch 1/4\n",
      "726/726 [==============================] - 91s 125ms/step - loss: 0.6984 - accuracy: 0.5211 - val_loss: 0.4503 - val_accuracy: 0.5212\n",
      "Epoch 2/4\n",
      "726/726 [==============================] - 91s 125ms/step - loss: 0.4061 - accuracy: 0.8512 - val_loss: 0.3366 - val_accuracy: 0.8718\n",
      "Epoch 3/4\n",
      "726/726 [==============================] - 91s 125ms/step - loss: 0.2953 - accuracy: 0.8938 - val_loss: 0.3516 - val_accuracy: 0.8719\n",
      "Epoch 4/4\n",
      "726/726 [==============================] - 91s 125ms/step - loss: 0.2466 - accuracy: 0.9130 - val_loss: 0.3700 - val_accuracy: 0.8630\n"
     ]
    }
   ],
   "source": [
    "#fit model\n",
    "history = model.fit(X_train, y_train, epochs=4, verbose=1, validation_data=(X_test, y_test))"
   ]
  }
 ],
 "metadata": {
  "kernelspec": {
   "display_name": "Python 3",
   "language": "python",
   "name": "python3"
  },
  "language_info": {
   "codemirror_mode": {
    "name": "ipython",
    "version": 3
   },
   "file_extension": ".py",
   "mimetype": "text/x-python",
   "name": "python",
   "nbconvert_exporter": "python",
   "pygments_lexer": "ipython3",
   "version": "3.8.2"
  },
  "neptune": {
   "notebookId": "75680acb-574c-408d-b085-4de8ba023a03"
  }
 },
 "nbformat": 4,
 "nbformat_minor": 4
}
