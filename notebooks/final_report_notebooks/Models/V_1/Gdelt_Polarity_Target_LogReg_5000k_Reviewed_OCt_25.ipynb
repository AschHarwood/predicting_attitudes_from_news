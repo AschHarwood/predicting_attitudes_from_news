{
 "cells": [
  {
   "cell_type": "markdown",
   "metadata": {},
   "source": [
    "# EDA and Modeling with V1 'Toy' Dataset\n",
    "\n",
    "- represents initial MVP of 5000 articles related to climate change\n",
    "- Target is 'polarity' score\n",
    "- Applies CountVectorizer and Logistic Regression"
   ]
  },
  {
   "cell_type": "markdown",
   "metadata": {},
   "source": [
    "# Import Statements"
   ]
  },
  {
   "cell_type": "code",
   "execution_count": 1,
   "metadata": {},
   "outputs": [],
   "source": [
    "import pandas as pd\n",
    "import csv\n",
    "import numpy as np\n",
    "import matplotlib.pyplot as plt\n",
    "from sklearn.linear_model import LogisticRegression\n",
    "from sklearn.model_selection import train_test_split\n",
    "from sklearn.feature_extraction.text import CountVectorizer, TfidfVectorizer\n",
    "import seaborn as sns\n",
    "import re"
   ]
  },
  {
   "cell_type": "markdown",
   "metadata": {},
   "source": [
    "# Reading and Shaping text and GDELT data"
   ]
  },
  {
   "cell_type": "code",
   "execution_count": 2,
   "metadata": {},
   "outputs": [],
   "source": [
    "#reading in text data\n",
    "df = pd.read_csv('cc_text_out.csv')"
   ]
  },
  {
   "cell_type": "code",
   "execution_count": 4,
   "metadata": {},
   "outputs": [
    {
     "data": {
      "text/plain": [
       "(4630, 7)"
      ]
     },
     "execution_count": 4,
     "metadata": {},
     "output_type": "execute_result"
    }
   ],
   "source": [
    "#checking shape\n",
    "df.shape"
   ]
  },
  {
   "cell_type": "code",
   "execution_count": 5,
   "metadata": {},
   "outputs": [
    {
     "data": {
      "text/plain": [
       "Index(['Unnamed: 0', 'gkgcode', 'link', 'title', 'author', 'publish_date',\n",
       "       'text'],\n",
       "      dtype='object')"
      ]
     },
     "execution_count": 5,
     "metadata": {},
     "output_type": "execute_result"
    }
   ],
   "source": [
    "#checking columns\n",
    "df.columns"
   ]
  },
  {
   "cell_type": "code",
   "execution_count": 6,
   "metadata": {},
   "outputs": [],
   "source": [
    "#dropping unnecessary column\n",
    "df.drop('Unnamed: 0', axis=1, inplace=True)"
   ]
  },
  {
   "cell_type": "code",
   "execution_count": 10,
   "metadata": {},
   "outputs": [
    {
     "name": "stdout",
     "output_type": "stream",
     "text": [
      "<class 'pandas.core.frame.DataFrame'>\n",
      "RangeIndex: 4630 entries, 0 to 4629\n",
      "Data columns (total 6 columns):\n",
      " #   Column        Non-Null Count  Dtype \n",
      "---  ------        --------------  ----- \n",
      " 0   gkgcode       4630 non-null   object\n",
      " 1   link          4630 non-null   object\n",
      " 2   title         4630 non-null   object\n",
      " 3   author        4630 non-null   object\n",
      " 4   publish_date  3654 non-null   object\n",
      " 5   text          4630 non-null   object\n",
      "dtypes: object(6)\n",
      "memory usage: 217.2+ KB\n"
     ]
    }
   ],
   "source": [
    "#checking nulls\n",
    "df.info()"
   ]
  },
  {
   "cell_type": "code",
   "execution_count": 8,
   "metadata": {},
   "outputs": [],
   "source": [
    "#read in climate change gdelt big query\n",
    "gdelt = pd.read_csv('gdelt_us_climate_change_2012_2020.csv')"
   ]
  },
  {
   "cell_type": "code",
   "execution_count": 9,
   "metadata": {},
   "outputs": [
    {
     "data": {
      "text/html": [
       "<div>\n",
       "<style scoped>\n",
       "    .dataframe tbody tr th:only-of-type {\n",
       "        vertical-align: middle;\n",
       "    }\n",
       "\n",
       "    .dataframe tbody tr th {\n",
       "        vertical-align: top;\n",
       "    }\n",
       "\n",
       "    .dataframe thead th {\n",
       "        text-align: right;\n",
       "    }\n",
       "</style>\n",
       "<table border=\"1\" class=\"dataframe\">\n",
       "  <thead>\n",
       "    <tr style=\"text-align: right;\">\n",
       "      <th></th>\n",
       "      <th>GKGRECORDID</th>\n",
       "      <th>DATE</th>\n",
       "      <th>SourceCollectionIdentifier</th>\n",
       "      <th>SourceCommonName</th>\n",
       "      <th>DocumentIdentifier</th>\n",
       "      <th>Counts</th>\n",
       "      <th>V2Counts</th>\n",
       "      <th>Themes</th>\n",
       "      <th>V2Themes</th>\n",
       "      <th>Locations</th>\n",
       "      <th>...</th>\n",
       "      <th>GCAM</th>\n",
       "      <th>SharingImage</th>\n",
       "      <th>RelatedImages</th>\n",
       "      <th>SocialImageEmbeds</th>\n",
       "      <th>SocialVideoEmbeds</th>\n",
       "      <th>Quotations</th>\n",
       "      <th>AllNames</th>\n",
       "      <th>Amounts</th>\n",
       "      <th>TranslationInfo</th>\n",
       "      <th>Extras</th>\n",
       "    </tr>\n",
       "  </thead>\n",
       "  <tbody>\n",
       "    <tr>\n",
       "      <th>0</th>\n",
       "      <td>20200919204500-562</td>\n",
       "      <td>20200919204500</td>\n",
       "      <td>1</td>\n",
       "      <td>nbcnews.com</td>\n",
       "      <td>https://www.nbcnews.com/politics/congress/demo...</td>\n",
       "      <td>NaN</td>\n",
       "      <td>NaN</td>\n",
       "      <td>LEADER;TAX_FNCACT;TAX_FNCACT_PRESIDENT;USPEC_P...</td>\n",
       "      <td>TAX_FNCACT_SENATORS,1003;TAX_FNCACT_SENATORS,1...</td>\n",
       "      <td>2#Arizona, United States#US#USAZ#33.7712#-111....</td>\n",
       "      <td>...</td>\n",
       "      <td>wc:895,c1.3:5,c12.1:76,c12.10:101,c12.12:31,c1...</td>\n",
       "      <td>https://media1.s-nbcnews.com/j/newscms/2020_38...</td>\n",
       "      <td>NaN</td>\n",
       "      <td>NaN</td>\n",
       "      <td>https://youtube.com/c/Nbclearn/playlists\\;http...</td>\n",
       "      <td>NaN</td>\n",
       "      <td>With President Donald Trump,40;Senate Republic...</td>\n",
       "      <td>47,majority,309;3,of their own members,424;</td>\n",
       "      <td>NaN</td>\n",
       "      <td>&lt;PAGE_LINKS&gt;http://blogs.kentlaw.iit.edu/iscot...</td>\n",
       "    </tr>\n",
       "    <tr>\n",
       "      <th>1</th>\n",
       "      <td>20200919203000-270</td>\n",
       "      <td>20200919203000</td>\n",
       "      <td>1</td>\n",
       "      <td>nytimes.com</td>\n",
       "      <td>https://www.nytimes.com/2020/09/19/opinion/sun...</td>\n",
       "      <td>KILL#6000000##1#China#CH#CH#35#105#CH;PROTEST#...</td>\n",
       "      <td>KILL#6000000##1#China#CH#CH#35#105#CH#937;PROT...</td>\n",
       "      <td>WB_566_ENVIRONMENT_AND_NATURAL_RESOURCES;WB_17...</td>\n",
       "      <td>TAX_FNCACT_DISPATCHERS,3007;KILL,1010;RURAL,65...</td>\n",
       "      <td>3#Douglas County, Oregon, United States#US#USO...</td>\n",
       "      <td>...</td>\n",
       "      <td>wc:810,c1.1:1,c1.3:11,c12.1:74,c12.10:78,c12.1...</td>\n",
       "      <td>https://static01.nyt.com/images/2020/09/19/opi...</td>\n",
       "      <td>NaN</td>\n",
       "      <td>NaN</td>\n",
       "      <td>https://youtube.com/watch?v=n3C93ZWCmvM;</td>\n",
       "      <td>3147|62||our 9-1-1 dispatchers and professiona...</td>\n",
       "      <td>Most Beautiful Farm,127;President Trump,1294;F...</td>\n",
       "      <td>5,miles,73;3,closely related reasons,670;60000...</td>\n",
       "      <td>NaN</td>\n",
       "      <td>&lt;PAGE_LINKS&gt;https://flashalert.net/id/MCSO/138...</td>\n",
       "    </tr>\n",
       "    <tr>\n",
       "      <th>2</th>\n",
       "      <td>20200919201500-833</td>\n",
       "      <td>20200919201500</td>\n",
       "      <td>1</td>\n",
       "      <td>nytimes.com</td>\n",
       "      <td>https://www.nytimes.com/live/2020/battleground...</td>\n",
       "      <td>KILL#1##4#La Bonita, Durango, Mexico#MX#MX10#2...</td>\n",
       "      <td>KILL#1##4#La Bonita, Durango, Mexico#MX#MX10#2...</td>\n",
       "      <td>ELECTION;LEADER;TAX_FNCACT;TAX_FNCACT_PRESIDEN...</td>\n",
       "      <td>IDEOLOGY,16241;IDEOLOGY,25377;KILL,5713;TAX_FN...</td>\n",
       "      <td>3#Ann Arbor, Michigan, United States#US#USMI#4...</td>\n",
       "      <td>...</td>\n",
       "      <td>wc:4786,c1.2:5,c1.3:5,c12.1:352,c12.10:446,c12...</td>\n",
       "      <td>https://static01.nyt.com/images/2020/09/20/us/...</td>\n",
       "      <td>https://static01.nyt.com/images/2020/09/13/us/...</td>\n",
       "      <td>NaN</td>\n",
       "      <td>NaN</td>\n",
       "      <td>1867|70||Trump is either 'the best president e...</td>\n",
       "      <td>President Trump,228;Election Day,384;New York ...</td>\n",
       "      <td>12,states,152;20,electoral votes,566;7,percent...</td>\n",
       "      <td>NaN</td>\n",
       "      <td>&lt;PAGE_LINKS&gt;https://cookpolitical.com/;https:/...</td>\n",
       "    </tr>\n",
       "    <tr>\n",
       "      <th>3</th>\n",
       "      <td>20200919193000-255</td>\n",
       "      <td>20200919193000</td>\n",
       "      <td>1</td>\n",
       "      <td>nytimes.com</td>\n",
       "      <td>https://www.nytimes.com/2020/09/19/opinion/sun...</td>\n",
       "      <td>KILL#4##2#Florida, United States#US#USFL#27.83...</td>\n",
       "      <td>KILL#4##2#Florida, United States#US#USFL#27.83...</td>\n",
       "      <td>UNGP_FORESTS_RIVERS_OCEANS;SELF_IDENTIFIED_ENV...</td>\n",
       "      <td>TAX_FNCACT_ARSONIST,6096;CRM_ARSON,6096;CRISIS...</td>\n",
       "      <td>3#Stanford University, California, United Stat...</td>\n",
       "      <td>...</td>\n",
       "      <td>wc:1029,c1.2:1,c1.3:28,c12.1:92,c12.10:112,c12...</td>\n",
       "      <td>https://static01.nyt.com/images/2020/09/19/opi...</td>\n",
       "      <td>NaN</td>\n",
       "      <td>NaN</td>\n",
       "      <td>NaN</td>\n",
       "      <td>4481|55||the No. 1 environmental president sin...</td>\n",
       "      <td>Christopher Flavelle,762;Stanford University,1...</td>\n",
       "      <td>2,unfolding climate,242;5000000,acres of fores...</td>\n",
       "      <td>NaN</td>\n",
       "      <td>&lt;PAGE_LINKS&gt;https://apnews.com/b17b5c9200a6446...</td>\n",
       "    </tr>\n",
       "    <tr>\n",
       "      <th>4</th>\n",
       "      <td>20200919174500-269</td>\n",
       "      <td>20200919174500</td>\n",
       "      <td>1</td>\n",
       "      <td>huffpost.com</td>\n",
       "      <td>https://www.huffpost.com/entry/underwater-and-...</td>\n",
       "      <td>KILL#24##3#Washington, District Of Columbia, U...</td>\n",
       "      <td>KILL#24##3#Washington, District Of Columbia, U...</td>\n",
       "      <td>UNGP_FORESTS_RIVERS_OCEANS;ENV_CLIMATECHANGE;W...</td>\n",
       "      <td>KILL,4566;TAX_FNCACT_METEOROLOGIST,1971;TAX_FN...</td>\n",
       "      <td>2#Louisiana, United States#US#USLA#31.1801#-91...</td>\n",
       "      <td>...</td>\n",
       "      <td>wc:925,c1.3:31,c12.1:43,c12.10:68,c12.12:26,c1...</td>\n",
       "      <td>https://img.huffingtonpost.com/asset/5f663d7b2...</td>\n",
       "      <td>NaN</td>\n",
       "      <td>NaN</td>\n",
       "      <td>NaN</td>\n",
       "      <td>NaN</td>\n",
       "      <td>Columbia University,703;Carolina State,889;Kat...</td>\n",
       "      <td>4,inches,883;10,centimeters,892;14,already,172...</td>\n",
       "      <td>NaN</td>\n",
       "      <td>&lt;PAGE_LINKS&gt;https://agupubs.onlinelibrary.wile...</td>\n",
       "    </tr>\n",
       "  </tbody>\n",
       "</table>\n",
       "<p>5 rows × 27 columns</p>\n",
       "</div>"
      ],
      "text/plain": [
       "          GKGRECORDID            DATE  SourceCollectionIdentifier  \\\n",
       "0  20200919204500-562  20200919204500                           1   \n",
       "1  20200919203000-270  20200919203000                           1   \n",
       "2  20200919201500-833  20200919201500                           1   \n",
       "3  20200919193000-255  20200919193000                           1   \n",
       "4  20200919174500-269  20200919174500                           1   \n",
       "\n",
       "  SourceCommonName                                 DocumentIdentifier  \\\n",
       "0      nbcnews.com  https://www.nbcnews.com/politics/congress/demo...   \n",
       "1      nytimes.com  https://www.nytimes.com/2020/09/19/opinion/sun...   \n",
       "2      nytimes.com  https://www.nytimes.com/live/2020/battleground...   \n",
       "3      nytimes.com  https://www.nytimes.com/2020/09/19/opinion/sun...   \n",
       "4     huffpost.com  https://www.huffpost.com/entry/underwater-and-...   \n",
       "\n",
       "                                              Counts  \\\n",
       "0                                                NaN   \n",
       "1  KILL#6000000##1#China#CH#CH#35#105#CH;PROTEST#...   \n",
       "2  KILL#1##4#La Bonita, Durango, Mexico#MX#MX10#2...   \n",
       "3  KILL#4##2#Florida, United States#US#USFL#27.83...   \n",
       "4  KILL#24##3#Washington, District Of Columbia, U...   \n",
       "\n",
       "                                            V2Counts  \\\n",
       "0                                                NaN   \n",
       "1  KILL#6000000##1#China#CH#CH#35#105#CH#937;PROT...   \n",
       "2  KILL#1##4#La Bonita, Durango, Mexico#MX#MX10#2...   \n",
       "3  KILL#4##2#Florida, United States#US#USFL#27.83...   \n",
       "4  KILL#24##3#Washington, District Of Columbia, U...   \n",
       "\n",
       "                                              Themes  \\\n",
       "0  LEADER;TAX_FNCACT;TAX_FNCACT_PRESIDENT;USPEC_P...   \n",
       "1  WB_566_ENVIRONMENT_AND_NATURAL_RESOURCES;WB_17...   \n",
       "2  ELECTION;LEADER;TAX_FNCACT;TAX_FNCACT_PRESIDEN...   \n",
       "3  UNGP_FORESTS_RIVERS_OCEANS;SELF_IDENTIFIED_ENV...   \n",
       "4  UNGP_FORESTS_RIVERS_OCEANS;ENV_CLIMATECHANGE;W...   \n",
       "\n",
       "                                            V2Themes  \\\n",
       "0  TAX_FNCACT_SENATORS,1003;TAX_FNCACT_SENATORS,1...   \n",
       "1  TAX_FNCACT_DISPATCHERS,3007;KILL,1010;RURAL,65...   \n",
       "2  IDEOLOGY,16241;IDEOLOGY,25377;KILL,5713;TAX_FN...   \n",
       "3  TAX_FNCACT_ARSONIST,6096;CRM_ARSON,6096;CRISIS...   \n",
       "4  KILL,4566;TAX_FNCACT_METEOROLOGIST,1971;TAX_FN...   \n",
       "\n",
       "                                           Locations  ...  \\\n",
       "0  2#Arizona, United States#US#USAZ#33.7712#-111....  ...   \n",
       "1  3#Douglas County, Oregon, United States#US#USO...  ...   \n",
       "2  3#Ann Arbor, Michigan, United States#US#USMI#4...  ...   \n",
       "3  3#Stanford University, California, United Stat...  ...   \n",
       "4  2#Louisiana, United States#US#USLA#31.1801#-91...  ...   \n",
       "\n",
       "                                                GCAM  \\\n",
       "0  wc:895,c1.3:5,c12.1:76,c12.10:101,c12.12:31,c1...   \n",
       "1  wc:810,c1.1:1,c1.3:11,c12.1:74,c12.10:78,c12.1...   \n",
       "2  wc:4786,c1.2:5,c1.3:5,c12.1:352,c12.10:446,c12...   \n",
       "3  wc:1029,c1.2:1,c1.3:28,c12.1:92,c12.10:112,c12...   \n",
       "4  wc:925,c1.3:31,c12.1:43,c12.10:68,c12.12:26,c1...   \n",
       "\n",
       "                                        SharingImage  \\\n",
       "0  https://media1.s-nbcnews.com/j/newscms/2020_38...   \n",
       "1  https://static01.nyt.com/images/2020/09/19/opi...   \n",
       "2  https://static01.nyt.com/images/2020/09/20/us/...   \n",
       "3  https://static01.nyt.com/images/2020/09/19/opi...   \n",
       "4  https://img.huffingtonpost.com/asset/5f663d7b2...   \n",
       "\n",
       "                                       RelatedImages SocialImageEmbeds  \\\n",
       "0                                                NaN               NaN   \n",
       "1                                                NaN               NaN   \n",
       "2  https://static01.nyt.com/images/2020/09/13/us/...               NaN   \n",
       "3                                                NaN               NaN   \n",
       "4                                                NaN               NaN   \n",
       "\n",
       "                                   SocialVideoEmbeds  \\\n",
       "0  https://youtube.com/c/Nbclearn/playlists\\;http...   \n",
       "1           https://youtube.com/watch?v=n3C93ZWCmvM;   \n",
       "2                                                NaN   \n",
       "3                                                NaN   \n",
       "4                                                NaN   \n",
       "\n",
       "                                          Quotations  \\\n",
       "0                                                NaN   \n",
       "1  3147|62||our 9-1-1 dispatchers and professiona...   \n",
       "2  1867|70||Trump is either 'the best president e...   \n",
       "3  4481|55||the No. 1 environmental president sin...   \n",
       "4                                                NaN   \n",
       "\n",
       "                                            AllNames  \\\n",
       "0  With President Donald Trump,40;Senate Republic...   \n",
       "1  Most Beautiful Farm,127;President Trump,1294;F...   \n",
       "2  President Trump,228;Election Day,384;New York ...   \n",
       "3  Christopher Flavelle,762;Stanford University,1...   \n",
       "4  Columbia University,703;Carolina State,889;Kat...   \n",
       "\n",
       "                                             Amounts TranslationInfo  \\\n",
       "0        47,majority,309;3,of their own members,424;             NaN   \n",
       "1  5,miles,73;3,closely related reasons,670;60000...             NaN   \n",
       "2  12,states,152;20,electoral votes,566;7,percent...             NaN   \n",
       "3  2,unfolding climate,242;5000000,acres of fores...             NaN   \n",
       "4  4,inches,883;10,centimeters,892;14,already,172...             NaN   \n",
       "\n",
       "                                              Extras  \n",
       "0  <PAGE_LINKS>http://blogs.kentlaw.iit.edu/iscot...  \n",
       "1  <PAGE_LINKS>https://flashalert.net/id/MCSO/138...  \n",
       "2  <PAGE_LINKS>https://cookpolitical.com/;https:/...  \n",
       "3  <PAGE_LINKS>https://apnews.com/b17b5c9200a6446...  \n",
       "4  <PAGE_LINKS>https://agupubs.onlinelibrary.wile...  \n",
       "\n",
       "[5 rows x 27 columns]"
      ]
     },
     "execution_count": 9,
     "metadata": {},
     "output_type": "execute_result"
    }
   ],
   "source": [
    "#reviewing data\n",
    "gdelt.head()"
   ]
  },
  {
   "cell_type": "code",
   "execution_count": 10,
   "metadata": {},
   "outputs": [
    {
     "data": {
      "text/plain": [
       "(4955, 27)"
      ]
     },
     "execution_count": 10,
     "metadata": {},
     "output_type": "execute_result"
    }
   ],
   "source": [
    "#checking shape\n",
    "gdelt.shape"
   ]
  },
  {
   "cell_type": "code",
   "execution_count": 11,
   "metadata": {},
   "outputs": [
    {
     "data": {
      "text/plain": [
       "Index(['GKGRECORDID', 'DATE', 'SourceCollectionIdentifier', 'SourceCommonName',\n",
       "       'DocumentIdentifier', 'Counts', 'V2Counts', 'Themes', 'V2Themes',\n",
       "       'Locations', 'V2Locations', 'Persons', 'V2Persons', 'Organizations',\n",
       "       'V2Organizations', 'V2Tone', 'Dates', 'GCAM', 'SharingImage',\n",
       "       'RelatedImages', 'SocialImageEmbeds', 'SocialVideoEmbeds', 'Quotations',\n",
       "       'AllNames', 'Amounts', 'TranslationInfo', 'Extras'],\n",
       "      dtype='object')"
      ]
     },
     "execution_count": 11,
     "metadata": {},
     "output_type": "execute_result"
    }
   ],
   "source": [
    "#checking columns\n",
    "gdelt.columns"
   ]
  },
  {
   "cell_type": "code",
   "execution_count": 12,
   "metadata": {},
   "outputs": [],
   "source": [
    "#slice df for record id and tone column\n",
    "gdelt_lookup = gdelt[['GKGRECORDID', 'V2Tone']]"
   ]
  },
  {
   "cell_type": "code",
   "execution_count": 13,
   "metadata": {},
   "outputs": [
    {
     "data": {
      "text/html": [
       "<div>\n",
       "<style scoped>\n",
       "    .dataframe tbody tr th:only-of-type {\n",
       "        vertical-align: middle;\n",
       "    }\n",
       "\n",
       "    .dataframe tbody tr th {\n",
       "        vertical-align: top;\n",
       "    }\n",
       "\n",
       "    .dataframe thead th {\n",
       "        text-align: right;\n",
       "    }\n",
       "</style>\n",
       "<table border=\"1\" class=\"dataframe\">\n",
       "  <thead>\n",
       "    <tr style=\"text-align: right;\">\n",
       "      <th></th>\n",
       "      <th>GKGRECORDID</th>\n",
       "      <th>V2Tone</th>\n",
       "    </tr>\n",
       "  </thead>\n",
       "  <tbody>\n",
       "    <tr>\n",
       "      <th>0</th>\n",
       "      <td>20200919204500-562</td>\n",
       "      <td>-0.40983606557377,3.89344262295082,4.303278688...</td>\n",
       "    </tr>\n",
       "    <tr>\n",
       "      <th>1</th>\n",
       "      <td>20200919203000-270</td>\n",
       "      <td>-8.59106529209622,1.71821305841924,10.30927835...</td>\n",
       "    </tr>\n",
       "    <tr>\n",
       "      <th>2</th>\n",
       "      <td>20200919201500-833</td>\n",
       "      <td>-1.15490375802016,2.07149404216315,3.226397800...</td>\n",
       "    </tr>\n",
       "    <tr>\n",
       "      <th>3</th>\n",
       "      <td>20200919193000-255</td>\n",
       "      <td>-4.46030330062444,2.85459411239964,7.314897413...</td>\n",
       "    </tr>\n",
       "    <tr>\n",
       "      <th>4</th>\n",
       "      <td>20200919174500-269</td>\n",
       "      <td>-4.48045757864633,0.667302192564347,5.14775977...</td>\n",
       "    </tr>\n",
       "  </tbody>\n",
       "</table>\n",
       "</div>"
      ],
      "text/plain": [
       "          GKGRECORDID                                             V2Tone\n",
       "0  20200919204500-562  -0.40983606557377,3.89344262295082,4.303278688...\n",
       "1  20200919203000-270  -8.59106529209622,1.71821305841924,10.30927835...\n",
       "2  20200919201500-833  -1.15490375802016,2.07149404216315,3.226397800...\n",
       "3  20200919193000-255  -4.46030330062444,2.85459411239964,7.314897413...\n",
       "4  20200919174500-269  -4.48045757864633,0.667302192564347,5.14775977..."
      ]
     },
     "execution_count": 13,
     "metadata": {},
     "output_type": "execute_result"
    }
   ],
   "source": [
    "#checking data\n",
    "gdelt_lookup.head()"
   ]
  },
  {
   "cell_type": "code",
   "execution_count": 14,
   "metadata": {},
   "outputs": [],
   "source": [
    "#joining gdelt slice with df on gkgcode\n",
    "df_combined = df.merge(gdelt_lookup, how='left', left_on='gkgcode', right_on='GKGRECORDID')"
   ]
  },
  {
   "cell_type": "code",
   "execution_count": 15,
   "metadata": {},
   "outputs": [
    {
     "data": {
      "text/plain": [
       "(4630, 6)"
      ]
     },
     "execution_count": 15,
     "metadata": {},
     "output_type": "execute_result"
    }
   ],
   "source": [
    "#checking shape\n",
    "df.shape"
   ]
  },
  {
   "cell_type": "code",
   "execution_count": 17,
   "metadata": {},
   "outputs": [],
   "source": [
    "#pulling out tone score\n",
    "df_combined['Tone'] = df_combined['V2Tone'].str.split(',').apply(lambda x: float(x[0]))"
   ]
  },
  {
   "cell_type": "code",
   "execution_count": 19,
   "metadata": {},
   "outputs": [],
   "source": [
    "#pulling out polarity score\n",
    "df_combined['polarity'] = df_combined['V2Tone'].str.split(',').apply(lambda x: float(x[3]))"
   ]
  },
  {
   "cell_type": "code",
   "execution_count": 21,
   "metadata": {},
   "outputs": [
    {
     "data": {
      "text/html": [
       "<div>\n",
       "<style scoped>\n",
       "    .dataframe tbody tr th:only-of-type {\n",
       "        vertical-align: middle;\n",
       "    }\n",
       "\n",
       "    .dataframe tbody tr th {\n",
       "        vertical-align: top;\n",
       "    }\n",
       "\n",
       "    .dataframe thead th {\n",
       "        text-align: right;\n",
       "    }\n",
       "</style>\n",
       "<table border=\"1\" class=\"dataframe\">\n",
       "  <thead>\n",
       "    <tr style=\"text-align: right;\">\n",
       "      <th></th>\n",
       "      <th>gkgcode</th>\n",
       "      <th>link</th>\n",
       "      <th>title</th>\n",
       "      <th>author</th>\n",
       "      <th>publish_date</th>\n",
       "      <th>text</th>\n",
       "      <th>GKGRECORDID</th>\n",
       "      <th>V2Tone</th>\n",
       "      <th>Tone</th>\n",
       "      <th>polarity</th>\n",
       "    </tr>\n",
       "  </thead>\n",
       "  <tbody>\n",
       "    <tr>\n",
       "      <th>0</th>\n",
       "      <td>20200916031500-532</td>\n",
       "      <td>https://www.nbcnews.com/news/us-news/knocking-...</td>\n",
       "      <td>'Heroes don't wear capes': Firefighters save h...</td>\n",
       "      <td>['Tim Stelloh', 'Tim Stelloh Is A Reporter For...</td>\n",
       "      <td>2020-09-17 13:42:00+00:00</td>\n",
       "      <td>Get breaking news alerts and special reports. ...</td>\n",
       "      <td>20200916031500-532</td>\n",
       "      <td>-3.92156862745098,0.980392156862745,4.90196078...</td>\n",
       "      <td>-3.921569</td>\n",
       "      <td>5.882353</td>\n",
       "    </tr>\n",
       "    <tr>\n",
       "      <th>1</th>\n",
       "      <td>20200916023000-2</td>\n",
       "      <td>https://www.msnbc.com:443/the-reidout/watch/cl...</td>\n",
       "      <td>Climate change impossible to ignore with wildf...</td>\n",
       "      <td>['Sept.']</td>\n",
       "      <td>NaN</td>\n",
       "      <td>This week, more than ever, the effects of clim...</td>\n",
       "      <td>20200916023000-2</td>\n",
       "      <td>-4.04040404040404,1.01010101010101,5.050505050...</td>\n",
       "      <td>-4.040404</td>\n",
       "      <td>6.060606</td>\n",
       "    </tr>\n",
       "    <tr>\n",
       "      <th>2</th>\n",
       "      <td>20200916013000-884</td>\n",
       "      <td>https://www.usatoday.com/story/news/nation/202...</td>\n",
       "      <td>In California: Harris and Newsom visit Creek F...</td>\n",
       "      <td>[]</td>\n",
       "      <td>2020-09-15 00:00:00</td>\n",
       "      <td>Also: Farmworkers say they can't get masks. Th...</td>\n",
       "      <td>20200916013000-884</td>\n",
       "      <td>-4.26008968609866,1.34529147982063,5.605381165...</td>\n",
       "      <td>-4.260090</td>\n",
       "      <td>6.950673</td>\n",
       "    </tr>\n",
       "    <tr>\n",
       "      <th>3</th>\n",
       "      <td>20200916013000-183</td>\n",
       "      <td>https://www.cnn.com/2020/09/15/politics/kamala...</td>\n",
       "      <td>Kamala Harris makes trip to California as wild...</td>\n",
       "      <td>['Kate Sullivan']</td>\n",
       "      <td>2020-09-15 00:00:00</td>\n",
       "      <td>Washington (CNN) Sen. Kamala Harris on Tuesday...</td>\n",
       "      <td>20200916013000-183</td>\n",
       "      <td>-5.61122244488978,1.40280561122244,7.014028056...</td>\n",
       "      <td>-5.611222</td>\n",
       "      <td>8.416834</td>\n",
       "    </tr>\n",
       "    <tr>\n",
       "      <th>4</th>\n",
       "      <td>20200916011500-1171</td>\n",
       "      <td>https://www.msnbc.com/the-reidout/watch/climat...</td>\n",
       "      <td>Climate change impossible to ignore with wildf...</td>\n",
       "      <td>['Sept.']</td>\n",
       "      <td>NaN</td>\n",
       "      <td>This week, more than ever, the effects of clim...</td>\n",
       "      <td>20200916011500-1171</td>\n",
       "      <td>-4.04040404040404,1.01010101010101,5.050505050...</td>\n",
       "      <td>-4.040404</td>\n",
       "      <td>6.060606</td>\n",
       "    </tr>\n",
       "  </tbody>\n",
       "</table>\n",
       "</div>"
      ],
      "text/plain": [
       "               gkgcode                                               link  \\\n",
       "0   20200916031500-532  https://www.nbcnews.com/news/us-news/knocking-...   \n",
       "1     20200916023000-2  https://www.msnbc.com:443/the-reidout/watch/cl...   \n",
       "2   20200916013000-884  https://www.usatoday.com/story/news/nation/202...   \n",
       "3   20200916013000-183  https://www.cnn.com/2020/09/15/politics/kamala...   \n",
       "4  20200916011500-1171  https://www.msnbc.com/the-reidout/watch/climat...   \n",
       "\n",
       "                                               title  \\\n",
       "0  'Heroes don't wear capes': Firefighters save h...   \n",
       "1  Climate change impossible to ignore with wildf...   \n",
       "2  In California: Harris and Newsom visit Creek F...   \n",
       "3  Kamala Harris makes trip to California as wild...   \n",
       "4  Climate change impossible to ignore with wildf...   \n",
       "\n",
       "                                              author  \\\n",
       "0  ['Tim Stelloh', 'Tim Stelloh Is A Reporter For...   \n",
       "1                                          ['Sept.']   \n",
       "2                                                 []   \n",
       "3                                  ['Kate Sullivan']   \n",
       "4                                          ['Sept.']   \n",
       "\n",
       "                publish_date  \\\n",
       "0  2020-09-17 13:42:00+00:00   \n",
       "1                        NaN   \n",
       "2        2020-09-15 00:00:00   \n",
       "3        2020-09-15 00:00:00   \n",
       "4                        NaN   \n",
       "\n",
       "                                                text          GKGRECORDID  \\\n",
       "0  Get breaking news alerts and special reports. ...   20200916031500-532   \n",
       "1  This week, more than ever, the effects of clim...     20200916023000-2   \n",
       "2  Also: Farmworkers say they can't get masks. Th...   20200916013000-884   \n",
       "3  Washington (CNN) Sen. Kamala Harris on Tuesday...   20200916013000-183   \n",
       "4  This week, more than ever, the effects of clim...  20200916011500-1171   \n",
       "\n",
       "                                              V2Tone      Tone  polarity  \n",
       "0  -3.92156862745098,0.980392156862745,4.90196078... -3.921569  5.882353  \n",
       "1  -4.04040404040404,1.01010101010101,5.050505050... -4.040404  6.060606  \n",
       "2  -4.26008968609866,1.34529147982063,5.605381165... -4.260090  6.950673  \n",
       "3  -5.61122244488978,1.40280561122244,7.014028056... -5.611222  8.416834  \n",
       "4  -4.04040404040404,1.01010101010101,5.050505050... -4.040404  6.060606  "
      ]
     },
     "execution_count": 21,
     "metadata": {},
     "output_type": "execute_result"
    }
   ],
   "source": [
    "#checking data\n",
    "df_combined.head()"
   ]
  },
  {
   "cell_type": "code",
   "execution_count": 22,
   "metadata": {},
   "outputs": [],
   "source": [
    "#setting up x,y df\n",
    "x_y = df_combined[['text', 'Tone', 'polarity']]"
   ]
  },
  {
   "cell_type": "code",
   "execution_count": 23,
   "metadata": {},
   "outputs": [],
   "source": [
    "#helper function to binarize data\n",
    "def tone_to_cat(x):\n",
    "    if x > 0:\n",
    "        return 'pos'\n",
    "    elif x < 0:\n",
    "        return 'neg'\n",
    "    else:\n",
    "        return 'neutral'"
   ]
  },
  {
   "cell_type": "code",
   "execution_count": 24,
   "metadata": {},
   "outputs": [
    {
     "name": "stderr",
     "output_type": "stream",
     "text": [
      "/usr/local/lib/python3.7/site-packages/ipykernel_launcher.py:2: SettingWithCopyWarning: \n",
      "A value is trying to be set on a copy of a slice from a DataFrame.\n",
      "Try using .loc[row_indexer,col_indexer] = value instead\n",
      "\n",
      "See the caveats in the documentation: https://pandas.pydata.org/pandas-docs/stable/user_guide/indexing.html#returning-a-view-versus-a-copy\n",
      "  \n"
     ]
    }
   ],
   "source": [
    "#creating categories from tone score\n",
    "x_y['class_tone'] = x_y['Tone'].apply(lambda x: tone_to_cat(x) )"
   ]
  },
  {
   "cell_type": "code",
   "execution_count": 25,
   "metadata": {},
   "outputs": [
    {
     "data": {
      "text/plain": [
       "neg        3576\n",
       "pos         974\n",
       "neutral      80\n",
       "Name: class_tone, dtype: int64"
      ]
     },
     "execution_count": 25,
     "metadata": {},
     "output_type": "execute_result"
    }
   ],
   "source": [
    "#checking distribution of counts\n",
    "x_y['class_tone'].value_counts()"
   ]
  },
  {
   "cell_type": "code",
   "execution_count": 26,
   "metadata": {},
   "outputs": [
    {
     "data": {
      "text/plain": [
       "<matplotlib.axes._subplots.AxesSubplot at 0x7f025ba4a2d0>"
      ]
     },
     "execution_count": 26,
     "metadata": {},
     "output_type": "execute_result"
    },
    {
     "data": {
      "image/png": "[encoded data removed]",
      "text/plain": [
       "<Figure size 432x288 with 1 Axes>"
      ]
     },
     "metadata": {
      "needs_background": "light"
     },
     "output_type": "display_data"
    }
   ],
   "source": [
    "#checking distribution of tone scores\n",
    "\n",
    "x_y['Tone'].apply(lambda x: round(x, 1)).plot(kind='hist')"
   ]
  },
  {
   "cell_type": "code",
   "execution_count": 27,
   "metadata": {},
   "outputs": [
    {
     "data": {
      "text/plain": [
       "-1.9919740121022211"
      ]
     },
     "execution_count": 27,
     "metadata": {},
     "output_type": "execute_result"
    }
   ],
   "source": [
    "#checking mean of tone\n",
    "x_y['Tone'].mean()"
   ]
  },
  {
   "cell_type": "code",
   "execution_count": 28,
   "metadata": {},
   "outputs": [
    {
     "name": "stderr",
     "output_type": "stream",
     "text": [
      "/usr/local/lib/python3.7/site-packages/ipykernel_launcher.py:2: SettingWithCopyWarning: \n",
      "A value is trying to be set on a copy of a slice from a DataFrame.\n",
      "Try using .loc[row_indexer,col_indexer] = value instead\n",
      "\n",
      "See the caveats in the documentation: https://pandas.pydata.org/pandas-docs/stable/user_guide/indexing.html#returning-a-view-versus-a-copy\n",
      "  \n"
     ]
    }
   ],
   "source": [
    "#setting new binary category where dividing line is -2\n",
    "x_y['binary_tone'] = np.where(x_y['Tone'] >= -2, 'pos', 'neg')"
   ]
  },
  {
   "cell_type": "code",
   "execution_count": 32,
   "metadata": {},
   "outputs": [
    {
     "data": {
      "text/plain": [
       "pos    2466\n",
       "neg    2164\n",
       "Name: binary_tone, dtype: int64"
      ]
     },
     "execution_count": 32,
     "metadata": {},
     "output_type": "execute_result"
    }
   ],
   "source": [
    "#checking target balance\n",
    "x_y['binary_tone'].value_counts()"
   ]
  },
  {
   "cell_type": "code",
   "execution_count": 33,
   "metadata": {},
   "outputs": [
    {
     "data": {
      "image/png": "[encoded data removed]",
      "text/plain": [
       "<Figure size 432x288 with 1 Axes>"
      ]
     },
     "metadata": {
      "needs_background": "light"
     },
     "output_type": "display_data"
    }
   ],
   "source": [
    "#plotting target balance\n",
    "plt.figure()\n",
    "plt.bar(x=x_y['binary_tone'].value_counts().index, height=x_y['binary_tone'].value_counts())\n",
    "plt.show()"
   ]
  },
  {
   "cell_type": "code",
   "execution_count": 29,
   "metadata": {},
   "outputs": [
    {
     "data": {
      "text/plain": [
       "<matplotlib.axes._subplots.AxesSubplot at 0x7f025bc63a90>"
      ]
     },
     "execution_count": 29,
     "metadata": {},
     "output_type": "execute_result"
    },
    {
     "data": {
      "image/png": "[encoded data removed]",
      "text/plain": [
       "<Figure size 432x288 with 1 Axes>"
      ]
     },
     "metadata": {
      "needs_background": "light"
     },
     "output_type": "display_data"
    }
   ],
   "source": [
    "#checking distribution of polarity\n",
    "x_y['polarity'].apply(lambda x: round(x, 2)).plot(kind='hist')"
   ]
  },
  {
   "cell_type": "code",
   "execution_count": 30,
   "metadata": {},
   "outputs": [
    {
     "data": {
      "text/plain": [
       "6.736227922152966"
      ]
     },
     "execution_count": 30,
     "metadata": {},
     "output_type": "execute_result"
    }
   ],
   "source": [
    "#checking polarity mean\n",
    "x_y['polarity'].mean()"
   ]
  },
  {
   "cell_type": "code",
   "execution_count": 31,
   "metadata": {},
   "outputs": [
    {
     "name": "stderr",
     "output_type": "stream",
     "text": [
      "/usr/local/lib/python3.7/site-packages/ipykernel_launcher.py:2: SettingWithCopyWarning: \n",
      "A value is trying to be set on a copy of a slice from a DataFrame.\n",
      "Try using .loc[row_indexer,col_indexer] = value instead\n",
      "\n",
      "See the caveats in the documentation: https://pandas.pydata.org/pandas-docs/stable/user_guide/indexing.html#returning-a-view-versus-a-copy\n",
      "  \n"
     ]
    }
   ],
   "source": [
    "#binarize polarity\n",
    "x_y['binary_polarity'] = np.where(x_y['polarity'] >= 6.5, 'pos', 'neg')"
   ]
  },
  {
   "cell_type": "code",
   "execution_count": 32,
   "metadata": {},
   "outputs": [
    {
     "data": {
      "text/plain": [
       "pos    2444\n",
       "neg    2186\n",
       "Name: binary_polarity, dtype: int64"
      ]
     },
     "execution_count": 32,
     "metadata": {},
     "output_type": "execute_result"
    }
   ],
   "source": [
    "#checking class distribution\n",
    "x_y['binary_polarity'].value_counts()"
   ]
  },
  {
   "cell_type": "code",
   "execution_count": 39,
   "metadata": {},
   "outputs": [],
   "source": [
    "x_y.to_csv('text_tone_polarity.csv')"
   ]
  },
  {
   "cell_type": "markdown",
   "metadata": {},
   "source": [
    "#### Getting Spacy running"
   ]
  },
  {
   "cell_type": "code",
   "execution_count": 37,
   "metadata": {},
   "outputs": [
    {
     "name": "stdout",
     "output_type": "stream",
     "text": [
      "\u001b[38;5;3m⚠ Skipping model package dependencies and setting `--no-deps`. You\n",
      "don't seem to have the spaCy package itself installed (maybe because you've\n",
      "built from source?), so installing the model dependencies would cause spaCy to\n",
      "be downloaded, which probably isn't what you want. If the model package has\n",
      "other dependencies, you'll have to install them manually.\u001b[0m\n",
      "Requirement already satisfied: en_core_web_sm==2.2.5 from https://github.com/explosion/spacy-models/releases/download/en_core_web_sm-2.2.5/en_core_web_sm-2.2.5.tar.gz#egg=en_core_web_sm==2.2.5 in /usr/local/lib/python3.7/site-packages (2.2.5)\n",
      "\u001b[33mWARNING: You are using pip version 20.1; however, version 20.2.3 is available.\n",
      "You should consider upgrading via the '/usr/local/bin/python -m pip install --upgrade pip' command.\u001b[0m\n",
      "\u001b[38;5;2m✔ Download and installation successful\u001b[0m\n",
      "You can now load the model via spacy.load('en_core_web_sm')\n"
     ]
    }
   ],
   "source": [
    "#importing spacy and installing language model\n",
    "import spacy\n",
    "!python -m spacy download en_core_web_sm"
   ]
  },
  {
   "cell_type": "code",
   "execution_count": 52,
   "metadata": {},
   "outputs": [],
   "source": [
    "#defining tokenizer for bagofwords\n",
    "#this tokenizer appears in almost all of my model notebooks, where I defined it\n",
    "nlp = spacy.load(\"en_core_web_sm\")\n",
    "def tokenizer(text):\n",
    "    token_list = []\n",
    "    doc = nlp(text)\n",
    "    for token in doc:\n",
    "        if token.is_stop == False and token.is_punct==False:\n",
    "            if token.text != ' ':\n",
    "                token_list.append((token.lemma_).lower())\n",
    "    return token_list"
   ]
  },
  {
   "cell_type": "code",
   "execution_count": 65,
   "metadata": {},
   "outputs": [
    {
     "name": "stderr",
     "output_type": "stream",
     "text": [
      "<ipython-input-65-e3746586a780>:1: SettingWithCopyWarning: \n",
      "A value is trying to be set on a copy of a slice from a DataFrame.\n",
      "Try using .loc[row_indexer,col_indexer] = value instead\n",
      "\n",
      "See the caveats in the documentation: https://pandas.pydata.org/pandas-docs/stable/user_guide/indexing.html#returning-a-view-versus-a-copy\n",
      "  x_y['binary_polarity_num'] = x_y['binary_polarity'].apply(lambda x: np.where(x=='pos', 1, 0))\n"
     ]
    }
   ],
   "source": [
    "#numerical binarizing polarity score\n",
    "x_y['binary_polarity_num'] = x_y['binary_polarity'].apply(lambda x: np.where(x=='pos', 1, 0))"
   ]
  },
  {
   "cell_type": "code",
   "execution_count": 66,
   "metadata": {},
   "outputs": [
    {
     "data": {
      "text/html": [
       "<div>\n",
       "<style scoped>\n",
       "    .dataframe tbody tr th:only-of-type {\n",
       "        vertical-align: middle;\n",
       "    }\n",
       "\n",
       "    .dataframe tbody tr th {\n",
       "        vertical-align: top;\n",
       "    }\n",
       "\n",
       "    .dataframe thead th {\n",
       "        text-align: right;\n",
       "    }\n",
       "</style>\n",
       "<table border=\"1\" class=\"dataframe\">\n",
       "  <thead>\n",
       "    <tr style=\"text-align: right;\">\n",
       "      <th></th>\n",
       "      <th>text</th>\n",
       "      <th>Tone</th>\n",
       "      <th>polarity</th>\n",
       "      <th>class_tone</th>\n",
       "      <th>binary_tone</th>\n",
       "      <th>binary_polarity</th>\n",
       "      <th>binary_polarity_num</th>\n",
       "    </tr>\n",
       "  </thead>\n",
       "  <tbody>\n",
       "    <tr>\n",
       "      <th>0</th>\n",
       "      <td>Get breaking news alerts and special reports. ...</td>\n",
       "      <td>-3.921569</td>\n",
       "      <td>5.882353</td>\n",
       "      <td>neg</td>\n",
       "      <td>neg</td>\n",
       "      <td>neg</td>\n",
       "      <td>0</td>\n",
       "    </tr>\n",
       "    <tr>\n",
       "      <th>1</th>\n",
       "      <td>This week, more than ever, the effects of clim...</td>\n",
       "      <td>-4.040404</td>\n",
       "      <td>6.060606</td>\n",
       "      <td>neg</td>\n",
       "      <td>neg</td>\n",
       "      <td>neg</td>\n",
       "      <td>0</td>\n",
       "    </tr>\n",
       "    <tr>\n",
       "      <th>2</th>\n",
       "      <td>Also: Farmworkers say they can't get masks. Th...</td>\n",
       "      <td>-4.260090</td>\n",
       "      <td>6.950673</td>\n",
       "      <td>neg</td>\n",
       "      <td>neg</td>\n",
       "      <td>pos</td>\n",
       "      <td>1</td>\n",
       "    </tr>\n",
       "    <tr>\n",
       "      <th>3</th>\n",
       "      <td>Washington (CNN) Sen. Kamala Harris on Tuesday...</td>\n",
       "      <td>-5.611222</td>\n",
       "      <td>8.416834</td>\n",
       "      <td>neg</td>\n",
       "      <td>neg</td>\n",
       "      <td>pos</td>\n",
       "      <td>1</td>\n",
       "    </tr>\n",
       "    <tr>\n",
       "      <th>4</th>\n",
       "      <td>This week, more than ever, the effects of clim...</td>\n",
       "      <td>-4.040404</td>\n",
       "      <td>6.060606</td>\n",
       "      <td>neg</td>\n",
       "      <td>neg</td>\n",
       "      <td>neg</td>\n",
       "      <td>0</td>\n",
       "    </tr>\n",
       "  </tbody>\n",
       "</table>\n",
       "</div>"
      ],
      "text/plain": [
       "                                                text      Tone  polarity  \\\n",
       "0  Get breaking news alerts and special reports. ... -3.921569  5.882353   \n",
       "1  This week, more than ever, the effects of clim... -4.040404  6.060606   \n",
       "2  Also: Farmworkers say they can't get masks. Th... -4.260090  6.950673   \n",
       "3  Washington (CNN) Sen. Kamala Harris on Tuesday... -5.611222  8.416834   \n",
       "4  This week, more than ever, the effects of clim... -4.040404  6.060606   \n",
       "\n",
       "  class_tone binary_tone binary_polarity  binary_polarity_num  \n",
       "0        neg         neg             neg                    0  \n",
       "1        neg         neg             neg                    0  \n",
       "2        neg         neg             pos                    1  \n",
       "3        neg         neg             pos                    1  \n",
       "4        neg         neg             neg                    0  "
      ]
     },
     "execution_count": 66,
     "metadata": {},
     "output_type": "execute_result"
    }
   ],
   "source": [
    "#reviewing data\n",
    "x_y.head()"
   ]
  },
  {
   "cell_type": "markdown",
   "metadata": {},
   "source": [
    "# Logistic Regression with Bag of Words, Polarity Target\n",
    "\n",
    "- Applies CountVectorizer\n",
    "- GDELT Polarity scores as target\n",
    "- Test acc: 81.8 percent\n",
    "- Train accuracy: 84.8 percent"
   ]
  },
  {
   "cell_type": "code",
   "execution_count": 67,
   "metadata": {},
   "outputs": [],
   "source": [
    "#test train split\n",
    "X_train, X_test, y_train,y_test = train_test_split(x_y['text'], x_y['binary_polarity_num'], test_size=.3)"
   ]
  },
  {
   "cell_type": "code",
   "execution_count": 57,
   "metadata": {},
   "outputs": [],
   "source": [
    "#instantiating model\n",
    "bagofwords = CountVectorizer(min_df=5, tokenizer=tokenizer)\n",
    "\n",
    "#fit model\n",
    "bagogwords.fit(X_train)"
   ]
  },
  {
   "cell_type": "code",
   "execution_count": 68,
   "metadata": {},
   "outputs": [],
   "source": [
    "#transform X train and test\n",
    "X_train_transformed = bagofwords.transform(X_train)\n",
    "X_test_transformed = bagofwords.transform(X_test)"
   ]
  },
  {
   "cell_type": "code",
   "execution_count": 132,
   "metadata": {},
   "outputs": [],
   "source": [
    "#instantiate model\n",
    "model = LogisticRegression(C=.01, solver='saga')\n"
   ]
  },
  {
   "cell_type": "code",
   "execution_count": 133,
   "metadata": {},
   "outputs": [
    {
     "name": "stderr",
     "output_type": "stream",
     "text": [
      "/Users/aschharwood/opt/anaconda3/lib/python3.8/site-packages/sklearn/linear_model/_sag.py:329: ConvergenceWarning: The max_iter was reached which means the coef_ did not converge\n",
      "  warnings.warn(\"The max_iter was reached which means \"\n"
     ]
    },
    {
     "data": {
      "text/plain": [
       "LogisticRegression(C=0.01, solver='saga')"
      ]
     },
     "execution_count": 133,
     "metadata": {},
     "output_type": "execute_result"
    }
   ],
   "source": [
    "#fit model\n",
    "model.fit(X_train_transformed, y_train)"
   ]
  },
  {
   "cell_type": "code",
   "execution_count": 134,
   "metadata": {},
   "outputs": [
    {
     "data": {
      "text/plain": [
       "0.8178545716342692"
      ]
     },
     "execution_count": 134,
     "metadata": {},
     "output_type": "execute_result"
    }
   ],
   "source": [
    "#score test\n",
    "model.score(X_test_transformed, y_test)"
   ]
  },
  {
   "cell_type": "code",
   "execution_count": 135,
   "metadata": {},
   "outputs": [
    {
     "data": {
      "text/plain": [
       "0.8475779080530701"
      ]
     },
     "execution_count": 135,
     "metadata": {},
     "output_type": "execute_result"
    }
   ],
   "source": [
    "#score train\n",
    "model.score(X_train_transformed, y_train)"
   ]
  },
  {
   "cell_type": "code",
   "execution_count": 147,
   "metadata": {},
   "outputs": [
    {
     "data": {
      "image/png": "[encoded data removed]",
      "text/plain": [
       "<Figure size 2700x360 with 1 Axes>"
      ]
     },
     "metadata": {
      "needs_background": "light"
     },
     "output_type": "display_data"
    }
   ],
   "source": [
    "#plot most common words\n",
    "#borrowed this plotting function from lecture notebook\n",
    "\n",
    "#get word counts\n",
    "word_counts = X_train_transformed.toarray().sum(axis=0)\n",
    "\n",
    "#get feature names\n",
    "words = bagofwords.get_feature_names()\n",
    "\n",
    "#defines function to plot most frequent words\n",
    "def plot_most_frequent(words, word_counts, top=50):\n",
    "   #creates dataframe from word count and tokens\n",
    "    words_df = pd.DataFrame({\"token\": words, \n",
    "                             \"count\": word_counts})\n",
    "    \n",
    "    #defines a suplot figure size that is proportional to the number of top words defined\n",
    "    fig, ax = plt.subplots(figsize=(0.75*top, 5))\n",
    "    \n",
    "    #sorts values by word count, returns `top` num of words, and plots bar chart\n",
    "    words_df.sort_values(by=\"count\", ascending=False).head(top)\\\n",
    "        .set_index(\"token\")\\\n",
    "        .plot(kind=\"bar\", rot=45, ax=ax)\n",
    "    #removes spine\n",
    "    sns.despine()\n",
    "    plt.title(\"Most frequent tokens\")\n",
    "    plt.show()\n",
    "    \n",
    "plot_most_frequent(words, word_counts)"
   ]
  },
  {
   "cell_type": "code",
   "execution_count": 148,
   "metadata": {},
   "outputs": [],
   "source": [
    "#saving X_train_transformed and X_test_transformed\n",
    "# import scipy.sparse\n",
    "# scipy.sparse.save_npz('X_train_transformed_sparse_matrix.npz', X_train_transformed)"
   ]
  },
  {
   "cell_type": "code",
   "execution_count": 149,
   "metadata": {},
   "outputs": [],
   "source": [
    "# scipy.sparse.save_npz('X_train_transformed_sparse_matrix.npz', X_test_transformed)"
   ]
  },
  {
   "cell_type": "markdown",
   "metadata": {},
   "source": [
    "# Building speaker quotes tokenizer and modeling function"
   ]
  },
  {
   "cell_type": "code",
   "execution_count": 150,
   "metadata": {},
   "outputs": [],
   "source": [
    "#defines a tokenizer that extracts only speaker quotes from text articles to be used in CountVectorizer\n",
    "\n",
    "def tokenizer_quote(doc):\n",
    "    #passes text to spacy doc object\n",
    "    doc = nlp(doc)\n",
    "    quote_list = []\n",
    "    \n",
    "    #defines regular expression that looks for text that only appears between quotation marks\n",
    "    expression = r'\\\"(.*?)\\\"'\n",
    "    #uses regular expression to looked for quoted speakers in doc object\n",
    "    for match in re.finditer(expression, doc.text):\n",
    "        #when it finds a match, it returns the the indexes for the beginning and the end of the string and passes \n",
    "        #span is a spacy object, which is basicaly a slice of its doc object\n",
    "        start, end = match.span()\n",
    "        \n",
    "        #creates a span object based on indexes\n",
    "        span = doc.char_span(start, end)\n",
    "        # This is a Span object or None if match doesn't map to valid token sequence\n",
    "        if span is not None:\n",
    "            #append quote span to list\n",
    "            quote_list.append(span)\n",
    "        #extracts all the words from each span and creates one  list of tokens\n",
    "    flat_words = [item for sublist in quote_list for item in sublist]\n",
    "\n",
    "    \n",
    "    token_list = []\n",
    "    #converts flat_words list to string and passes to doc object\n",
    "    doc = nlp(str(flat_words))\n",
    "    #loops through tokens in doc, removes stop words, punctuation, and whitespaces, lemmatizes words, lower_cases and returns clean tokens\n",
    "    for token in doc:\n",
    "        if token.is_stop == False and token.is_punct==False:\n",
    "            if token.text != ' ':\n",
    "                token_list.append((token.lemma_).lower())\n",
    "    return token_list"
   ]
  },
  {
   "cell_type": "code",
   "execution_count": 164,
   "metadata": {},
   "outputs": [],
   "source": [
    "#defines a modeling function, which I ultimately abandoned becaused I wanted easier access to the various objects it creates\n",
    "def modeling_function(X, y, tokenizer):\n",
    "    #train_test_split\n",
    "    X_train, X_test, y_train,y_test = train_test_split(X, y, test_size=.3)\n",
    "    print(f'Split done - X_train shape: {X_train.shape}, X_test shape: {X_test.shape}, y_train shape: {y_train.shape}, y_test shape: {y_test.shape}')\n",
    "    \n",
    "    #create vectorizer\n",
    "    bagofwords = CountVectorizer(min_df=5, tokenizer=tokenizer)\n",
    "    print('vectorizer done')\n",
    "    \n",
    "    #fit vectorizer\n",
    "    print('beginng vectorizer fitting')\n",
    "    bagofwords.fit(X_train)\n",
    "    print('vectorizer fitting complete')\n",
    "    \n",
    "    \n",
    "    #transform X_train\n",
    "    print('beginning transformation')\n",
    "    X_train_transformed = bagofwords.transform(X_train)\n",
    "    print('X_train transformed')\n",
    "    \n",
    "    #transform X_test\n",
    "    X_test_transformed = bagofwords.transform(X_test)\n",
    "    print('X_test_transformed')\n",
    "    \n",
    "    #create model\n",
    "    print('creating model')\n",
    "    model = LogisticRegression(C=1, solver='liblinear')\n",
    "    print('model completed')\n",
    "    \n",
    "    \n",
    "    #fit model\n",
    "    print('fitting model')\n",
    "    model.fit(X_train_transformed, y_train)\n",
    "    print('model fitted')\n",
    "    \n",
    "    #score training set \n",
    "    print('scoring training data')\n",
    "    train_score = model.score(X_train_transformed, y_train)\n",
    "    \n",
    "    #score test set\n",
    "    print('scoring test data')\n",
    "    test_score = model.score(X_test_transformed, y_test)\n",
    "    \n",
    "    print(f'Training score: {train_score}')\n",
    "    print(f'Test score: {test_score}')\n",
    "    return (bagofwords, model, X_train_transformed, X_test_transformed, y_train, y_test)\n",
    "    \n",
    "    \n",
    "    "
   ]
  },
  {
   "cell_type": "code",
   "execution_count": 152,
   "metadata": {},
   "outputs": [
    {
     "data": {
      "text/html": [
       "<div>\n",
       "<style scoped>\n",
       "    .dataframe tbody tr th:only-of-type {\n",
       "        vertical-align: middle;\n",
       "    }\n",
       "\n",
       "    .dataframe tbody tr th {\n",
       "        vertical-align: top;\n",
       "    }\n",
       "\n",
       "    .dataframe thead th {\n",
       "        text-align: right;\n",
       "    }\n",
       "</style>\n",
       "<table border=\"1\" class=\"dataframe\">\n",
       "  <thead>\n",
       "    <tr style=\"text-align: right;\">\n",
       "      <th></th>\n",
       "      <th>text</th>\n",
       "      <th>Tone</th>\n",
       "      <th>polarity</th>\n",
       "      <th>class_tone</th>\n",
       "      <th>binary_tone</th>\n",
       "      <th>binary_polarity</th>\n",
       "      <th>binary_polarity_num</th>\n",
       "    </tr>\n",
       "  </thead>\n",
       "  <tbody>\n",
       "    <tr>\n",
       "      <th>0</th>\n",
       "      <td>Get breaking news alerts and special reports. ...</td>\n",
       "      <td>-3.921569</td>\n",
       "      <td>5.882353</td>\n",
       "      <td>neg</td>\n",
       "      <td>neg</td>\n",
       "      <td>neg</td>\n",
       "      <td>0</td>\n",
       "    </tr>\n",
       "    <tr>\n",
       "      <th>1</th>\n",
       "      <td>This week, more than ever, the effects of clim...</td>\n",
       "      <td>-4.040404</td>\n",
       "      <td>6.060606</td>\n",
       "      <td>neg</td>\n",
       "      <td>neg</td>\n",
       "      <td>neg</td>\n",
       "      <td>0</td>\n",
       "    </tr>\n",
       "    <tr>\n",
       "      <th>2</th>\n",
       "      <td>Also: Farmworkers say they can't get masks. Th...</td>\n",
       "      <td>-4.260090</td>\n",
       "      <td>6.950673</td>\n",
       "      <td>neg</td>\n",
       "      <td>neg</td>\n",
       "      <td>pos</td>\n",
       "      <td>1</td>\n",
       "    </tr>\n",
       "    <tr>\n",
       "      <th>3</th>\n",
       "      <td>Washington (CNN) Sen. Kamala Harris on Tuesday...</td>\n",
       "      <td>-5.611222</td>\n",
       "      <td>8.416834</td>\n",
       "      <td>neg</td>\n",
       "      <td>neg</td>\n",
       "      <td>pos</td>\n",
       "      <td>1</td>\n",
       "    </tr>\n",
       "    <tr>\n",
       "      <th>4</th>\n",
       "      <td>This week, more than ever, the effects of clim...</td>\n",
       "      <td>-4.040404</td>\n",
       "      <td>6.060606</td>\n",
       "      <td>neg</td>\n",
       "      <td>neg</td>\n",
       "      <td>neg</td>\n",
       "      <td>0</td>\n",
       "    </tr>\n",
       "  </tbody>\n",
       "</table>\n",
       "</div>"
      ],
      "text/plain": [
       "                                                text      Tone  polarity  \\\n",
       "0  Get breaking news alerts and special reports. ... -3.921569  5.882353   \n",
       "1  This week, more than ever, the effects of clim... -4.040404  6.060606   \n",
       "2  Also: Farmworkers say they can't get masks. Th... -4.260090  6.950673   \n",
       "3  Washington (CNN) Sen. Kamala Harris on Tuesday... -5.611222  8.416834   \n",
       "4  This week, more than ever, the effects of clim... -4.040404  6.060606   \n",
       "\n",
       "  class_tone binary_tone binary_polarity  binary_polarity_num  \n",
       "0        neg         neg             neg                    0  \n",
       "1        neg         neg             neg                    0  \n",
       "2        neg         neg             pos                    1  \n",
       "3        neg         neg             pos                    1  \n",
       "4        neg         neg             neg                    0  "
      ]
     },
     "execution_count": 152,
     "metadata": {},
     "output_type": "execute_result"
    }
   ],
   "source": [
    "x_y.head()"
   ]
  },
  {
   "cell_type": "markdown",
   "metadata": {},
   "source": [
    "# Log Reg, CountVectorizer, Feature = Quotes Only, Target = Binarized Polarity\n",
    "\n",
    "- this model uses only speaker quotes (i.e. quotes from politicians, interviewees, etc) as the text to predict binary polarity\n",
    "- Train acc: 80.2 percent\n",
    "- Test acc: 69.04 percent\n",
    "\n",
    "- I abandoned this approach earlier on, but in retrospect, I only tested on a small dataset of 5000, and I didn't do any hyperparameter tuning\n",
    "- The advantage here is significantly reduces the size of the corpus"
   ]
  },
  {
   "cell_type": "code",
   "execution_count": 165,
   "metadata": {},
   "outputs": [
    {
     "name": "stdout",
     "output_type": "stream",
     "text": [
      "Split done - X_train shape: (3241,), X_test shape: (1389,), y_train shape: (3241,), y_test shape: (1389,)\n",
      "vectorizer done\n",
      "beginng vectorizer fitting\n"
     ]
    },
    {
     "name": "stderr",
     "output_type": "stream",
     "text": [
      "/Users/aschharwood/opt/anaconda3/lib/python3.8/site-packages/sklearn/feature_extraction/text.py:484: UserWarning: The parameter 'token_pattern' will not be used since 'tokenizer' is not None'\n",
      "  warnings.warn(\"The parameter 'token_pattern' will not be used\"\n"
     ]
    },
    {
     "name": "stdout",
     "output_type": "stream",
     "text": [
      "vectorizer fitting complete\n",
      "beginning transformation\n",
      "X_train transformed\n",
      "X_test_transformed\n",
      "creating model\n",
      "model completed\n",
      "fitting model\n",
      "model fitted\n",
      "scoring training data\n",
      "scoring test data\n",
      "Training score: 0.8025300833076211\n",
      "Test score: 0.6904247660187185\n"
     ]
    }
   ],
   "source": [
    "#applies function to article text, binary_polarity\n",
    "bagofwords, model, X_train_transformed, X_test_transformed, y_train, y_test = modeling_function(x_y['text'], x_y['binary_polarity_num'], tokenizer_quote)"
   ]
  },
  {
   "cell_type": "code",
   "execution_count": 159,
   "metadata": {},
   "outputs": [
    {
     "data": {
      "text/plain": [
       "5078"
      ]
     },
     "execution_count": 159,
     "metadata": {},
     "output_type": "execute_result"
    }
   ],
   "source": [
    "len(bagofwords.get_feature_names())"
   ]
  },
  {
   "cell_type": "code",
   "execution_count": null,
   "metadata": {},
   "outputs": [],
   "source": []
  }
 ],
 "metadata": {
  "kernelspec": {
   "display_name": "Python 3",
   "language": "python",
   "name": "python3"
  },
  "language_info": {
   "codemirror_mode": {
    "name": "ipython",
    "version": 3
   },
   "file_extension": ".py",
   "mimetype": "text/x-python",
   "name": "python",
   "nbconvert_exporter": "python",
   "pygments_lexer": "ipython3",
   "version": "3.8.2"
  },
  "neptune": {
   "notebookId": "59b4c4eb-2b4a-4342-b28d-eb99fcb4c01c"
  }
 },
 "nbformat": 4,
 "nbformat_minor": 4
}
