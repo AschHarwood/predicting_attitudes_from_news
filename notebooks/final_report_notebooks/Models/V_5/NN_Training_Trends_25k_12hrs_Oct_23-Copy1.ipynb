{
 "cells": [
  {
   "cell_type": "markdown",
   "metadata": {},
   "source": [
    "# Final Neural Network Model on V5 data\n",
    "\n",
    "- complete 2015 - 2020 article data\n",
    "- gtrends 2015 - 2020\n",
    "- Hourly sampling\n",
    "- Target shifted 12 hours\n",
    "\n",
    "- Final NN score\n",
    "Epoch 4/5\n",
    "643/643 [==============================] - 89s 138ms/step - loss: 0.3817 - accuracy: 0.8196 - val_loss: 0.4328 - val_accuracy: 0.8152"
   ]
  },
  {
   "cell_type": "markdown",
   "metadata": {},
   "source": [
    "# Imports and installs"
   ]
  },
  {
   "cell_type": "code",
   "execution_count": 1,
   "metadata": {},
   "outputs": [
    {
     "name": "stderr",
     "output_type": "stream",
     "text": [
      "Using TensorFlow backend.\n"
     ]
    },
    {
     "name": "stdout",
     "output_type": "stream",
     "text": [
      "Requirement already satisfied: tensorflow-hub in /usr/local/lib/python3.7/site-packages (0.9.0)\n",
      "Requirement already satisfied: protobuf>=3.8.0 in /usr/local/lib/python3.7/site-packages (from tensorflow-hub) (3.11.3)\n",
      "Requirement already satisfied: six>=1.12.0 in /usr/local/lib/python3.7/site-packages (from tensorflow-hub) (1.14.0)\n",
      "Requirement already satisfied: numpy>=1.12.0 in /usr/local/lib/python3.7/site-packages (from tensorflow-hub) (1.18.4)\n",
      "Requirement already satisfied: setuptools in /usr/local/lib/python3.7/site-packages (from protobuf>=3.8.0->tensorflow-hub) (46.2.0)\n",
      "\u001b[33mWARNING: You are using pip version 20.1; however, version 20.2.4 is available.\n",
      "You should consider upgrading via the '/usr/local/bin/python -m pip install --upgrade pip' command.\u001b[0m\n",
      "Version:  2.2.0\n",
      "Eager mode:  True\n",
      "Hub version:  0.9.0\n",
      "GPU is available\n"
     ]
    }
   ],
   "source": [
    "from tensorflow.keras import regularizers\n",
    "\n",
    "from keras.layers import Dense, Flatten, LSTM, Conv1D, MaxPooling1D, Dropout, Activation\n",
    "\n",
    "import matplotlib.pyplot as plt\n",
    "\n",
    "%matplotlib inline\n",
    "\n",
    "import numpy as np\n",
    "from sklearn.model_selection import train_test_split\n",
    "\n",
    "\n",
    "!pip install tensorflow-hub\n",
    "#!pip install tensorflow-datasets\n",
    "import tensorflow_hub as hub\n",
    "\n",
    "import tensorflow as tf\n",
    "\n",
    "print(\"Version: \", tf.__version__)\n",
    "print(\"Eager mode: \", tf.executing_eagerly())\n",
    "print(\"Hub version: \", hub.__version__)\n",
    "print(\"GPU is\", \"available\" if tf.config.experimental.list_physical_devices(\"GPU\") else \"NOT AVAILABLE\")\n",
    "\n",
    "import pandas as pd\n",
    "\n",
    "# !pip install spacy\n",
    "# !python -m spacy download en_core_web_sm\n",
    "# import spacy\n",
    "# nlp = spacy.load('en_core_web_sm')"
   ]
  },
  {
   "cell_type": "code",
   "execution_count": 2,
   "metadata": {},
   "outputs": [
    {
     "name": "stdout",
     "output_type": "stream",
     "text": [
      "Requirement already satisfied: spacy in /usr/local/lib/python3.7/site-packages (2.2.4)\n",
      "Requirement already satisfied: numpy>=1.15.0 in /usr/local/lib/python3.7/site-packages (from spacy) (1.18.4)\n",
      "Requirement already satisfied: srsly<1.1.0,>=1.0.2 in /usr/local/lib/python3.7/site-packages (from spacy) (1.0.2)\n",
      "Requirement already satisfied: requests<3.0.0,>=2.13.0 in /usr/local/lib/python3.7/site-packages (from spacy) (2.23.0)\n",
      "Requirement already satisfied: murmurhash<1.1.0,>=0.28.0 in /usr/local/lib/python3.7/site-packages (from spacy) (1.0.2)\n",
      "Requirement already satisfied: tqdm<5.0.0,>=4.38.0 in /usr/local/lib/python3.7/site-packages (from spacy) (4.46.0)\n",
      "Requirement already satisfied: catalogue<1.1.0,>=0.0.7 in /usr/local/lib/python3.7/site-packages (from spacy) (1.0.0)\n",
      "Requirement already satisfied: setuptools in /usr/local/lib/python3.7/site-packages (from spacy) (46.2.0)\n",
      "Requirement already satisfied: plac<1.2.0,>=0.9.6 in /usr/local/lib/python3.7/site-packages (from spacy) (1.1.3)\n",
      "Requirement already satisfied: blis<0.5.0,>=0.4.0 in /usr/local/lib/python3.7/site-packages (from spacy) (0.4.1)\n",
      "Requirement already satisfied: cymem<2.1.0,>=2.0.2 in /usr/local/lib/python3.7/site-packages (from spacy) (2.0.3)\n",
      "Requirement already satisfied: preshed<3.1.0,>=3.0.2 in /usr/local/lib/python3.7/site-packages (from spacy) (3.0.2)\n",
      "Requirement already satisfied: wasabi<1.1.0,>=0.4.0 in /usr/local/lib/python3.7/site-packages (from spacy) (0.6.0)\n",
      "Requirement already satisfied: thinc==7.4.0 in /usr/local/lib/python3.7/site-packages (from spacy) (7.4.0)\n",
      "Requirement already satisfied: urllib3!=1.25.0,!=1.25.1,<1.26,>=1.21.1 in /usr/local/lib/python3.7/site-packages (from requests<3.0.0,>=2.13.0->spacy) (1.24.3)\n",
      "Requirement already satisfied: idna<3,>=2.5 in /usr/local/lib/python3.7/site-packages (from requests<3.0.0,>=2.13.0->spacy) (2.9)\n",
      "Requirement already satisfied: chardet<4,>=3.0.2 in /usr/local/lib/python3.7/site-packages (from requests<3.0.0,>=2.13.0->spacy) (3.0.4)\n",
      "Requirement already satisfied: certifi>=2017.4.17 in /usr/local/lib/python3.7/site-packages (from requests<3.0.0,>=2.13.0->spacy) (2020.4.5.1)\n",
      "Requirement already satisfied: importlib-metadata>=0.20; python_version < \"3.8\" in /usr/local/lib/python3.7/site-packages (from catalogue<1.1.0,>=0.0.7->spacy) (1.6.0)\n",
      "Requirement already satisfied: zipp>=0.5 in /usr/local/lib/python3.7/site-packages (from importlib-metadata>=0.20; python_version < \"3.8\"->catalogue<1.1.0,>=0.0.7->spacy) (3.1.0)\n",
      "\u001b[33mWARNING: You are using pip version 20.1; however, version 20.2.4 is available.\n",
      "You should consider upgrading via the '/usr/local/bin/python -m pip install --upgrade pip' command.\u001b[0m\n"
     ]
    }
   ],
   "source": [
    "!pip install spacy"
   ]
  },
  {
   "cell_type": "code",
   "execution_count": 3,
   "metadata": {},
   "outputs": [],
   "source": [
    "import spacy"
   ]
  },
  {
   "cell_type": "code",
   "execution_count": 4,
   "metadata": {},
   "outputs": [
    {
     "name": "stdout",
     "output_type": "stream",
     "text": [
      "Requirement already satisfied: en_core_web_sm==2.2.5 from https://github.com/explosion/spacy-models/releases/download/en_core_web_sm-2.2.5/en_core_web_sm-2.2.5.tar.gz#egg=en_core_web_sm==2.2.5 in /usr/local/lib/python3.7/site-packages (2.2.5)\n",
      "Requirement already satisfied: spacy>=2.2.2 in /usr/local/lib/python3.7/site-packages (from en_core_web_sm==2.2.5) (2.2.4)\n",
      "Requirement already satisfied: preshed<3.1.0,>=3.0.2 in /usr/local/lib/python3.7/site-packages (from spacy>=2.2.2->en_core_web_sm==2.2.5) (3.0.2)\n",
      "Requirement already satisfied: plac<1.2.0,>=0.9.6 in /usr/local/lib/python3.7/site-packages (from spacy>=2.2.2->en_core_web_sm==2.2.5) (1.1.3)\n",
      "Requirement already satisfied: setuptools in /usr/local/lib/python3.7/site-packages (from spacy>=2.2.2->en_core_web_sm==2.2.5) (46.2.0)\n",
      "Requirement already satisfied: requests<3.0.0,>=2.13.0 in /usr/local/lib/python3.7/site-packages (from spacy>=2.2.2->en_core_web_sm==2.2.5) (2.23.0)\n",
      "Requirement already satisfied: srsly<1.1.0,>=1.0.2 in /usr/local/lib/python3.7/site-packages (from spacy>=2.2.2->en_core_web_sm==2.2.5) (1.0.2)\n",
      "Requirement already satisfied: thinc==7.4.0 in /usr/local/lib/python3.7/site-packages (from spacy>=2.2.2->en_core_web_sm==2.2.5) (7.4.0)\n",
      "Requirement already satisfied: numpy>=1.15.0 in /usr/local/lib/python3.7/site-packages (from spacy>=2.2.2->en_core_web_sm==2.2.5) (1.18.4)\n",
      "Requirement already satisfied: blis<0.5.0,>=0.4.0 in /usr/local/lib/python3.7/site-packages (from spacy>=2.2.2->en_core_web_sm==2.2.5) (0.4.1)\n",
      "Requirement already satisfied: cymem<2.1.0,>=2.0.2 in /usr/local/lib/python3.7/site-packages (from spacy>=2.2.2->en_core_web_sm==2.2.5) (2.0.3)\n",
      "Requirement already satisfied: wasabi<1.1.0,>=0.4.0 in /usr/local/lib/python3.7/site-packages (from spacy>=2.2.2->en_core_web_sm==2.2.5) (0.6.0)\n",
      "Requirement already satisfied: tqdm<5.0.0,>=4.38.0 in /usr/local/lib/python3.7/site-packages (from spacy>=2.2.2->en_core_web_sm==2.2.5) (4.46.0)\n",
      "Requirement already satisfied: catalogue<1.1.0,>=0.0.7 in /usr/local/lib/python3.7/site-packages (from spacy>=2.2.2->en_core_web_sm==2.2.5) (1.0.0)\n",
      "Requirement already satisfied: murmurhash<1.1.0,>=0.28.0 in /usr/local/lib/python3.7/site-packages (from spacy>=2.2.2->en_core_web_sm==2.2.5) (1.0.2)\n",
      "Requirement already satisfied: urllib3!=1.25.0,!=1.25.1,<1.26,>=1.21.1 in /usr/local/lib/python3.7/site-packages (from requests<3.0.0,>=2.13.0->spacy>=2.2.2->en_core_web_sm==2.2.5) (1.24.3)\n",
      "Requirement already satisfied: idna<3,>=2.5 in /usr/local/lib/python3.7/site-packages (from requests<3.0.0,>=2.13.0->spacy>=2.2.2->en_core_web_sm==2.2.5) (2.9)\n",
      "Requirement already satisfied: chardet<4,>=3.0.2 in /usr/local/lib/python3.7/site-packages (from requests<3.0.0,>=2.13.0->spacy>=2.2.2->en_core_web_sm==2.2.5) (3.0.4)\n",
      "Requirement already satisfied: certifi>=2017.4.17 in /usr/local/lib/python3.7/site-packages (from requests<3.0.0,>=2.13.0->spacy>=2.2.2->en_core_web_sm==2.2.5) (2020.4.5.1)\n",
      "Requirement already satisfied: importlib-metadata>=0.20; python_version < \"3.8\" in /usr/local/lib/python3.7/site-packages (from catalogue<1.1.0,>=0.0.7->spacy>=2.2.2->en_core_web_sm==2.2.5) (1.6.0)\n",
      "Requirement already satisfied: zipp>=0.5 in /usr/local/lib/python3.7/site-packages (from importlib-metadata>=0.20; python_version < \"3.8\"->catalogue<1.1.0,>=0.0.7->spacy>=2.2.2->en_core_web_sm==2.2.5) (3.1.0)\n",
      "\u001b[33mWARNING: You are using pip version 20.1; however, version 20.2.4 is available.\n",
      "You should consider upgrading via the '/usr/local/bin/python -m pip install --upgrade pip' command.\u001b[0m\n",
      "\u001b[38;5;2m✔ Download and installation successful\u001b[0m\n",
      "You can now load the model via spacy.load('en_core_web_sm')\n"
     ]
    }
   ],
   "source": [
    "\n",
    "!python -m spacy download en_core_web_sm"
   ]
  },
  {
   "cell_type": "code",
   "execution_count": 3,
   "metadata": {},
   "outputs": [],
   "source": [
    "\n",
    "# "
   ]
  },
  {
   "cell_type": "code",
   "execution_count": 5,
   "metadata": {},
   "outputs": [],
   "source": [
    "nlp = spacy.load('en_core_web_sm')"
   ]
  },
  {
   "cell_type": "code",
   "execution_count": 6,
   "metadata": {},
   "outputs": [],
   "source": [
    "#defining tokenizer\n",
    "nlp = spacy.load(\"en_core_web_sm\", disable=['tagger', 'parser', 'ner'])\n",
    "def tokenizer(text, nlp):\n",
    "\n",
    "    token_list = []\n",
    "    doc = nlp(text)\n",
    "    for token in doc:\n",
    "        if token.is_stop == False and token.is_punct==False:\n",
    "            if token.text != ' ':\n",
    "                token_list.append((token.lemma_).lower())\n",
    "    str_tokens = ' '.join(token_list)\n",
    "    return str_tokens"
   ]
  },
  {
   "cell_type": "markdown",
   "metadata": {},
   "source": [
    "## NN with Updated Gdelt Data Oct 23"
   ]
  },
  {
   "cell_type": "code",
   "execution_count": 10,
   "metadata": {},
   "outputs": [
    {
     "name": "stdout",
     "output_type": "stream",
     "text": [
      "reading in text daya\n"
     ]
    },
    {
     "data": {
      "text/plain": [
       "'df: (214706, 12)'"
      ]
     },
     "metadata": {},
     "output_type": "display_data"
    },
    {
     "name": "stdout",
     "output_type": "stream",
     "text": [
      "setting datatime\n",
      "filling empty title columns\n",
      "tokenizing titles\n",
      "joining text and title\n"
     ]
    },
    {
     "data": {
      "text/plain": [
       "'df: (214706, 14)'"
      ]
     },
     "metadata": {},
     "output_type": "display_data"
    },
    {
     "name": "stdout",
     "output_type": "stream",
     "text": [
      "resampling at 1h\n"
     ]
    },
    {
     "data": {
      "text/plain": [
       "'clean text shape: (49115, 2)'"
      ]
     },
     "metadata": {},
     "output_type": "display_data"
    },
    {
     "data": {
      "text/plain": [
       "'text > 0: 29822'"
      ]
     },
     "metadata": {},
     "output_type": "display_data"
    },
    {
     "name": "stdout",
     "output_type": "stream",
     "text": [
      "adding padding to text\n",
      "appending new padding to test_resample\n",
      "reading in google trends\n"
     ]
    },
    {
     "data": {
      "text/plain": [
       "'gtrend shape: (66741, 8)'"
      ]
     },
     "metadata": {},
     "output_type": "display_data"
    },
    {
     "name": "stdout",
     "output_type": "stream",
     "text": [
      "grouping gtrends data and removing duplicates\n"
     ]
    },
    {
     "data": {
      "text/plain": [
       "'gtrends duplicates removed: (50096, 7)'"
      ]
     },
     "metadata": {},
     "output_type": "display_data"
    },
    {
     "name": "stdout",
     "output_type": "stream",
     "text": [
      "removing extra google trends data\n",
      "setting datetime on gtrends\n"
     ]
    },
    {
     "data": {
      "text/plain": [
       "'gtrends timeframe reduced: (48538, 6)'"
      ]
     },
     "metadata": {},
     "output_type": "display_data"
    },
    {
     "data": {
      "text/plain": [
       "'gtrends_gdelt shape: (48528, 7)'"
      ]
     },
     "metadata": {},
     "output_type": "display_data"
    },
    {
     "data": {
      "text/plain": [
       "\"gtrends_gdelt cols: Index(['date', 'depression', 'anxiety', 'government', 'politics', 'democracy',\\n       'title_text'],\\n      dtype='object')\""
      ]
     },
     "metadata": {},
     "output_type": "display_data"
    },
    {
     "name": "stdout",
     "output_type": "stream",
     "text": [
      "gtrends_gdelt complete records: 29441\n",
      "binary_depression value counts: 1    24881\n",
      "0    23647\n",
      "Name: depression_binary, dtype: int64\n",
      "shifting google trends by -24 houors\n",
      "setting final df\n",
      "<class 'pandas.core.frame.DataFrame'>\n",
      "Int64Index: 29389 entries, 0 to 48475\n",
      "Data columns (total 9 columns):\n",
      " #   Column             Non-Null Count  Dtype         \n",
      "---  ------             --------------  -----         \n",
      " 0   date               29389 non-null  datetime64[ns]\n",
      " 1   depression         29389 non-null  float64       \n",
      " 2   anxiety            29389 non-null  float64       \n",
      " 3   government         29389 non-null  float64       \n",
      " 4   politics           29389 non-null  float64       \n",
      " 5   democracy          29389 non-null  float64       \n",
      " 6   title_text         29389 non-null  object        \n",
      " 7   depression_binary  29389 non-null  int64         \n",
      " 8   shifted_12h        29389 non-null  float64       \n",
      "dtypes: datetime64[ns](1), float64(6), int64(1), object(1)\n",
      "memory usage: 2.2+ MB\n"
     ]
    }
   ],
   "source": [
    "#reading in gdelt master\n",
    "print('reading in text daya')\n",
    "df = pd.read_csv('/floyd/home/Capstone/cap_notebooks/data/master_data_set/gdelt_text_tone_complete_oct_22.csv')\n",
    "\n",
    "display(f'df: {df.shape}')\n",
    "\n",
    "#display(df.head())\n",
    "\n",
    "print('setting datatime')\n",
    "#cleans date time\n",
    "#df['date_time']  = df['gkgcode'].apply(lambda x: x[:14])\n",
    "\n",
    "\n",
    "\n",
    "#converts datetime\n",
    "df['date_time'] = pd.to_datetime(df['DATE'])\n",
    "\n",
    "#sets datetime index\n",
    "df.set_index('date_time', inplace=True)\n",
    "\n",
    "print('filling empty title columns')\n",
    "#fills missing title with no_title\n",
    "df['title'].fillna('no_title', inplace = True)\n",
    "\n",
    "print('tokenizing titles')\n",
    "#tokenzies title\n",
    "df['title_tokens'] = df['title'].apply(lambda x: tokenizer(str(x), nlp))\n",
    "\n",
    "print('joining text and title')\n",
    "#joins title and text\n",
    "df['title_text'] = df['title_tokens'] + df['text_tokens']\n",
    "\n",
    "#display(df.head())\n",
    "display(f'df: {df.shape}')\n",
    "\n",
    "#resample text data and joining tokens\n",
    "print('resampling at 1h')\n",
    "test_resample = df.resample('1h')['title_text'].agg(lambda column: \"\".join(column))\n",
    "test_resample = pd.DataFrame(test_resample)\n",
    "test_resample.reset_index(inplace=True)\n",
    "\n",
    "display(f'clean text shape: {test_resample.shape}')\n",
    "\n",
    "useful_sample_size = (test_resample['title_text'].str.len()>0).sum()\n",
    "\n",
    "display(f'text > 0: {useful_sample_size}')\n",
    "\n",
    "#padding text data for join with gtrends data\n",
    "print('adding padding to text')\n",
    "columns = list(test_resample.columns)\n",
    "\n",
    "\n",
    "\n",
    "date_list = list(pd.date_range(start='2020-10-07 21:00:00', end='2020-10-11 00:00:00', freq='1h'))\n",
    "\n",
    "data = {'date_time': date_list, 'title_text': 'empty_string'}\n",
    "\n",
    "df_holder = pd.DataFrame(data,columns=columns)\n",
    "\n",
    "print('appending new padding to test_resample')\n",
    "test_resample = test_resample.append(df_holder)\n",
    "\n",
    "print('reading in google trends')\n",
    "#read in gtrend data\n",
    "gtrends = pd.read_csv('/floyd/home/Capstone/cap_notebooks/data/google_trends/gtrends_2015-2020_clean.csv')\n",
    "\n",
    "display(f'gtrend shape: {gtrends.shape}')\n",
    "\n",
    "print('grouping gtrends data and removing duplicates')\n",
    "gtrends = gtrends.groupby('date').mean()\n",
    "\n",
    "display(f'gtrends duplicates removed: {gtrends.shape}')\n",
    "\n",
    "print('removing extra google trends data')\n",
    "gtrends = gtrends['2015-03-02 00:00:00': '2020-10-10 00:00:00']\n",
    "gtrends.reset_index(inplace=True)\n",
    "gtrends.drop(['Unnamed: 0', 'isPartial'], axis=1, inplace=True)\n",
    "\n",
    "print('setting datetime on gtrends')\n",
    "gtrends['date'] = pd.to_datetime(gtrends['date'])\n",
    "\n",
    "display(f'gtrends timeframe reduced: {gtrends.shape}')\n",
    "\n",
    "#merging text and trends\n",
    "gtrends_gdelt = gtrends.merge(test_resample, how='inner', left_on = 'date', right_on = 'date_time')\n",
    "\n",
    "#dropping extra data column\n",
    "gtrends_gdelt.drop('date_time', axis=1, inplace=True)\n",
    "display(f'gtrends_gdelt shape: {gtrends_gdelt.shape}')\n",
    "display(f'gtrends_gdelt cols: {gtrends_gdelt.columns}')\n",
    "\n",
    "#checking complete recores\n",
    "complete_records = (gtrends_gdelt['title_text'].str.len()>0).sum()\n",
    "print(f'gtrends_gdelt complete records: {complete_records}')\n",
    "\n",
    "#binarizing depression\n",
    "gtrends_gdelt['depression_binary'] = np.where(gtrends_gdelt['depression'] >= 36, 1, 0)\n",
    "dep_val_count = gtrends_gdelt['depression_binary'].value_counts()\n",
    "\n",
    "print(f'binary_depression value counts: {dep_val_count}')\n",
    "\n",
    "#shifting trends data to so target is now 12 hours later that text feature data\n",
    "print('shifting google trends by -12 houors')\n",
    "gtrends_gdelt['shifted_12h'] = gtrends_gdelt['depression_binary'].shift(-12)\n",
    "\n",
    "#dropping NA rows, which should just be 24 end rows\n",
    "gtrends_gdelt.dropna(inplace=True)\n",
    "\n",
    "#grapping complete rows\n",
    "\n",
    "print('setting final df')\n",
    "gtrends_text_final = gtrends_gdelt[gtrends_gdelt['title_text'].str.len()>12]\n",
    "\n",
    "gtrends_text_final.info()"
   ]
  },
  {
   "cell_type": "code",
   "execution_count": 25,
   "metadata": {},
   "outputs": [
    {
     "data": {
      "text/html": [
       "<div>\n",
       "<style scoped>\n",
       "    .dataframe tbody tr th:only-of-type {\n",
       "        vertical-align: middle;\n",
       "    }\n",
       "\n",
       "    .dataframe tbody tr th {\n",
       "        vertical-align: top;\n",
       "    }\n",
       "\n",
       "    .dataframe thead th {\n",
       "        text-align: right;\n",
       "    }\n",
       "</style>\n",
       "<table border=\"1\" class=\"dataframe\">\n",
       "  <thead>\n",
       "    <tr style=\"text-align: right;\">\n",
       "      <th></th>\n",
       "      <th>Unnamed: 0</th>\n",
       "      <th>GKGRECORDID</th>\n",
       "      <th>DATE</th>\n",
       "      <th>title</th>\n",
       "      <th>text_tokens</th>\n",
       "      <th>avg_tone</th>\n",
       "      <th>pos_words</th>\n",
       "      <th>neg_words</th>\n",
       "      <th>polarity</th>\n",
       "      <th>act_ref_density</th>\n",
       "      <th>self_group_density</th>\n",
       "      <th>word_count</th>\n",
       "      <th>title_tokens</th>\n",
       "      <th>title_text</th>\n",
       "    </tr>\n",
       "    <tr>\n",
       "      <th>date_time</th>\n",
       "      <th></th>\n",
       "      <th></th>\n",
       "      <th></th>\n",
       "      <th></th>\n",
       "      <th></th>\n",
       "      <th></th>\n",
       "      <th></th>\n",
       "      <th></th>\n",
       "      <th></th>\n",
       "      <th></th>\n",
       "      <th></th>\n",
       "      <th></th>\n",
       "      <th></th>\n",
       "      <th></th>\n",
       "    </tr>\n",
       "  </thead>\n",
       "  <tbody>\n",
       "    <tr>\n",
       "      <th>2015-03-02 10:00:00</th>\n",
       "      <td>0</td>\n",
       "      <td>20150302100000-674</td>\n",
       "      <td>2015-03-02 10:00:00</td>\n",
       "      <td>america clean energy laggard</td>\n",
       "      <td>answer resound myriad claim energy need debunk...</td>\n",
       "      <td>0.350631</td>\n",
       "      <td>2.734923</td>\n",
       "      <td>2.384292</td>\n",
       "      <td>5.119215</td>\n",
       "      <td>16.760168</td>\n",
       "      <td>0.420757</td>\n",
       "      <td>1186</td>\n",
       "      <td>america clean energy laggard</td>\n",
       "      <td>america clean energy laggardanswer resound myr...</td>\n",
       "    </tr>\n",
       "    <tr>\n",
       "      <th>2015-03-02 15:30:00</th>\n",
       "      <td>1</td>\n",
       "      <td>20150302153000-229</td>\n",
       "      <td>2015-03-02 15:30:00</td>\n",
       "      <td>watch meet press treat climate change big joke</td>\n",
       "      <td>hear sen. james inhofe r okla astonishingly ch...</td>\n",
       "      <td>-0.952381</td>\n",
       "      <td>3.492063</td>\n",
       "      <td>4.444444</td>\n",
       "      <td>7.936508</td>\n",
       "      <td>26.984127</td>\n",
       "      <td>1.428571</td>\n",
       "      <td>576</td>\n",
       "      <td>watch meet press treat climate change big joke</td>\n",
       "      <td>watch meet press treat climate change big joke...</td>\n",
       "    </tr>\n",
       "    <tr>\n",
       "      <th>2015-03-02 16:30:00</th>\n",
       "      <td>2</td>\n",
       "      <td>20150302163000-237</td>\n",
       "      <td>2015-03-02 16:30:00</td>\n",
       "      <td>no_title</td>\n",
       "      <td>mary bowerman usa today network visitors show ...</td>\n",
       "      <td>0.000000</td>\n",
       "      <td>1.814059</td>\n",
       "      <td>1.814059</td>\n",
       "      <td>3.628118</td>\n",
       "      <td>25.396825</td>\n",
       "      <td>0.000000</td>\n",
       "      <td>405</td>\n",
       "      <td>no_title</td>\n",
       "      <td>no_titlemary bowerman usa today network visito...</td>\n",
       "    </tr>\n",
       "    <tr>\n",
       "      <th>2015-03-02 18:00:00</th>\n",
       "      <td>3</td>\n",
       "      <td>20150302180000-1352</td>\n",
       "      <td>2015-03-02 18:00:00</td>\n",
       "      <td>russian energy deal comes contentious time</td>\n",
       "      <td>mr. fridman business track record hard cameron...</td>\n",
       "      <td>-1.147541</td>\n",
       "      <td>1.803279</td>\n",
       "      <td>2.950820</td>\n",
       "      <td>4.754098</td>\n",
       "      <td>19.508197</td>\n",
       "      <td>0.409836</td>\n",
       "      <td>1119</td>\n",
       "      <td>russian energy deal come contentious time</td>\n",
       "      <td>russian energy deal come contentious timemr. f...</td>\n",
       "    </tr>\n",
       "    <tr>\n",
       "      <th>2015-03-02 20:30:00</th>\n",
       "      <td>4</td>\n",
       "      <td>20150302203000-163</td>\n",
       "      <td>2015-03-02 20:30:00</td>\n",
       "      <td>climate change cause syrian civil war</td>\n",
       "      <td>climate change spark historic drought syria co...</td>\n",
       "      <td>-8.054523</td>\n",
       "      <td>0.371747</td>\n",
       "      <td>8.426270</td>\n",
       "      <td>8.798017</td>\n",
       "      <td>24.039653</td>\n",
       "      <td>0.247831</td>\n",
       "      <td>743</td>\n",
       "      <td>climate change cause syrian civil war</td>\n",
       "      <td>climate change cause syrian civil warclimate c...</td>\n",
       "    </tr>\n",
       "  </tbody>\n",
       "</table>\n",
       "</div>"
      ],
      "text/plain": [
       "                     Unnamed: 0          GKGRECORDID                 DATE  \\\n",
       "date_time                                                                   \n",
       "2015-03-02 10:00:00           0   20150302100000-674  2015-03-02 10:00:00   \n",
       "2015-03-02 15:30:00           1   20150302153000-229  2015-03-02 15:30:00   \n",
       "2015-03-02 16:30:00           2   20150302163000-237  2015-03-02 16:30:00   \n",
       "2015-03-02 18:00:00           3  20150302180000-1352  2015-03-02 18:00:00   \n",
       "2015-03-02 20:30:00           4   20150302203000-163  2015-03-02 20:30:00   \n",
       "\n",
       "                                                              title  \\\n",
       "date_time                                                             \n",
       "2015-03-02 10:00:00                    america clean energy laggard   \n",
       "2015-03-02 15:30:00  watch meet press treat climate change big joke   \n",
       "2015-03-02 16:30:00                                        no_title   \n",
       "2015-03-02 18:00:00      russian energy deal comes contentious time   \n",
       "2015-03-02 20:30:00           climate change cause syrian civil war   \n",
       "\n",
       "                                                           text_tokens  \\\n",
       "date_time                                                                \n",
       "2015-03-02 10:00:00  answer resound myriad claim energy need debunk...   \n",
       "2015-03-02 15:30:00  hear sen. james inhofe r okla astonishingly ch...   \n",
       "2015-03-02 16:30:00  mary bowerman usa today network visitors show ...   \n",
       "2015-03-02 18:00:00  mr. fridman business track record hard cameron...   \n",
       "2015-03-02 20:30:00  climate change spark historic drought syria co...   \n",
       "\n",
       "                     avg_tone  pos_words  neg_words  polarity  \\\n",
       "date_time                                                       \n",
       "2015-03-02 10:00:00  0.350631   2.734923   2.384292  5.119215   \n",
       "2015-03-02 15:30:00 -0.952381   3.492063   4.444444  7.936508   \n",
       "2015-03-02 16:30:00  0.000000   1.814059   1.814059  3.628118   \n",
       "2015-03-02 18:00:00 -1.147541   1.803279   2.950820  4.754098   \n",
       "2015-03-02 20:30:00 -8.054523   0.371747   8.426270  8.798017   \n",
       "\n",
       "                     act_ref_density  self_group_density  word_count  \\\n",
       "date_time                                                              \n",
       "2015-03-02 10:00:00        16.760168            0.420757        1186   \n",
       "2015-03-02 15:30:00        26.984127            1.428571         576   \n",
       "2015-03-02 16:30:00        25.396825            0.000000         405   \n",
       "2015-03-02 18:00:00        19.508197            0.409836        1119   \n",
       "2015-03-02 20:30:00        24.039653            0.247831         743   \n",
       "\n",
       "                                                       title_tokens  \\\n",
       "date_time                                                             \n",
       "2015-03-02 10:00:00                    america clean energy laggard   \n",
       "2015-03-02 15:30:00  watch meet press treat climate change big joke   \n",
       "2015-03-02 16:30:00                                        no_title   \n",
       "2015-03-02 18:00:00       russian energy deal come contentious time   \n",
       "2015-03-02 20:30:00           climate change cause syrian civil war   \n",
       "\n",
       "                                                            title_text  \n",
       "date_time                                                               \n",
       "2015-03-02 10:00:00  america clean energy laggardanswer resound myr...  \n",
       "2015-03-02 15:30:00  watch meet press treat climate change big joke...  \n",
       "2015-03-02 16:30:00  no_titlemary bowerman usa today network visito...  \n",
       "2015-03-02 18:00:00  russian energy deal come contentious timemr. f...  \n",
       "2015-03-02 20:30:00  climate change cause syrian civil warclimate c...  "
      ]
     },
     "execution_count": 25,
     "metadata": {},
     "output_type": "execute_result"
    }
   ],
   "source": [
    "df.head()"
   ]
  },
  {
   "cell_type": "code",
   "execution_count": 24,
   "metadata": {},
   "outputs": [
    {
     "data": {
      "text/html": [
       "<div>\n",
       "<style scoped>\n",
       "    .dataframe tbody tr th:only-of-type {\n",
       "        vertical-align: middle;\n",
       "    }\n",
       "\n",
       "    .dataframe tbody tr th {\n",
       "        vertical-align: top;\n",
       "    }\n",
       "\n",
       "    .dataframe thead th {\n",
       "        text-align: right;\n",
       "    }\n",
       "</style>\n",
       "<table border=\"1\" class=\"dataframe\">\n",
       "  <thead>\n",
       "    <tr style=\"text-align: right;\">\n",
       "      <th></th>\n",
       "      <th>date</th>\n",
       "      <th>depression</th>\n",
       "      <th>anxiety</th>\n",
       "      <th>government</th>\n",
       "      <th>politics</th>\n",
       "      <th>democracy</th>\n",
       "      <th>title_text</th>\n",
       "      <th>depression_binary</th>\n",
       "      <th>shifted_12h</th>\n",
       "    </tr>\n",
       "  </thead>\n",
       "  <tbody>\n",
       "    <tr>\n",
       "      <th>0</th>\n",
       "      <td>2015-03-02 10:00:00</td>\n",
       "      <td>15.0</td>\n",
       "      <td>16.0</td>\n",
       "      <td>71.0</td>\n",
       "      <td>4.0</td>\n",
       "      <td>2.0</td>\n",
       "      <td>america clean energy laggardanswer resound myr...</td>\n",
       "      <td>0</td>\n",
       "      <td>0.0</td>\n",
       "    </tr>\n",
       "    <tr>\n",
       "      <th>5</th>\n",
       "      <td>2015-03-02 15:00:00</td>\n",
       "      <td>18.0</td>\n",
       "      <td>13.0</td>\n",
       "      <td>42.0</td>\n",
       "      <td>6.0</td>\n",
       "      <td>5.0</td>\n",
       "      <td>watch meet press treat climate change big joke...</td>\n",
       "      <td>0</td>\n",
       "      <td>0.0</td>\n",
       "    </tr>\n",
       "    <tr>\n",
       "      <th>6</th>\n",
       "      <td>2015-03-02 16:00:00</td>\n",
       "      <td>17.0</td>\n",
       "      <td>13.0</td>\n",
       "      <td>41.0</td>\n",
       "      <td>6.0</td>\n",
       "      <td>5.0</td>\n",
       "      <td>no_titlemary bowerman usa today network visito...</td>\n",
       "      <td>0</td>\n",
       "      <td>0.0</td>\n",
       "    </tr>\n",
       "    <tr>\n",
       "      <th>8</th>\n",
       "      <td>2015-03-02 18:00:00</td>\n",
       "      <td>18.0</td>\n",
       "      <td>14.0</td>\n",
       "      <td>39.0</td>\n",
       "      <td>6.0</td>\n",
       "      <td>4.0</td>\n",
       "      <td>russian energy deal come contentious timemr. f...</td>\n",
       "      <td>0</td>\n",
       "      <td>0.0</td>\n",
       "    </tr>\n",
       "    <tr>\n",
       "      <th>10</th>\n",
       "      <td>2015-03-02 20:00:00</td>\n",
       "      <td>17.0</td>\n",
       "      <td>13.0</td>\n",
       "      <td>35.0</td>\n",
       "      <td>5.0</td>\n",
       "      <td>4.0</td>\n",
       "      <td>climate change cause syrian civil warclimate c...</td>\n",
       "      <td>0</td>\n",
       "      <td>0.0</td>\n",
       "    </tr>\n",
       "    <tr>\n",
       "      <th>...</th>\n",
       "      <td>...</td>\n",
       "      <td>...</td>\n",
       "      <td>...</td>\n",
       "      <td>...</td>\n",
       "      <td>...</td>\n",
       "      <td>...</td>\n",
       "      <td>...</td>\n",
       "      <td>...</td>\n",
       "      <td>...</td>\n",
       "    </tr>\n",
       "    <tr>\n",
       "      <th>48471</th>\n",
       "      <td>2020-10-07 16:00:00</td>\n",
       "      <td>14.5</td>\n",
       "      <td>17.0</td>\n",
       "      <td>54.0</td>\n",
       "      <td>11.0</td>\n",
       "      <td>8.5</td>\n",
       "      <td>hurricane delta landfall gulf coast category 3...</td>\n",
       "      <td>0</td>\n",
       "      <td>0.0</td>\n",
       "    </tr>\n",
       "    <tr>\n",
       "      <th>48472</th>\n",
       "      <td>2020-10-07 17:00:00</td>\n",
       "      <td>13.5</td>\n",
       "      <td>17.5</td>\n",
       "      <td>54.0</td>\n",
       "      <td>10.5</td>\n",
       "      <td>8.5</td>\n",
       "      <td>150 million join extreme poor world bank© prov...</td>\n",
       "      <td>0</td>\n",
       "      <td>0.0</td>\n",
       "    </tr>\n",
       "    <tr>\n",
       "      <th>48473</th>\n",
       "      <td>2020-10-07 18:00:00</td>\n",
       "      <td>13.5</td>\n",
       "      <td>17.5</td>\n",
       "      <td>50.0</td>\n",
       "      <td>10.5</td>\n",
       "      <td>8.0</td>\n",
       "      <td>china 2060 carbon neutral goal bill hit $ 5 tr...</td>\n",
       "      <td>0</td>\n",
       "      <td>0.0</td>\n",
       "    </tr>\n",
       "    <tr>\n",
       "      <th>48474</th>\n",
       "      <td>2020-10-07 19:00:00</td>\n",
       "      <td>13.5</td>\n",
       "      <td>17.5</td>\n",
       "      <td>46.0</td>\n",
       "      <td>10.5</td>\n",
       "      <td>7.0</td>\n",
       "      <td>dare city 2020 kejriwal speak ev policy odd sc...</td>\n",
       "      <td>0</td>\n",
       "      <td>0.0</td>\n",
       "    </tr>\n",
       "    <tr>\n",
       "      <th>48475</th>\n",
       "      <td>2020-10-07 20:00:00</td>\n",
       "      <td>13.0</td>\n",
       "      <td>17.0</td>\n",
       "      <td>39.5</td>\n",
       "      <td>10.0</td>\n",
       "      <td>6.0</td>\n",
       "      <td>covid climate denialmean issue leadership cruc...</td>\n",
       "      <td>0</td>\n",
       "      <td>0.0</td>\n",
       "    </tr>\n",
       "  </tbody>\n",
       "</table>\n",
       "<p>29389 rows × 9 columns</p>\n",
       "</div>"
      ],
      "text/plain": [
       "                     date  depression  anxiety  government  politics  \\\n",
       "0     2015-03-02 10:00:00        15.0     16.0        71.0       4.0   \n",
       "5     2015-03-02 15:00:00        18.0     13.0        42.0       6.0   \n",
       "6     2015-03-02 16:00:00        17.0     13.0        41.0       6.0   \n",
       "8     2015-03-02 18:00:00        18.0     14.0        39.0       6.0   \n",
       "10    2015-03-02 20:00:00        17.0     13.0        35.0       5.0   \n",
       "...                   ...         ...      ...         ...       ...   \n",
       "48471 2020-10-07 16:00:00        14.5     17.0        54.0      11.0   \n",
       "48472 2020-10-07 17:00:00        13.5     17.5        54.0      10.5   \n",
       "48473 2020-10-07 18:00:00        13.5     17.5        50.0      10.5   \n",
       "48474 2020-10-07 19:00:00        13.5     17.5        46.0      10.5   \n",
       "48475 2020-10-07 20:00:00        13.0     17.0        39.5      10.0   \n",
       "\n",
       "       democracy                                         title_text  \\\n",
       "0            2.0  america clean energy laggardanswer resound myr...   \n",
       "5            5.0  watch meet press treat climate change big joke...   \n",
       "6            5.0  no_titlemary bowerman usa today network visito...   \n",
       "8            4.0  russian energy deal come contentious timemr. f...   \n",
       "10           4.0  climate change cause syrian civil warclimate c...   \n",
       "...          ...                                                ...   \n",
       "48471        8.5  hurricane delta landfall gulf coast category 3...   \n",
       "48472        8.5  150 million join extreme poor world bank© prov...   \n",
       "48473        8.0  china 2060 carbon neutral goal bill hit $ 5 tr...   \n",
       "48474        7.0  dare city 2020 kejriwal speak ev policy odd sc...   \n",
       "48475        6.0  covid climate denialmean issue leadership cruc...   \n",
       "\n",
       "       depression_binary  shifted_12h  \n",
       "0                      0          0.0  \n",
       "5                      0          0.0  \n",
       "6                      0          0.0  \n",
       "8                      0          0.0  \n",
       "10                     0          0.0  \n",
       "...                  ...          ...  \n",
       "48471                  0          0.0  \n",
       "48472                  0          0.0  \n",
       "48473                  0          0.0  \n",
       "48474                  0          0.0  \n",
       "48475                  0          0.0  \n",
       "\n",
       "[29389 rows x 9 columns]"
      ]
     },
     "execution_count": 24,
     "metadata": {},
     "output_type": "execute_result"
    }
   ],
   "source": [
    "gtrends_text_final"
   ]
  },
  {
   "cell_type": "code",
   "execution_count": 20,
   "metadata": {},
   "outputs": [
    {
     "name": "stdout",
     "output_type": "stream",
     "text": [
      "setting x to title_text and y to shifte_12h\n"
     ]
    },
    {
     "data": {
      "text/plain": [
       "'x_shape: (29389,)'"
      ]
     },
     "metadata": {},
     "output_type": "display_data"
    },
    {
     "data": {
      "text/plain": [
       "'y_shape: (29389,)'"
      ]
     },
     "metadata": {},
     "output_type": "display_data"
    },
    {
     "name": "stdout",
     "output_type": "stream",
     "text": [
      "creating test train split\n",
      "X_train: (20572,), y_train: (20572,), X_test: (8817,), y_test: (8817,)\n"
     ]
    }
   ],
   "source": [
    "#train test split\n",
    "print('setting x to title_text and y to shifte_12h')\n",
    "X = gtrends_text_final['title_text']\n",
    "y = gtrends_text_final['shifted_12h']\n",
    "display(f'x_shape: {X.shape}')\n",
    "display(f'y_shape: {y.shape}')\n",
    "\n",
    "print('creating test train split')\n",
    "X_train, X_test, y_train, y_test = train_test_split(X, y, test_size=.3, stratify=y)\n",
    "\n",
    "print(f'X_train: {X_train.shape}, y_train: {y_train.shape}, X_test: {X_test.shape}, y_test: {y_test.shape}')"
   ]
  },
  {
   "cell_type": "code",
   "execution_count": 39,
   "metadata": {},
   "outputs": [
    {
     "name": "stdout",
     "output_type": "stream",
     "text": [
      "Google news model downlownded\n"
     ]
    }
   ],
   "source": [
    "#download and set word vector pretrained model\n",
    "embedding = \"https://tfhub.dev/google/nnlm-en-dim128/2\"\n",
    "hub_layer = hub.KerasLayer(embedding, input_shape=[], dtype=tf.string, trainable=True)\n",
    "\n",
    "print('Google news model downlownded')"
   ]
  },
  {
   "cell_type": "code",
   "execution_count": 21,
   "metadata": {},
   "outputs": [
    {
     "name": "stdout",
     "output_type": "stream",
     "text": [
      "model defined and compiled\n"
     ]
    }
   ],
   "source": [
    "#define feed forward neural network with one embed layer and 4 dense layers\n",
    "model = tf.keras.Sequential()\n",
    "model.add(hub_layer)\n",
    "model.add(tf.keras.layers.Dense(16, activation='relu'))\n",
    "model.add(tf.keras.layers.Dense(8, activation='relu'))\n",
    "model.add(tf.keras.layers.Dense(4, activation='relu'))\n",
    "model.add(tf.keras.layers.Dropout(0.5))\n",
    "model.add(tf.keras.layers.Dense(1))\n",
    "\n",
    "#compile model\n",
    "model.compile(optimizer='adam',\n",
    "             loss=tf.keras.losses.BinaryCrossentropy(from_logits=True),\n",
    "             metrics=['accuracy'])\n",
    "print('model defined and compiled')"
   ]
  },
  {
   "cell_type": "code",
   "execution_count": 22,
   "metadata": {},
   "outputs": [
    {
     "name": "stdout",
     "output_type": "stream",
     "text": [
      "training model\n",
      "Epoch 1/5\n",
      "643/643 [==============================] - 89s 139ms/step - loss: 0.5256 - accuracy: 0.6407 - val_loss: 0.4095 - val_accuracy: 0.8323\n",
      "Epoch 2/5\n",
      "643/643 [==============================] - 89s 138ms/step - loss: 0.4560 - accuracy: 0.6709 - val_loss: 0.4015 - val_accuracy: 0.8405\n",
      "Epoch 3/5\n",
      "643/643 [==============================] - 89s 138ms/step - loss: 0.4088 - accuracy: 0.6897 - val_loss: 0.4212 - val_accuracy: 0.8157\n",
      "Epoch 4/5\n",
      "643/643 [==============================] - 89s 138ms/step - loss: 0.3817 - accuracy: 0.8196 - val_loss: 0.4328 - val_accuracy: 0.8152\n",
      "Epoch 5/5\n",
      "643/643 [==============================] - 89s 138ms/step - loss: 0.3499 - accuracy: 0.8310 - val_loss: 0.4650 - val_accuracy: 0.7974\n",
      "model training complete\n"
     ]
    }
   ],
   "source": [
    "#train model\n",
    "print('training model')\n",
    "history = model.fit(X_train, y_train, epochs=5, verbose=1, validation_data=(X_test, y_test))\n",
    "print('model training complete')"
   ]
  },
  {
   "cell_type": "code",
   "execution_count": null,
   "metadata": {},
   "outputs": [],
   "source": []
  }
 ],
 "metadata": {
  "kernelspec": {
   "display_name": "Python 3",
   "language": "python",
   "name": "python3"
  },
  "language_info": {
   "codemirror_mode": {
    "name": "ipython",
    "version": 3
   },
   "file_extension": ".py",
   "mimetype": "text/x-python",
   "name": "python",
   "nbconvert_exporter": "python",
   "pygments_lexer": "ipython3",
   "version": "3.8.2"
  },
  "neptune": {
   "notebookId": "012b5827-9e2f-4760-83e2-67c2bcf4f19f"
  }
 },
 "nbformat": 4,
 "nbformat_minor": 4
}
